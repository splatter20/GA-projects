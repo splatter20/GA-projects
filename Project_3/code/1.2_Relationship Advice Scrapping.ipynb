{
 "cells": [
  {
   "cell_type": "markdown",
   "id": "89fc3f42",
   "metadata": {},
   "source": [
    "## Part 1.2 - Data Scrapping"
   ]
  },
  {
   "cell_type": "markdown",
   "id": "2d787f18",
   "metadata": {},
   "source": [
    "After scrapping the data for marriage subreddit, I will scrap the data for relationship subreddit."
   ]
  },
  {
   "cell_type": "code",
   "execution_count": 1,
   "id": "a482a524",
   "metadata": {},
   "outputs": [],
   "source": [
    "# Importing required library\n",
    "import requests\n",
    "import pandas as pd"
   ]
  },
  {
   "cell_type": "markdown",
   "id": "a150187a",
   "metadata": {},
   "source": [
    "### Data Scrapping of relationship subreddit\n",
    "\n",
    "Recreating the function used previously"
   ]
  },
  {
   "cell_type": "code",
   "execution_count": 4,
   "id": "f7e2aebb",
   "metadata": {},
   "outputs": [],
   "source": [
    "# Instantiating the function\n",
    "def reddit_pushshift(reps, utc_int=None, subreddit, final_df):\n",
    "    \n",
    "    # Setting the initial time of the post\n",
    "    last_utc = utc_int\n",
    "    \n",
    "    # For loop to extract the post until the desired number of posts\n",
    "    for rep in range(reps):\n",
    "        \n",
    "        # Setting the base url and params\n",
    "        url = 'https://api.pushshift.io//reddit/search/submission/'\n",
    "        params = {\n",
    "        'subreddit': subreddit,\n",
    "        'size': 100,\n",
    "        'before': last_utc\n",
    "        }\n",
    "        \n",
    "        res = requests.get(url, params)\n",
    "        data = res.json()\n",
    "        posts = data['data']\n",
    "\n",
    "        # Create dataframe of posts with desired columns\n",
    "        df = pd.DataFrame(posts)\n",
    "\n",
    "        df = df[['selftext', 'title', 'created_utc', 'id', 'score']]\n",
    "        \n",
    "        # Concatenate dataframe to an existing dataframe\n",
    "        final_df = pd.concat(\n",
    "            objs=[final_df, df],\n",
    "            axis=0,\n",
    "        )\n",
    "        \n",
    "        # Resetting the index after concatenating\n",
    "        final_df.reset_index(drop=True, inplace=True)\n",
    "        \n",
    "        # Reset the time factor to the time of last post\n",
    "        last_utc = final_df['created_utc'][-1:]\n",
    "        \n",
    "        # To check on the progress of the extraction\n",
    "        print(rep, last_utc)\n",
    "    \n",
    "    return final_df\n"
   ]
  },
  {
   "cell_type": "code",
   "execution_count": 5,
   "id": "707be15a",
   "metadata": {},
   "outputs": [],
   "source": [
    "# Creating an empty dataframe to append the extracted posts.\n",
    "relationship_df = pd.DataFrame(columns = ['selftext', 'title', 'created_utc', 'id', 'score'])"
   ]
  },
  {
   "cell_type": "code",
   "execution_count": 6,
   "id": "c09faa87",
   "metadata": {},
   "outputs": [
    {
     "data": {
      "text/html": [
       "<div>\n",
       "<style scoped>\n",
       "    .dataframe tbody tr th:only-of-type {\n",
       "        vertical-align: middle;\n",
       "    }\n",
       "\n",
       "    .dataframe tbody tr th {\n",
       "        vertical-align: top;\n",
       "    }\n",
       "\n",
       "    .dataframe thead th {\n",
       "        text-align: right;\n",
       "    }\n",
       "</style>\n",
       "<table border=\"1\" class=\"dataframe\">\n",
       "  <thead>\n",
       "    <tr style=\"text-align: right;\">\n",
       "      <th></th>\n",
       "      <th>selftext</th>\n",
       "      <th>title</th>\n",
       "      <th>created_utc</th>\n",
       "      <th>id</th>\n",
       "      <th>score</th>\n",
       "    </tr>\n",
       "  </thead>\n",
       "  <tbody>\n",
       "  </tbody>\n",
       "</table>\n",
       "</div>"
      ],
      "text/plain": [
       "Empty DataFrame\n",
       "Columns: [selftext, title, created_utc, id, score]\n",
       "Index: []"
      ]
     },
     "execution_count": 6,
     "metadata": {},
     "output_type": "execute_result"
    }
   ],
   "source": [
    "relationship_df"
   ]
  },
  {
   "cell_type": "code",
   "execution_count": 7,
   "id": "1edeb7b2",
   "metadata": {
    "scrolled": false
   },
   "outputs": [
    {
     "name": "stdout",
     "output_type": "stream",
     "text": [
      "0 99    1648485038\n",
      "Name: created_utc, dtype: object\n",
      "1 199    1648482129\n",
      "Name: created_utc, dtype: object\n",
      "2 299    1648478049\n",
      "Name: created_utc, dtype: object\n",
      "3 399    1648473927\n",
      "Name: created_utc, dtype: object\n",
      "4 499    1648469520\n",
      "Name: created_utc, dtype: object\n",
      "5 599    1648463807\n",
      "Name: created_utc, dtype: object\n",
      "6 699    1648458747\n",
      "Name: created_utc, dtype: object\n",
      "7 799    1648453299\n",
      "Name: created_utc, dtype: object\n",
      "8 899    1648448300\n",
      "Name: created_utc, dtype: object\n",
      "9 999    1648444796\n",
      "Name: created_utc, dtype: object\n"
     ]
    }
   ],
   "source": [
    "# Extract 100 post 100 times.\n",
    "relationship_df100 = reddit_pushshift(100, None, 'relationship',  relationship_df)"
   ]
  },
  {
   "cell_type": "code",
   "execution_count": null,
   "id": "631f1cd4",
   "metadata": {},
   "outputs": [],
   "source": [
    "# Check on the posts that were extracted\n",
    "relationship_df100"
   ]
  },
  {
   "cell_type": "code",
   "execution_count": null,
   "id": "8fd36a41",
   "metadata": {},
   "outputs": [],
   "source": [
    "# Create csv for data cleaning later\n",
    "relationship_df100.to_csv('relationship_advice_all_posts.csv', index=False)"
   ]
  },
  {
   "cell_type": "markdown",
   "id": "7cb22772",
   "metadata": {},
   "source": [
    "### Proceed to next notebook for data cleaning."
   ]
  }
 ],
 "metadata": {
  "kernelspec": {
   "display_name": "Python 3 (ipykernel)",
   "language": "python",
   "name": "python3"
  },
  "language_info": {
   "codemirror_mode": {
    "name": "ipython",
    "version": 3
   },
   "file_extension": ".py",
   "mimetype": "text/x-python",
   "name": "python",
   "nbconvert_exporter": "python",
   "pygments_lexer": "ipython3",
   "version": "3.8.12"
  }
 },
 "nbformat": 4,
 "nbformat_minor": 5
}
