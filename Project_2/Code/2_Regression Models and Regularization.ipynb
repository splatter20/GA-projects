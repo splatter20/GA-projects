{
 "cells": [
  {
   "cell_type": "markdown",
   "id": "fad1b081",
   "metadata": {},
   "source": [
    "<img src=\"http://imgur.com/1ZcRyrc.png\" style=\"float: left; margin: 20px; height: 55px\">\n",
    "\n",
    "# Project 2: Ames Housing Data and Kaggle Challenge"
   ]
  },
  {
   "cell_type": "markdown",
   "id": "22c84b02",
   "metadata": {},
   "source": [
    "## Part 2"
   ]
  },
  {
   "cell_type": "markdown",
   "id": "2d8cf056",
   "metadata": {},
   "source": [
    "### Creating Linear Regression Models"
   ]
  },
  {
   "cell_type": "markdown",
   "id": "9b9dbff4",
   "metadata": {},
   "source": [
    "After cleaning the data and doing EDA on the data, I will now begin to create models which to predict house prices. Once the model is created, I will evaluate the model using MSE and regularize it using lasso and ridge. \n",
    "\n",
    "The model with the lowest MSE will be chosen."
   ]
  },
  {
   "cell_type": "code",
   "execution_count": 1,
   "id": "f7149bae",
   "metadata": {},
   "outputs": [],
   "source": [
    "# Importing necessary libraries\n",
    "import pandas as pd\n",
    "import numpy as np\n",
    "import matplotlib.pyplot as plt\n",
    "import seaborn as sns\n",
    "\n",
    "from sklearn.linear_model import (\n",
    "    LinearRegression,\n",
    "    Lasso,\n",
    "    LassoCV,\n",
    "    Ridge,\n",
    "    RidgeCV,\n",
    ")\n",
    "\n",
    "from sklearn.metrics import mean_squared_error\n",
    "\n",
    "from sklearn.model_selection import (\n",
    "    train_test_split,\n",
    "    cross_val_score\n",
    ")\n",
    "\n",
    "from sklearn.preprocessing import (\n",
    "    PolynomialFeatures,\n",
    "    StandardScaler\n",
    ")"
   ]
  },
  {
   "cell_type": "code",
   "execution_count": 2,
   "id": "2d7e6087",
   "metadata": {},
   "outputs": [],
   "source": [
    "# importing the data set which was cleaned previously\n",
    "ames = pd.read_csv('../datasets/ames_cleaned.csv')"
   ]
  },
  {
   "cell_type": "code",
   "execution_count": 3,
   "id": "c478bdcd",
   "metadata": {
    "scrolled": true
   },
   "outputs": [
    {
     "data": {
      "text/html": [
       "<div>\n",
       "<style scoped>\n",
       "    .dataframe tbody tr th:only-of-type {\n",
       "        vertical-align: middle;\n",
       "    }\n",
       "\n",
       "    .dataframe tbody tr th {\n",
       "        vertical-align: top;\n",
       "    }\n",
       "\n",
       "    .dataframe thead th {\n",
       "        text-align: right;\n",
       "    }\n",
       "</style>\n",
       "<table border=\"1\" class=\"dataframe\">\n",
       "  <thead>\n",
       "    <tr style=\"text-align: right;\">\n",
       "      <th></th>\n",
       "      <th>id</th>\n",
       "      <th>pid</th>\n",
       "      <th>ms_subclass</th>\n",
       "      <th>ms_zoning</th>\n",
       "      <th>lot_frontage</th>\n",
       "      <th>lot_area</th>\n",
       "      <th>street</th>\n",
       "      <th>lot_shape</th>\n",
       "      <th>land_contour</th>\n",
       "      <th>utilities</th>\n",
       "      <th>...</th>\n",
       "      <th>screen_porch</th>\n",
       "      <th>pool_area</th>\n",
       "      <th>misc_val</th>\n",
       "      <th>mo_sold</th>\n",
       "      <th>yr_sold</th>\n",
       "      <th>sale_type</th>\n",
       "      <th>saleprice</th>\n",
       "      <th>age_since_remodel</th>\n",
       "      <th>age</th>\n",
       "      <th>neighborhood_value</th>\n",
       "    </tr>\n",
       "  </thead>\n",
       "  <tbody>\n",
       "    <tr>\n",
       "      <th>0</th>\n",
       "      <td>109</td>\n",
       "      <td>533352170</td>\n",
       "      <td>60</td>\n",
       "      <td>RL</td>\n",
       "      <td>0.0</td>\n",
       "      <td>13517</td>\n",
       "      <td>Pave</td>\n",
       "      <td>IR1</td>\n",
       "      <td>Lvl</td>\n",
       "      <td>AllPub</td>\n",
       "      <td>...</td>\n",
       "      <td>0</td>\n",
       "      <td>0</td>\n",
       "      <td>0</td>\n",
       "      <td>3</td>\n",
       "      <td>2010</td>\n",
       "      <td>WD</td>\n",
       "      <td>130500</td>\n",
       "      <td>5</td>\n",
       "      <td>34</td>\n",
       "      <td>1.37</td>\n",
       "    </tr>\n",
       "    <tr>\n",
       "      <th>1</th>\n",
       "      <td>544</td>\n",
       "      <td>531379050</td>\n",
       "      <td>60</td>\n",
       "      <td>RL</td>\n",
       "      <td>43.0</td>\n",
       "      <td>11492</td>\n",
       "      <td>Pave</td>\n",
       "      <td>IR1</td>\n",
       "      <td>Lvl</td>\n",
       "      <td>AllPub</td>\n",
       "      <td>...</td>\n",
       "      <td>0</td>\n",
       "      <td>0</td>\n",
       "      <td>0</td>\n",
       "      <td>4</td>\n",
       "      <td>2009</td>\n",
       "      <td>WD</td>\n",
       "      <td>220000</td>\n",
       "      <td>12</td>\n",
       "      <td>13</td>\n",
       "      <td>1.88</td>\n",
       "    </tr>\n",
       "    <tr>\n",
       "      <th>2</th>\n",
       "      <td>153</td>\n",
       "      <td>535304180</td>\n",
       "      <td>20</td>\n",
       "      <td>RL</td>\n",
       "      <td>68.0</td>\n",
       "      <td>7922</td>\n",
       "      <td>Pave</td>\n",
       "      <td>Reg</td>\n",
       "      <td>Lvl</td>\n",
       "      <td>AllPub</td>\n",
       "      <td>...</td>\n",
       "      <td>0</td>\n",
       "      <td>0</td>\n",
       "      <td>0</td>\n",
       "      <td>1</td>\n",
       "      <td>2010</td>\n",
       "      <td>WD</td>\n",
       "      <td>109000</td>\n",
       "      <td>3</td>\n",
       "      <td>57</td>\n",
       "      <td>1.46</td>\n",
       "    </tr>\n",
       "    <tr>\n",
       "      <th>3</th>\n",
       "      <td>318</td>\n",
       "      <td>916386060</td>\n",
       "      <td>60</td>\n",
       "      <td>RL</td>\n",
       "      <td>73.0</td>\n",
       "      <td>9802</td>\n",
       "      <td>Pave</td>\n",
       "      <td>Reg</td>\n",
       "      <td>Lvl</td>\n",
       "      <td>AllPub</td>\n",
       "      <td>...</td>\n",
       "      <td>0</td>\n",
       "      <td>0</td>\n",
       "      <td>0</td>\n",
       "      <td>4</td>\n",
       "      <td>2010</td>\n",
       "      <td>WD</td>\n",
       "      <td>174000</td>\n",
       "      <td>3</td>\n",
       "      <td>4</td>\n",
       "      <td>2.40</td>\n",
       "    </tr>\n",
       "    <tr>\n",
       "      <th>4</th>\n",
       "      <td>255</td>\n",
       "      <td>906425045</td>\n",
       "      <td>50</td>\n",
       "      <td>RL</td>\n",
       "      <td>82.0</td>\n",
       "      <td>14235</td>\n",
       "      <td>Pave</td>\n",
       "      <td>IR1</td>\n",
       "      <td>Lvl</td>\n",
       "      <td>AllPub</td>\n",
       "      <td>...</td>\n",
       "      <td>0</td>\n",
       "      <td>0</td>\n",
       "      <td>0</td>\n",
       "      <td>3</td>\n",
       "      <td>2010</td>\n",
       "      <td>WD</td>\n",
       "      <td>138500</td>\n",
       "      <td>17</td>\n",
       "      <td>110</td>\n",
       "      <td>1.88</td>\n",
       "    </tr>\n",
       "    <tr>\n",
       "      <th>...</th>\n",
       "      <td>...</td>\n",
       "      <td>...</td>\n",
       "      <td>...</td>\n",
       "      <td>...</td>\n",
       "      <td>...</td>\n",
       "      <td>...</td>\n",
       "      <td>...</td>\n",
       "      <td>...</td>\n",
       "      <td>...</td>\n",
       "      <td>...</td>\n",
       "      <td>...</td>\n",
       "      <td>...</td>\n",
       "      <td>...</td>\n",
       "      <td>...</td>\n",
       "      <td>...</td>\n",
       "      <td>...</td>\n",
       "      <td>...</td>\n",
       "      <td>...</td>\n",
       "      <td>...</td>\n",
       "      <td>...</td>\n",
       "      <td>...</td>\n",
       "    </tr>\n",
       "    <tr>\n",
       "      <th>2041</th>\n",
       "      <td>1587</td>\n",
       "      <td>921126030</td>\n",
       "      <td>20</td>\n",
       "      <td>RL</td>\n",
       "      <td>79.0</td>\n",
       "      <td>11449</td>\n",
       "      <td>Pave</td>\n",
       "      <td>IR1</td>\n",
       "      <td>HLS</td>\n",
       "      <td>AllPub</td>\n",
       "      <td>...</td>\n",
       "      <td>0</td>\n",
       "      <td>0</td>\n",
       "      <td>0</td>\n",
       "      <td>1</td>\n",
       "      <td>2008</td>\n",
       "      <td>WD</td>\n",
       "      <td>298751</td>\n",
       "      <td>1</td>\n",
       "      <td>1</td>\n",
       "      <td>2.40</td>\n",
       "    </tr>\n",
       "    <tr>\n",
       "      <th>2042</th>\n",
       "      <td>785</td>\n",
       "      <td>905377130</td>\n",
       "      <td>30</td>\n",
       "      <td>RL</td>\n",
       "      <td>0.0</td>\n",
       "      <td>12342</td>\n",
       "      <td>Pave</td>\n",
       "      <td>IR1</td>\n",
       "      <td>Lvl</td>\n",
       "      <td>AllPub</td>\n",
       "      <td>...</td>\n",
       "      <td>0</td>\n",
       "      <td>0</td>\n",
       "      <td>0</td>\n",
       "      <td>3</td>\n",
       "      <td>2009</td>\n",
       "      <td>WD</td>\n",
       "      <td>82500</td>\n",
       "      <td>59</td>\n",
       "      <td>69</td>\n",
       "      <td>1.30</td>\n",
       "    </tr>\n",
       "    <tr>\n",
       "      <th>2043</th>\n",
       "      <td>916</td>\n",
       "      <td>909253010</td>\n",
       "      <td>50</td>\n",
       "      <td>RL</td>\n",
       "      <td>57.0</td>\n",
       "      <td>7558</td>\n",
       "      <td>Pave</td>\n",
       "      <td>Reg</td>\n",
       "      <td>Bnk</td>\n",
       "      <td>AllPub</td>\n",
       "      <td>...</td>\n",
       "      <td>0</td>\n",
       "      <td>0</td>\n",
       "      <td>0</td>\n",
       "      <td>3</td>\n",
       "      <td>2009</td>\n",
       "      <td>WD</td>\n",
       "      <td>177000</td>\n",
       "      <td>59</td>\n",
       "      <td>81</td>\n",
       "      <td>2.06</td>\n",
       "    </tr>\n",
       "    <tr>\n",
       "      <th>2044</th>\n",
       "      <td>639</td>\n",
       "      <td>535179160</td>\n",
       "      <td>20</td>\n",
       "      <td>RL</td>\n",
       "      <td>80.0</td>\n",
       "      <td>10400</td>\n",
       "      <td>Pave</td>\n",
       "      <td>Reg</td>\n",
       "      <td>Lvl</td>\n",
       "      <td>AllPub</td>\n",
       "      <td>...</td>\n",
       "      <td>0</td>\n",
       "      <td>0</td>\n",
       "      <td>0</td>\n",
       "      <td>11</td>\n",
       "      <td>2009</td>\n",
       "      <td>WD</td>\n",
       "      <td>144000</td>\n",
       "      <td>53</td>\n",
       "      <td>53</td>\n",
       "      <td>1.46</td>\n",
       "    </tr>\n",
       "    <tr>\n",
       "      <th>2045</th>\n",
       "      <td>10</td>\n",
       "      <td>527162130</td>\n",
       "      <td>60</td>\n",
       "      <td>RL</td>\n",
       "      <td>60.0</td>\n",
       "      <td>7500</td>\n",
       "      <td>Pave</td>\n",
       "      <td>Reg</td>\n",
       "      <td>Lvl</td>\n",
       "      <td>AllPub</td>\n",
       "      <td>...</td>\n",
       "      <td>0</td>\n",
       "      <td>0</td>\n",
       "      <td>0</td>\n",
       "      <td>6</td>\n",
       "      <td>2010</td>\n",
       "      <td>WD</td>\n",
       "      <td>189000</td>\n",
       "      <td>11</td>\n",
       "      <td>11</td>\n",
       "      <td>1.89</td>\n",
       "    </tr>\n",
       "  </tbody>\n",
       "</table>\n",
       "<p>2046 rows × 79 columns</p>\n",
       "</div>"
      ],
      "text/plain": [
       "        id        pid  ms_subclass ms_zoning  lot_frontage  lot_area street  \\\n",
       "0      109  533352170           60        RL           0.0     13517   Pave   \n",
       "1      544  531379050           60        RL          43.0     11492   Pave   \n",
       "2      153  535304180           20        RL          68.0      7922   Pave   \n",
       "3      318  916386060           60        RL          73.0      9802   Pave   \n",
       "4      255  906425045           50        RL          82.0     14235   Pave   \n",
       "...    ...        ...          ...       ...           ...       ...    ...   \n",
       "2041  1587  921126030           20        RL          79.0     11449   Pave   \n",
       "2042   785  905377130           30        RL           0.0     12342   Pave   \n",
       "2043   916  909253010           50        RL          57.0      7558   Pave   \n",
       "2044   639  535179160           20        RL          80.0     10400   Pave   \n",
       "2045    10  527162130           60        RL          60.0      7500   Pave   \n",
       "\n",
       "     lot_shape land_contour utilities  ... screen_porch pool_area misc_val  \\\n",
       "0          IR1          Lvl    AllPub  ...            0         0        0   \n",
       "1          IR1          Lvl    AllPub  ...            0         0        0   \n",
       "2          Reg          Lvl    AllPub  ...            0         0        0   \n",
       "3          Reg          Lvl    AllPub  ...            0         0        0   \n",
       "4          IR1          Lvl    AllPub  ...            0         0        0   \n",
       "...        ...          ...       ...  ...          ...       ...      ...   \n",
       "2041       IR1          HLS    AllPub  ...            0         0        0   \n",
       "2042       IR1          Lvl    AllPub  ...            0         0        0   \n",
       "2043       Reg          Bnk    AllPub  ...            0         0        0   \n",
       "2044       Reg          Lvl    AllPub  ...            0         0        0   \n",
       "2045       Reg          Lvl    AllPub  ...            0         0        0   \n",
       "\n",
       "     mo_sold yr_sold sale_type saleprice  age_since_remodel  age  \\\n",
       "0          3    2010       WD     130500                  5   34   \n",
       "1          4    2009       WD     220000                 12   13   \n",
       "2          1    2010       WD     109000                  3   57   \n",
       "3          4    2010       WD     174000                  3    4   \n",
       "4          3    2010       WD     138500                 17  110   \n",
       "...      ...     ...       ...       ...                ...  ...   \n",
       "2041       1    2008       WD     298751                  1    1   \n",
       "2042       3    2009       WD      82500                 59   69   \n",
       "2043       3    2009       WD     177000                 59   81   \n",
       "2044      11    2009       WD     144000                 53   53   \n",
       "2045       6    2010       WD     189000                 11   11   \n",
       "\n",
       "      neighborhood_value  \n",
       "0                   1.37  \n",
       "1                   1.88  \n",
       "2                   1.46  \n",
       "3                   2.40  \n",
       "4                   1.88  \n",
       "...                  ...  \n",
       "2041                2.40  \n",
       "2042                1.30  \n",
       "2043                2.06  \n",
       "2044                1.46  \n",
       "2045                1.89  \n",
       "\n",
       "[2046 rows x 79 columns]"
      ]
     },
     "execution_count": 3,
     "metadata": {},
     "output_type": "execute_result"
    }
   ],
   "source": [
    "ames"
   ]
  },
  {
   "cell_type": "markdown",
   "id": "bc4cdc9f",
   "metadata": {},
   "source": [
    "### Model 1\n",
    "\n",
    "As the first model, I will create a simple model based on only a features which are intuitive to predicting sale price."
   ]
  },
  {
   "cell_type": "code",
   "execution_count": 4,
   "id": "35beeb80",
   "metadata": {},
   "outputs": [],
   "source": [
    "# choosing numerical features to make a simple model\n",
    "features_1 = [\n",
    "    'overall_qual', 'gr_liv_area','garage_area',\n",
    "    'age', 'neighborhood_value', 'totrms_abvgrd',\n",
    "    'full_bath'\n",
    "]"
   ]
  },
  {
   "cell_type": "code",
   "execution_count": 5,
   "id": "7df2ac10",
   "metadata": {},
   "outputs": [],
   "source": [
    "# Assembling the X and y variables\n",
    "X1 = ames[features_1]\n",
    "y1 = ames['saleprice']\n",
    "\n",
    "# Creating a train/test split with a test size of 20%\n",
    "X_train1, X_test1, y_train1, y_test1 = train_test_split(\n",
    "    X1,\n",
    "    y1,\n",
    "    test_size=0.2,\n",
    ")"
   ]
  },
  {
   "cell_type": "code",
   "execution_count": 6,
   "id": "02e23922",
   "metadata": {},
   "outputs": [],
   "source": [
    "# Scale the the variables as the features are all on different scales.\n",
    "ss = StandardScaler()\n",
    "ss.fit(X_train1)\n",
    "\n",
    "Z_train1 = ss.transform(X_train1)\n",
    "Z_test1 = ss.transform(X_test1)\n"
   ]
  },
  {
   "cell_type": "code",
   "execution_count": 7,
   "id": "8fe57a39",
   "metadata": {},
   "outputs": [],
   "source": [
    "# Instantiating the model\n",
    "lr1 = LinearRegression()"
   ]
  },
  {
   "cell_type": "code",
   "execution_count": 8,
   "id": "16240237",
   "metadata": {},
   "outputs": [
    {
     "data": {
      "text/plain": [
       "LinearRegression()"
      ]
     },
     "execution_count": 8,
     "metadata": {},
     "output_type": "execute_result"
    }
   ],
   "source": [
    "# Fitting it to the scaled variables\n",
    "lr1.fit(Z_train1, y_train1)"
   ]
  },
  {
   "cell_type": "code",
   "execution_count": 9,
   "id": "2c4964f2",
   "metadata": {},
   "outputs": [
    {
     "data": {
      "text/plain": [
       "1118173701.0934584"
      ]
     },
     "execution_count": 9,
     "metadata": {},
     "output_type": "execute_result"
    }
   ],
   "source": [
    "# Evaluating with 10 folds cross validation scoring with mean squared error\n",
    "- cross_val_score(\n",
    "    lr1,\n",
    "    Z_train1,\n",
    "    y_train1,\n",
    "    cv=10,\n",
    "    scoring='neg_mean_squared_error'\n",
    ").mean()"
   ]
  },
  {
   "cell_type": "code",
   "execution_count": 10,
   "id": "b5e158f9",
   "metadata": {},
   "outputs": [
    {
     "data": {
      "text/plain": [
       "1214244214.399837"
      ]
     },
     "execution_count": 10,
     "metadata": {},
     "output_type": "execute_result"
    }
   ],
   "source": [
    "# Calculating the mean squared error on the test data\n",
    "mean_squared_error(\n",
    "    y_test1,\n",
    "    lr1.predict(Z_test1)\n",
    ")"
   ]
  },
  {
   "cell_type": "code",
   "execution_count": 11,
   "id": "826d3ad8",
   "metadata": {
    "scrolled": false
   },
   "outputs": [
    {
     "data": {
      "image/png": "[encoded data removed]",
      "text/plain": [
       "<Figure size 432x288 with 1 Axes>"
      ]
     },
     "metadata": {
      "needs_background": "light"
     },
     "output_type": "display_data"
    }
   ],
   "source": [
    "plt.scatter(lr1.predict(Z_test1), y_test1)\n",
    "plt.title('Model 1: Predicted Price vs Actual Price')\n",
    "plt.xlabel('Predicted Price')\n",
    "plt.ylabel('Actual Price');"
   ]
  },
  {
   "cell_type": "markdown",
   "id": "e4bc79bc",
   "metadata": {},
   "source": [
    "#### Performing Lasso regularization on model 1"
   ]
  },
  {
   "cell_type": "code",
   "execution_count": 12,
   "id": "9671fe82",
   "metadata": {},
   "outputs": [],
   "source": [
    "# Instantiating Lasso regularization\n",
    "lasso1 = LassoCV(n_alphas=200)"
   ]
  },
  {
   "cell_type": "code",
   "execution_count": 13,
   "id": "0955121f",
   "metadata": {},
   "outputs": [
    {
     "data": {
      "text/plain": [
       "64.02158622058437"
      ]
     },
     "execution_count": 13,
     "metadata": {},
     "output_type": "execute_result"
    }
   ],
   "source": [
    "# Fitting the lasso model\n",
    "lasso1.fit(Z_train1, y_train1)\n",
    "\n",
    "# Calculating best alpha for the model\n",
    "lasso1.alpha_"
   ]
  },
  {
   "cell_type": "code",
   "execution_count": 14,
   "id": "ddcfb79f",
   "metadata": {},
   "outputs": [],
   "source": [
    "# Reinstantiate Lasso with the best alpha.\n",
    "lasso_best1 = Lasso(alpha=lasso1.alpha_)"
   ]
  },
  {
   "cell_type": "code",
   "execution_count": 15,
   "id": "33d621bd",
   "metadata": {},
   "outputs": [
    {
     "data": {
      "text/plain": [
       "1118260904.41443"
      ]
     },
     "execution_count": 15,
     "metadata": {},
     "output_type": "execute_result"
    }
   ],
   "source": [
    "# Evaluating with 10 folds cross validation scoring with mean squared error\n",
    "- cross_val_score(\n",
    "    lasso_best1,\n",
    "    Z_train1,\n",
    "    y_train1,\n",
    "    cv=10,\n",
    "    scoring='neg_mean_squared_error'\n",
    ").mean()"
   ]
  },
  {
   "cell_type": "code",
   "execution_count": 16,
   "id": "24d5b9f5",
   "metadata": {},
   "outputs": [
    {
     "data": {
      "text/plain": [
       "1211992546.0048723"
      ]
     },
     "execution_count": 16,
     "metadata": {},
     "output_type": "execute_result"
    }
   ],
   "source": [
    "# Refitting the lasso model\n",
    "lasso_best1.fit(Z_train1, y_train1)\n",
    "\n",
    "# Calculating the mean squared error on the test data\n",
    "mean_squared_error(\n",
    "    y_test1,\n",
    "    lasso_best1.predict(Z_test1)\n",
    ")"
   ]
  },
  {
   "cell_type": "code",
   "execution_count": 17,
   "id": "7ae89c0f",
   "metadata": {},
   "outputs": [
    {
     "data": {
      "image/png": "[encoded data removed]",
      "text/plain": [
       "<Figure size 432x288 with 1 Axes>"
      ]
     },
     "metadata": {
      "needs_background": "light"
     },
     "output_type": "display_data"
    }
   ],
   "source": [
    "plt.scatter(lasso_best1.predict(Z_test1), y_test1)\n",
    "plt.title('Model 1 (Lasso): Predicted Price vs Actual Price')\n",
    "plt.xlabel('Predicted Price')\n",
    "plt.ylabel('Actual Price');"
   ]
  },
  {
   "cell_type": "markdown",
   "id": "4efc7d62",
   "metadata": {},
   "source": [
    "#### Performing Ridge regularization on model 1"
   ]
  },
  {
   "cell_type": "code",
   "execution_count": 18,
   "id": "88a3219d",
   "metadata": {},
   "outputs": [],
   "source": [
    "# Instantiating Ridge regularization\n",
    "ridge1 = RidgeCV(alphas=np.logspace(0, 10, 200))"
   ]
  },
  {
   "cell_type": "code",
   "execution_count": 19,
   "id": "a76fc60d",
   "metadata": {},
   "outputs": [
    {
     "data": {
      "text/plain": [
       "4.500557675700499"
      ]
     },
     "execution_count": 19,
     "metadata": {},
     "output_type": "execute_result"
    }
   ],
   "source": [
    "# Fitting the Ridge model\n",
    "ridge1.fit(Z_train1, y_train1)\n",
    "\n",
    "# Calculating best alpha for the model\n",
    "ridge1.alpha_"
   ]
  },
  {
   "cell_type": "code",
   "execution_count": 20,
   "id": "c34ea0e1",
   "metadata": {},
   "outputs": [],
   "source": [
    "# Reinstantiate Lasso with the best alpha.\n",
    "\n",
    "ridge_best1 = Ridge(alpha=ridge1.alpha_)"
   ]
  },
  {
   "cell_type": "code",
   "execution_count": 21,
   "id": "5232548d",
   "metadata": {},
   "outputs": [
    {
     "data": {
      "text/plain": [
       "1118136630.749744"
      ]
     },
     "execution_count": 21,
     "metadata": {},
     "output_type": "execute_result"
    }
   ],
   "source": [
    "# Evaluating with 10 folds cross validation scoring with mean squared error\n",
    "- cross_val_score(\n",
    "    ridge_best1,\n",
    "    Z_train1,\n",
    "    y_train1,\n",
    "    cv=10,\n",
    "    scoring='neg_mean_squared_error'\n",
    ").mean()"
   ]
  },
  {
   "cell_type": "code",
   "execution_count": 22,
   "id": "c9b6aeb5",
   "metadata": {},
   "outputs": [
    {
     "data": {
      "text/plain": [
       "1212538100.20586"
      ]
     },
     "execution_count": 22,
     "metadata": {},
     "output_type": "execute_result"
    }
   ],
   "source": [
    "# Refitting the Ridge model\n",
    "ridge_best1.fit(Z_train1, y_train1)\n",
    "\n",
    "# Calculating the mean squared error on the test data\n",
    "mean_squared_error(\n",
    "    y_test1,\n",
    "    ridge_best1.predict(Z_test1)\n",
    ")"
   ]
  },
  {
   "cell_type": "code",
   "execution_count": 23,
   "id": "f7bfc5fa",
   "metadata": {},
   "outputs": [
    {
     "data": {
      "image/png": "[encoded data removed]",
      "text/plain": [
       "<Figure size 432x288 with 1 Axes>"
      ]
     },
     "metadata": {
      "needs_background": "light"
     },
     "output_type": "display_data"
    }
   ],
   "source": [
    "plt.scatter(ridge_best1.predict(Z_test1), y_test1)\n",
    "plt.title('Model 1 (Ridge): Predicted Price vs Actual Price')\n",
    "plt.xlabel('Predicted Price')\n",
    "plt.ylabel('Actual Price');"
   ]
  },
  {
   "cell_type": "markdown",
   "id": "9d8d40b5",
   "metadata": {},
   "source": [
    "For model 1, the MSE and cross val scores are quite close and penalization does not seem to improve the models much. \n",
    "\n",
    "However, this gives a baseline target for future models to benchmark against.\n",
    "\n",
    "Based on the scatter plots, the graph seem to have a curve. Creating polynomial features may improve the model."
   ]
  },
  {
   "cell_type": "markdown",
   "id": "ad06a148",
   "metadata": {},
   "source": [
    "### Model 2\n",
    "\n",
    "For this model, I will seek to improve on model 1 by introducing polynomial features."
   ]
  },
  {
   "cell_type": "code",
   "execution_count": 24,
   "id": "2cba989f",
   "metadata": {},
   "outputs": [],
   "source": [
    "# Instantiating the PolynomialFeature function with a degree of 2.\n",
    "poly = PolynomialFeatures(include_bias=False, degree=2)"
   ]
  },
  {
   "cell_type": "code",
   "execution_count": 25,
   "id": "e9bb9e83",
   "metadata": {},
   "outputs": [],
   "source": [
    "# Creating the values of PolynomialFeatures\n",
    "X_poly = poly.fit_transform(X1)"
   ]
  },
  {
   "cell_type": "code",
   "execution_count": 26,
   "id": "26382c64",
   "metadata": {},
   "outputs": [],
   "source": [
    "# Recreating the train/test split\n",
    "X_train_poly, X_test_poly, y_train_poly, y_test_poly = train_test_split(\n",
    "    X_poly,\n",
    "    y1,\n",
    "    test_size=0.2,\n",
    ")"
   ]
  },
  {
   "cell_type": "code",
   "execution_count": 27,
   "id": "fe247452",
   "metadata": {},
   "outputs": [],
   "source": [
    "# Scale the polynomial features\n",
    "ss = StandardScaler()\n",
    "ss.fit(X_train_poly)\n",
    "\n",
    "Z_train_poly = ss.transform(X_train_poly)\n",
    "Z_test_poly = ss.transform(X_test_poly)"
   ]
  },
  {
   "cell_type": "code",
   "execution_count": 28,
   "id": "fccdf36c",
   "metadata": {},
   "outputs": [],
   "source": [
    "# Instantiating the linear regression for this model\n",
    "lr_poly = LinearRegression()"
   ]
  },
  {
   "cell_type": "code",
   "execution_count": 29,
   "id": "7dc18e2e",
   "metadata": {},
   "outputs": [
    {
     "data": {
      "text/plain": [
       "LinearRegression()"
      ]
     },
     "execution_count": 29,
     "metadata": {},
     "output_type": "execute_result"
    }
   ],
   "source": [
    "# Fitting the linear regression with the new features\n",
    "lr_poly.fit(Z_train_poly, y_train_poly)"
   ]
  },
  {
   "cell_type": "code",
   "execution_count": 30,
   "id": "78e180a4",
   "metadata": {},
   "outputs": [
    {
     "data": {
      "text/plain": [
       "854867492.2611204"
      ]
     },
     "execution_count": 30,
     "metadata": {},
     "output_type": "execute_result"
    }
   ],
   "source": [
    "# Evaluating with 10 folds cross validation scoring with mean squared error\n",
    "- cross_val_score(\n",
    "    lr_poly,\n",
    "    Z_train_poly,\n",
    "    y_train_poly,\n",
    "    cv=10,\n",
    "    scoring='neg_mean_squared_error'\n",
    ").mean()"
   ]
  },
  {
   "cell_type": "code",
   "execution_count": 31,
   "id": "bbcd976a",
   "metadata": {},
   "outputs": [
    {
     "data": {
      "text/plain": [
       "1041040181.8248837"
      ]
     },
     "execution_count": 31,
     "metadata": {},
     "output_type": "execute_result"
    }
   ],
   "source": [
    "# Calculating the mean squared error on the test data\n",
    "mean_squared_error(\n",
    "    y_test_poly,\n",
    "    lr_poly.predict(Z_test_poly)\n",
    ")"
   ]
  },
  {
   "cell_type": "code",
   "execution_count": 32,
   "id": "b59fa84e",
   "metadata": {},
   "outputs": [
    {
     "data": {
      "image/png": "[encoded data removed]",
      "text/plain": [
       "<Figure size 432x288 with 1 Axes>"
      ]
     },
     "metadata": {
      "needs_background": "light"
     },
     "output_type": "display_data"
    }
   ],
   "source": [
    "plt.scatter(lr_poly.predict(Z_test_poly), y_test_poly)\n",
    "plt.title('Model 2: Predicted Price vs Actual Price')\n",
    "plt.xlabel('Predicted Price')\n",
    "plt.ylabel('Actual Price');"
   ]
  },
  {
   "cell_type": "markdown",
   "id": "cb3f4fdc",
   "metadata": {},
   "source": [
    "#### Performing Lasso regularization on model 2"
   ]
  },
  {
   "cell_type": "code",
   "execution_count": 33,
   "id": "6af1172e",
   "metadata": {},
   "outputs": [],
   "source": [
    "# Instantiating Lasso regularization\n",
    "lasso_poly = LassoCV(n_alphas=200, max_iter=2000, tol=0.001)"
   ]
  },
  {
   "cell_type": "code",
   "execution_count": 34,
   "id": "55f65354",
   "metadata": {},
   "outputs": [
    {
     "data": {
      "text/plain": [
       "68.07213656178153"
      ]
     },
     "execution_count": 34,
     "metadata": {},
     "output_type": "execute_result"
    }
   ],
   "source": [
    "# Fitting the lasso model\n",
    "lasso_poly.fit(Z_train_poly, y_train_poly)\n",
    "\n",
    "# Calculating best alpha for the model\n",
    "lasso_poly.alpha_"
   ]
  },
  {
   "cell_type": "code",
   "execution_count": 35,
   "id": "7de6f863",
   "metadata": {},
   "outputs": [],
   "source": [
    "# Reinstantiate Lasso with the best alpha.\n",
    "lasso_best_poly = Lasso(alpha=lasso_poly.alpha_)"
   ]
  },
  {
   "cell_type": "code",
   "execution_count": 36,
   "id": "fd0f805a",
   "metadata": {},
   "outputs": [
    {
     "name": "stderr",
     "output_type": "stream",
     "text": [
      "/opt/anaconda3/lib/python3.9/site-packages/sklearn/linear_model/_coordinate_descent.py:530: ConvergenceWarning: Objective did not converge. You might want to increase the number of iterations. Duality gap: 21598393004.085938, tolerance: 911813240.1188781\n",
      "  model = cd_fast.enet_coordinate_descent(\n",
      "/opt/anaconda3/lib/python3.9/site-packages/sklearn/linear_model/_coordinate_descent.py:530: ConvergenceWarning: Objective did not converge. You might want to increase the number of iterations. Duality gap: 26349329887.602905, tolerance: 895785388.4625093\n",
      "  model = cd_fast.enet_coordinate_descent(\n",
      "/opt/anaconda3/lib/python3.9/site-packages/sklearn/linear_model/_coordinate_descent.py:530: ConvergenceWarning: Objective did not converge. You might want to increase the number of iterations. Duality gap: 9510684482.565552, tolerance: 902758369.697743\n",
      "  model = cd_fast.enet_coordinate_descent(\n",
      "/opt/anaconda3/lib/python3.9/site-packages/sklearn/linear_model/_coordinate_descent.py:530: ConvergenceWarning: Objective did not converge. You might want to increase the number of iterations. Duality gap: 23830133163.9375, tolerance: 887690639.8200618\n",
      "  model = cd_fast.enet_coordinate_descent(\n",
      "/opt/anaconda3/lib/python3.9/site-packages/sklearn/linear_model/_coordinate_descent.py:530: ConvergenceWarning: Objective did not converge. You might want to increase the number of iterations. Duality gap: 3050882308.5808105, tolerance: 896350160.6597376\n",
      "  model = cd_fast.enet_coordinate_descent(\n",
      "/opt/anaconda3/lib/python3.9/site-packages/sklearn/linear_model/_coordinate_descent.py:530: ConvergenceWarning: Objective did not converge. You might want to increase the number of iterations. Duality gap: 3509075183.7158203, tolerance: 887517950.5182563\n",
      "  model = cd_fast.enet_coordinate_descent(\n",
      "/opt/anaconda3/lib/python3.9/site-packages/sklearn/linear_model/_coordinate_descent.py:530: ConvergenceWarning: Objective did not converge. You might want to increase the number of iterations. Duality gap: 3993287740.6169434, tolerance: 907047992.8754022\n",
      "  model = cd_fast.enet_coordinate_descent(\n",
      "/opt/anaconda3/lib/python3.9/site-packages/sklearn/linear_model/_coordinate_descent.py:530: ConvergenceWarning: Objective did not converge. You might want to increase the number of iterations. Duality gap: 8234345056.244507, tolerance: 912496004.8630242\n",
      "  model = cd_fast.enet_coordinate_descent(\n",
      "/opt/anaconda3/lib/python3.9/site-packages/sklearn/linear_model/_coordinate_descent.py:530: ConvergenceWarning: Objective did not converge. You might want to increase the number of iterations. Duality gap: 13572901775.8219, tolerance: 880612744.8280286\n",
      "  model = cd_fast.enet_coordinate_descent(\n",
      "/opt/anaconda3/lib/python3.9/site-packages/sklearn/linear_model/_coordinate_descent.py:530: ConvergenceWarning: Objective did not converge. You might want to increase the number of iterations. Duality gap: 8811930902.677002, tolerance: 906869632.5659809\n",
      "  model = cd_fast.enet_coordinate_descent(\n"
     ]
    },
    {
     "data": {
      "text/plain": [
       "857898463.886656"
      ]
     },
     "execution_count": 36,
     "metadata": {},
     "output_type": "execute_result"
    }
   ],
   "source": [
    "# Evaluating with 10 folds cross validation scoring with mean squared error\n",
    "- cross_val_score(\n",
    "    lasso_best_poly,\n",
    "    Z_train_poly,\n",
    "    y_train_poly,\n",
    "    cv=10,\n",
    "    scoring='neg_mean_squared_error'\n",
    ").mean()"
   ]
  },
  {
   "cell_type": "code",
   "execution_count": 37,
   "id": "11ccc4e7",
   "metadata": {
    "scrolled": true
   },
   "outputs": [
    {
     "name": "stderr",
     "output_type": "stream",
     "text": [
      "/opt/anaconda3/lib/python3.9/site-packages/sklearn/linear_model/_coordinate_descent.py:530: ConvergenceWarning: Objective did not converge. You might want to increase the number of iterations. Duality gap: 16915794641.687744, tolerance: 998824333.5884902\n",
      "  model = cd_fast.enet_coordinate_descent(\n"
     ]
    },
    {
     "data": {
      "text/plain": [
       "1044445788.017494"
      ]
     },
     "execution_count": 37,
     "metadata": {},
     "output_type": "execute_result"
    }
   ],
   "source": [
    "# Refitting the lasso model\n",
    "lasso_best_poly.fit(Z_train_poly, y_train_poly)\n",
    "\n",
    "# Calculating the mean squared error on the test data\n",
    "mean_squared_error(\n",
    "    y_test_poly,\n",
    "    lasso_best_poly.predict(Z_test_poly)\n",
    ")"
   ]
  },
  {
   "cell_type": "code",
   "execution_count": 38,
   "id": "b74895e5",
   "metadata": {},
   "outputs": [
    {
     "data": {
      "image/png": "[encoded data removed]",
      "text/plain": [
       "<Figure size 432x288 with 1 Axes>"
      ]
     },
     "metadata": {
      "needs_background": "light"
     },
     "output_type": "display_data"
    }
   ],
   "source": [
    "plt.scatter(lasso_best_poly.predict(Z_test_poly), y_test_poly)\n",
    "plt.title('Model 2 (Lasso): Predicted Price vs Actual Price')\n",
    "plt.xlabel('Predicted Price')\n",
    "plt.ylabel('Actual Price');"
   ]
  },
  {
   "cell_type": "markdown",
   "id": "dfc1590f",
   "metadata": {},
   "source": [
    "#### Performing Ridge regularization on model 2"
   ]
  },
  {
   "cell_type": "code",
   "execution_count": 39,
   "id": "e0484215",
   "metadata": {},
   "outputs": [],
   "source": [
    "# Instantiating Ridge regularization#### Performing Ridge regularization on model 1\n",
    "ridge_poly = RidgeCV(alphas=np.logspace(0, 10, 200))"
   ]
  },
  {
   "cell_type": "code",
   "execution_count": 40,
   "id": "5d674322",
   "metadata": {},
   "outputs": [
    {
     "data": {
      "text/plain": [
       "10.116379797662075"
      ]
     },
     "execution_count": 40,
     "metadata": {},
     "output_type": "execute_result"
    }
   ],
   "source": [
    "# Fitting the Ridge model\n",
    "ridge_poly.fit(Z_train_poly, y_train_poly)\n",
    "\n",
    "# Calculating best alpha for the model\n",
    "ridge_poly.alpha_"
   ]
  },
  {
   "cell_type": "code",
   "execution_count": 41,
   "id": "8b67e027",
   "metadata": {},
   "outputs": [],
   "source": [
    "# Reinstantiate Lasso with the best alpha.\n",
    "\n",
    "ridge_best_poly = Ridge(alpha=ridge_poly.alpha_)"
   ]
  },
  {
   "cell_type": "code",
   "execution_count": 42,
   "id": "2cdcdde9",
   "metadata": {},
   "outputs": [
    {
     "data": {
      "text/plain": [
       "848784766.8898928"
      ]
     },
     "execution_count": 42,
     "metadata": {},
     "output_type": "execute_result"
    }
   ],
   "source": [
    "# Evaluating with 10 folds cross validation scoring with mean squared error\n",
    "- cross_val_score(\n",
    "    ridge_best_poly,\n",
    "    Z_train_poly,\n",
    "    y_train_poly,\n",
    "    cv=10,\n",
    "    scoring='neg_mean_squared_error'\n",
    ").mean()"
   ]
  },
  {
   "cell_type": "code",
   "execution_count": 43,
   "id": "a73ff292",
   "metadata": {},
   "outputs": [
    {
     "data": {
      "text/plain": [
       "1065349080.0216826"
      ]
     },
     "execution_count": 43,
     "metadata": {},
     "output_type": "execute_result"
    }
   ],
   "source": [
    "# Refitting the Ridge model\n",
    "ridge_best_poly.fit(Z_train_poly, y_train_poly)\n",
    "\n",
    "# Calculating the mean squared error on the test data\n",
    "mean_squared_error(\n",
    "    y_test_poly,\n",
    "    ridge_best_poly.predict(Z_test_poly)\n",
    ")"
   ]
  },
  {
   "cell_type": "code",
   "execution_count": 44,
   "id": "0e0282fd",
   "metadata": {},
   "outputs": [
    {
     "data": {
      "image/png": "[encoded data removed]",
      "text/plain": [
       "<Figure size 432x288 with 1 Axes>"
      ]
     },
     "metadata": {
      "needs_background": "light"
     },
     "output_type": "display_data"
    }
   ],
   "source": [
    "plt.scatter(ridge_best_poly.predict(Z_test_poly), y_test_poly)\n",
    "plt.title('Model 2 (Ridge): Predicted Price vs Actual Price')\n",
    "plt.xlabel('Predicted Price')\n",
    "plt.ylabel('Actual Price');"
   ]
  },
  {
   "cell_type": "markdown",
   "id": "eb245b6f",
   "metadata": {},
   "source": [
    "While the MSE and cross val score of model 2 seems to have improved, I believe that I should explore other variables and add them into my model before creating the polynomial features. "
   ]
  },
  {
   "cell_type": "markdown",
   "id": "08139349",
   "metadata": {},
   "source": [
    "### Model 3\n",
    "\n",
    "I will continue to add more variables to my model to see if some of the other features which I have previously identified in the EDA will be able to improve the model."
   ]
  },
  {
   "cell_type": "code",
   "execution_count": 45,
   "id": "c2d632fb",
   "metadata": {
    "scrolled": true
   },
   "outputs": [
    {
     "data": {
      "text/plain": [
       "['overall_qual',\n",
       " 'gr_liv_area',\n",
       " 'garage_area',\n",
       " 'age',\n",
       " 'neighborhood_value',\n",
       " 'totrms_abvgrd',\n",
       " 'full_bath']"
      ]
     },
     "execution_count": 45,
     "metadata": {},
     "output_type": "execute_result"
    }
   ],
   "source": [
    "# Reference to model 1 features\n",
    "features_1"
   ]
  },
  {
   "cell_type": "markdown",
   "id": "f9396830",
   "metadata": {},
   "source": [
    "Previously, there were not categorical features in my model. However, to valuate property, we also have to look at the location and other factors of the property. Hence, there is a need to add in cat3gorical features.\n",
    "\n",
    "I will be dummifying the variables to add into the model"
   ]
  },
  {
   "cell_type": "code",
   "execution_count": 46,
   "id": "93f7ec67",
   "metadata": {},
   "outputs": [],
   "source": [
    "# Dummify the variables of interest\n",
    "ames_dummies3 = pd.get_dummies(\n",
    "    data=ames,\n",
    "    drop_first=True,\n",
    "    columns=[\n",
    "        'ms_subclass', 'ms_zoning', 'functional', 'foundation',\n",
    "        'condition_1', 'central_air'\n",
    "])"
   ]
  },
  {
   "cell_type": "code",
   "execution_count": 47,
   "id": "5d28470b",
   "metadata": {},
   "outputs": [],
   "source": [
    "# Creating the model by all unwanted columns\n",
    "x_var_model_3 = ames_dummies3.drop(columns= [\n",
    "    # features to keep\n",
    "    #'overall_qual', 'gr_liv_area','garage_area',\n",
    "    #'age', 'neighborhood_value', 'totrms_abvgrd',\n",
    "    #'full_bath', 'exter_qual', 'total_bsmt_sf',\n",
    "    #'bsmt_qual', 'mas_vnr_area'\n",
    "    \n",
    "    # unwanted features\n",
    "    'id', 'pid', 'lot_frontage', 'lot_area', 'street', 'lot_shape',\n",
    "    'land_contour', 'utilities', 'lot_config','land_slope',\n",
    "    'neighborhood', 'condition_2', 'bldg_type','house_style',\n",
    "    'overall_cond', 'year_built','year_remod/add','roof_style',\n",
    "    'roof_matl', 'exterior_1st','exterior_2nd','mas_vnr_type',\n",
    "    'exter_cond', 'bsmt_cond', 'bsmt_exposure','bsmtfin_type_1',\n",
    "    'bsmtfin_sf_1', 'bsmtfin_type_2', 'bsmtfin_sf_2','bsmt_unf_sf',\n",
    "    'heating', 'heating_qc','electrical', '1st_flr_sf','2nd_flr_sf',\n",
    "    'low_qual_fin_sf','bsmt_full_bath', 'bsmt_half_bath','half_bath',\n",
    "    'bedroom_abvgr', 'kitchen_abvgr', 'fireplaces','garage_type',\n",
    "    'garage_yr_blt', 'garage_finish', 'garage_cars','garage_qual',\n",
    "    'garage_cond', 'paved_drive', 'wood_deck_sf','open_porch_sf',\n",
    "    'enclosed_porch', '3ssn_porch', 'screen_porch','pool_area',\n",
    "    'misc_val', 'mo_sold', 'yr_sold', 'sale_type','age_since_remodel',\n",
    "    \n",
    "    # y to be kept\n",
    "    #'saleprice'\n",
    "])"
   ]
  },
  {
   "cell_type": "code",
   "execution_count": 48,
   "id": "c7d10cd0",
   "metadata": {},
   "outputs": [
    {
     "data": {
      "text/html": [
       "<div>\n",
       "<style scoped>\n",
       "    .dataframe tbody tr th:only-of-type {\n",
       "        vertical-align: middle;\n",
       "    }\n",
       "\n",
       "    .dataframe tbody tr th {\n",
       "        vertical-align: top;\n",
       "    }\n",
       "\n",
       "    .dataframe thead th {\n",
       "        text-align: right;\n",
       "    }\n",
       "</style>\n",
       "<table border=\"1\" class=\"dataframe\">\n",
       "  <thead>\n",
       "    <tr style=\"text-align: right;\">\n",
       "      <th></th>\n",
       "      <th>overall_qual</th>\n",
       "      <th>mas_vnr_area</th>\n",
       "      <th>exter_qual</th>\n",
       "      <th>bsmt_qual</th>\n",
       "      <th>total_bsmt_sf</th>\n",
       "      <th>gr_liv_area</th>\n",
       "      <th>full_bath</th>\n",
       "      <th>kitchen_qual</th>\n",
       "      <th>totrms_abvgrd</th>\n",
       "      <th>garage_area</th>\n",
       "      <th>...</th>\n",
       "      <th>foundation_Wood</th>\n",
       "      <th>condition_1_Feedr</th>\n",
       "      <th>condition_1_Norm</th>\n",
       "      <th>condition_1_PosA</th>\n",
       "      <th>condition_1_PosN</th>\n",
       "      <th>condition_1_RRAe</th>\n",
       "      <th>condition_1_RRAn</th>\n",
       "      <th>condition_1_RRNe</th>\n",
       "      <th>condition_1_RRNn</th>\n",
       "      <th>central_air_Y</th>\n",
       "    </tr>\n",
       "  </thead>\n",
       "  <tbody>\n",
       "    <tr>\n",
       "      <th>0</th>\n",
       "      <td>6</td>\n",
       "      <td>289.0</td>\n",
       "      <td>4</td>\n",
       "      <td>3</td>\n",
       "      <td>725.0</td>\n",
       "      <td>1479</td>\n",
       "      <td>2</td>\n",
       "      <td>4</td>\n",
       "      <td>6</td>\n",
       "      <td>475.0</td>\n",
       "      <td>...</td>\n",
       "      <td>0</td>\n",
       "      <td>0</td>\n",
       "      <td>0</td>\n",
       "      <td>0</td>\n",
       "      <td>0</td>\n",
       "      <td>1</td>\n",
       "      <td>0</td>\n",
       "      <td>0</td>\n",
       "      <td>0</td>\n",
       "      <td>1</td>\n",
       "    </tr>\n",
       "    <tr>\n",
       "      <th>1</th>\n",
       "      <td>7</td>\n",
       "      <td>132.0</td>\n",
       "      <td>4</td>\n",
       "      <td>4</td>\n",
       "      <td>913.0</td>\n",
       "      <td>2122</td>\n",
       "      <td>2</td>\n",
       "      <td>4</td>\n",
       "      <td>8</td>\n",
       "      <td>559.0</td>\n",
       "      <td>...</td>\n",
       "      <td>0</td>\n",
       "      <td>0</td>\n",
       "      <td>1</td>\n",
       "      <td>0</td>\n",
       "      <td>0</td>\n",
       "      <td>0</td>\n",
       "      <td>0</td>\n",
       "      <td>0</td>\n",
       "      <td>0</td>\n",
       "      <td>1</td>\n",
       "    </tr>\n",
       "    <tr>\n",
       "      <th>2</th>\n",
       "      <td>5</td>\n",
       "      <td>0.0</td>\n",
       "      <td>3</td>\n",
       "      <td>3</td>\n",
       "      <td>1057.0</td>\n",
       "      <td>1057</td>\n",
       "      <td>1</td>\n",
       "      <td>4</td>\n",
       "      <td>5</td>\n",
       "      <td>246.0</td>\n",
       "      <td>...</td>\n",
       "      <td>0</td>\n",
       "      <td>0</td>\n",
       "      <td>1</td>\n",
       "      <td>0</td>\n",
       "      <td>0</td>\n",
       "      <td>0</td>\n",
       "      <td>0</td>\n",
       "      <td>0</td>\n",
       "      <td>0</td>\n",
       "      <td>1</td>\n",
       "    </tr>\n",
       "    <tr>\n",
       "      <th>3</th>\n",
       "      <td>5</td>\n",
       "      <td>0.0</td>\n",
       "      <td>3</td>\n",
       "      <td>4</td>\n",
       "      <td>384.0</td>\n",
       "      <td>1444</td>\n",
       "      <td>2</td>\n",
       "      <td>3</td>\n",
       "      <td>7</td>\n",
       "      <td>400.0</td>\n",
       "      <td>...</td>\n",
       "      <td>0</td>\n",
       "      <td>0</td>\n",
       "      <td>1</td>\n",
       "      <td>0</td>\n",
       "      <td>0</td>\n",
       "      <td>0</td>\n",
       "      <td>0</td>\n",
       "      <td>0</td>\n",
       "      <td>0</td>\n",
       "      <td>1</td>\n",
       "    </tr>\n",
       "    <tr>\n",
       "      <th>4</th>\n",
       "      <td>6</td>\n",
       "      <td>0.0</td>\n",
       "      <td>3</td>\n",
       "      <td>2</td>\n",
       "      <td>676.0</td>\n",
       "      <td>1445</td>\n",
       "      <td>2</td>\n",
       "      <td>3</td>\n",
       "      <td>6</td>\n",
       "      <td>484.0</td>\n",
       "      <td>...</td>\n",
       "      <td>0</td>\n",
       "      <td>0</td>\n",
       "      <td>1</td>\n",
       "      <td>0</td>\n",
       "      <td>0</td>\n",
       "      <td>0</td>\n",
       "      <td>0</td>\n",
       "      <td>0</td>\n",
       "      <td>0</td>\n",
       "      <td>1</td>\n",
       "    </tr>\n",
       "    <tr>\n",
       "      <th>...</th>\n",
       "      <td>...</td>\n",
       "      <td>...</td>\n",
       "      <td>...</td>\n",
       "      <td>...</td>\n",
       "      <td>...</td>\n",
       "      <td>...</td>\n",
       "      <td>...</td>\n",
       "      <td>...</td>\n",
       "      <td>...</td>\n",
       "      <td>...</td>\n",
       "      <td>...</td>\n",
       "      <td>...</td>\n",
       "      <td>...</td>\n",
       "      <td>...</td>\n",
       "      <td>...</td>\n",
       "      <td>...</td>\n",
       "      <td>...</td>\n",
       "      <td>...</td>\n",
       "      <td>...</td>\n",
       "      <td>...</td>\n",
       "      <td>...</td>\n",
       "    </tr>\n",
       "    <tr>\n",
       "      <th>2041</th>\n",
       "      <td>8</td>\n",
       "      <td>0.0</td>\n",
       "      <td>4</td>\n",
       "      <td>4</td>\n",
       "      <td>1884.0</td>\n",
       "      <td>1728</td>\n",
       "      <td>2</td>\n",
       "      <td>4</td>\n",
       "      <td>7</td>\n",
       "      <td>520.0</td>\n",
       "      <td>...</td>\n",
       "      <td>0</td>\n",
       "      <td>0</td>\n",
       "      <td>1</td>\n",
       "      <td>0</td>\n",
       "      <td>0</td>\n",
       "      <td>0</td>\n",
       "      <td>0</td>\n",
       "      <td>0</td>\n",
       "      <td>0</td>\n",
       "      <td>1</td>\n",
       "    </tr>\n",
       "    <tr>\n",
       "      <th>2042</th>\n",
       "      <td>4</td>\n",
       "      <td>0.0</td>\n",
       "      <td>3</td>\n",
       "      <td>3</td>\n",
       "      <td>861.0</td>\n",
       "      <td>861</td>\n",
       "      <td>1</td>\n",
       "      <td>3</td>\n",
       "      <td>4</td>\n",
       "      <td>539.0</td>\n",
       "      <td>...</td>\n",
       "      <td>0</td>\n",
       "      <td>0</td>\n",
       "      <td>1</td>\n",
       "      <td>0</td>\n",
       "      <td>0</td>\n",
       "      <td>0</td>\n",
       "      <td>0</td>\n",
       "      <td>0</td>\n",
       "      <td>0</td>\n",
       "      <td>1</td>\n",
       "    </tr>\n",
       "    <tr>\n",
       "      <th>2043</th>\n",
       "      <td>6</td>\n",
       "      <td>0.0</td>\n",
       "      <td>3</td>\n",
       "      <td>3</td>\n",
       "      <td>896.0</td>\n",
       "      <td>1913</td>\n",
       "      <td>1</td>\n",
       "      <td>3</td>\n",
       "      <td>9</td>\n",
       "      <td>342.0</td>\n",
       "      <td>...</td>\n",
       "      <td>0</td>\n",
       "      <td>0</td>\n",
       "      <td>1</td>\n",
       "      <td>0</td>\n",
       "      <td>0</td>\n",
       "      <td>0</td>\n",
       "      <td>0</td>\n",
       "      <td>0</td>\n",
       "      <td>0</td>\n",
       "      <td>1</td>\n",
       "    </tr>\n",
       "    <tr>\n",
       "      <th>2044</th>\n",
       "      <td>4</td>\n",
       "      <td>0.0</td>\n",
       "      <td>3</td>\n",
       "      <td>3</td>\n",
       "      <td>1200.0</td>\n",
       "      <td>1200</td>\n",
       "      <td>1</td>\n",
       "      <td>3</td>\n",
       "      <td>6</td>\n",
       "      <td>294.0</td>\n",
       "      <td>...</td>\n",
       "      <td>0</td>\n",
       "      <td>0</td>\n",
       "      <td>1</td>\n",
       "      <td>0</td>\n",
       "      <td>0</td>\n",
       "      <td>0</td>\n",
       "      <td>0</td>\n",
       "      <td>0</td>\n",
       "      <td>0</td>\n",
       "      <td>1</td>\n",
       "    </tr>\n",
       "    <tr>\n",
       "      <th>2045</th>\n",
       "      <td>7</td>\n",
       "      <td>0.0</td>\n",
       "      <td>3</td>\n",
       "      <td>3</td>\n",
       "      <td>994.0</td>\n",
       "      <td>1804</td>\n",
       "      <td>2</td>\n",
       "      <td>4</td>\n",
       "      <td>7</td>\n",
       "      <td>442.0</td>\n",
       "      <td>...</td>\n",
       "      <td>0</td>\n",
       "      <td>0</td>\n",
       "      <td>1</td>\n",
       "      <td>0</td>\n",
       "      <td>0</td>\n",
       "      <td>0</td>\n",
       "      <td>0</td>\n",
       "      <td>0</td>\n",
       "      <td>0</td>\n",
       "      <td>1</td>\n",
       "    </tr>\n",
       "  </tbody>\n",
       "</table>\n",
       "<p>2046 rows × 55 columns</p>\n",
       "</div>"
      ],
      "text/plain": [
       "      overall_qual  mas_vnr_area  exter_qual  bsmt_qual  total_bsmt_sf  \\\n",
       "0                6         289.0           4          3          725.0   \n",
       "1                7         132.0           4          4          913.0   \n",
       "2                5           0.0           3          3         1057.0   \n",
       "3                5           0.0           3          4          384.0   \n",
       "4                6           0.0           3          2          676.0   \n",
       "...            ...           ...         ...        ...            ...   \n",
       "2041             8           0.0           4          4         1884.0   \n",
       "2042             4           0.0           3          3          861.0   \n",
       "2043             6           0.0           3          3          896.0   \n",
       "2044             4           0.0           3          3         1200.0   \n",
       "2045             7           0.0           3          3          994.0   \n",
       "\n",
       "      gr_liv_area  full_bath  kitchen_qual  totrms_abvgrd  garage_area  ...  \\\n",
       "0            1479          2             4              6        475.0  ...   \n",
       "1            2122          2             4              8        559.0  ...   \n",
       "2            1057          1             4              5        246.0  ...   \n",
       "3            1444          2             3              7        400.0  ...   \n",
       "4            1445          2             3              6        484.0  ...   \n",
       "...           ...        ...           ...            ...          ...  ...   \n",
       "2041         1728          2             4              7        520.0  ...   \n",
       "2042          861          1             3              4        539.0  ...   \n",
       "2043         1913          1             3              9        342.0  ...   \n",
       "2044         1200          1             3              6        294.0  ...   \n",
       "2045         1804          2             4              7        442.0  ...   \n",
       "\n",
       "      foundation_Wood  condition_1_Feedr  condition_1_Norm  condition_1_PosA  \\\n",
       "0                   0                  0                 0                 0   \n",
       "1                   0                  0                 1                 0   \n",
       "2                   0                  0                 1                 0   \n",
       "3                   0                  0                 1                 0   \n",
       "4                   0                  0                 1                 0   \n",
       "...               ...                ...               ...               ...   \n",
       "2041                0                  0                 1                 0   \n",
       "2042                0                  0                 1                 0   \n",
       "2043                0                  0                 1                 0   \n",
       "2044                0                  0                 1                 0   \n",
       "2045                0                  0                 1                 0   \n",
       "\n",
       "      condition_1_PosN  condition_1_RRAe  condition_1_RRAn  condition_1_RRNe  \\\n",
       "0                    0                 1                 0                 0   \n",
       "1                    0                 0                 0                 0   \n",
       "2                    0                 0                 0                 0   \n",
       "3                    0                 0                 0                 0   \n",
       "4                    0                 0                 0                 0   \n",
       "...                ...               ...               ...               ...   \n",
       "2041                 0                 0                 0                 0   \n",
       "2042                 0                 0                 0                 0   \n",
       "2043                 0                 0                 0                 0   \n",
       "2044                 0                 0                 0                 0   \n",
       "2045                 0                 0                 0                 0   \n",
       "\n",
       "      condition_1_RRNn  central_air_Y  \n",
       "0                    0              1  \n",
       "1                    0              1  \n",
       "2                    0              1  \n",
       "3                    0              1  \n",
       "4                    0              1  \n",
       "...                ...            ...  \n",
       "2041                 0              1  \n",
       "2042                 0              1  \n",
       "2043                 0              1  \n",
       "2044                 0              1  \n",
       "2045                 0              1  \n",
       "\n",
       "[2046 rows x 55 columns]"
      ]
     },
     "execution_count": 48,
     "metadata": {},
     "output_type": "execute_result"
    }
   ],
   "source": [
    "# Check to ensure that all the features are present\n",
    "x_var_model_3"
   ]
  },
  {
   "cell_type": "code",
   "execution_count": 49,
   "id": "eb4c74c5",
   "metadata": {},
   "outputs": [],
   "source": [
    "# Creating a list of the columns excluding saleprice\n",
    "features_3 = [col for col in x_var_model_3._get_numeric_data().columns if col != 'saleprice']\n",
    "\n",
    "# Assembling X and y variables.\n",
    "X3 = x_var_model_3[features_3]\n",
    "y3 = x_var_model_3['saleprice']\n",
    "\n",
    "# Creating a train/test split\n",
    "X_train3, X_test3, y_train3, y_test3 = train_test_split(\n",
    "    X3,\n",
    "    y3,\n",
    "    test_size=0.2,\n",
    ")"
   ]
  },
  {
   "cell_type": "code",
   "execution_count": 50,
   "id": "4ba7871e",
   "metadata": {},
   "outputs": [],
   "source": [
    "# Scale the the variables as the features are all on different scales.\n",
    "ss = StandardScaler()\n",
    "ss.fit(X_train3)\n",
    "\n",
    "Z_train3 = ss.transform(X_train3)\n",
    "Z_test3 = ss.transform(X_test3)\n"
   ]
  },
  {
   "cell_type": "code",
   "execution_count": 51,
   "id": "3667d758",
   "metadata": {},
   "outputs": [],
   "source": [
    "# Instantiating the model\n",
    "lr3 = LinearRegression()"
   ]
  },
  {
   "cell_type": "code",
   "execution_count": 52,
   "id": "db9b1f83",
   "metadata": {},
   "outputs": [
    {
     "data": {
      "text/plain": [
       "LinearRegression()"
      ]
     },
     "execution_count": 52,
     "metadata": {},
     "output_type": "execute_result"
    }
   ],
   "source": [
    "# Fitting it to the scaled variables\n",
    "lr3.fit(Z_train3, y_train3)"
   ]
  },
  {
   "cell_type": "code",
   "execution_count": 53,
   "id": "9ead8d3f",
   "metadata": {},
   "outputs": [
    {
     "data": {
      "text/plain": [
       "5.942677531478621e+31"
      ]
     },
     "execution_count": 53,
     "metadata": {},
     "output_type": "execute_result"
    }
   ],
   "source": [
    "# Evaluating with 10 folds cross validation scoring with mean squared error\n",
    "- cross_val_score(\n",
    "    lr3,\n",
    "    Z_train3,\n",
    "    y_train3,\n",
    "    cv=10,\n",
    "    scoring='neg_mean_squared_error'\n",
    ").mean()"
   ]
  },
  {
   "cell_type": "code",
   "execution_count": 54,
   "id": "3cac9ddf",
   "metadata": {},
   "outputs": [
    {
     "data": {
      "text/plain": [
       "1.6578277182950332e+30"
      ]
     },
     "execution_count": 54,
     "metadata": {},
     "output_type": "execute_result"
    }
   ],
   "source": [
    "# Calculating the mean squared error on the test data\n",
    "mean_squared_error(\n",
    "    y_test3,\n",
    "    lr3.predict(Z_test3)\n",
    ")"
   ]
  },
  {
   "cell_type": "code",
   "execution_count": 55,
   "id": "0c1b6d1f",
   "metadata": {},
   "outputs": [
    {
     "data": {
      "image/png": "[encoded data removed]",
      "text/plain": [
       "<Figure size 432x288 with 1 Axes>"
      ]
     },
     "metadata": {
      "needs_background": "light"
     },
     "output_type": "display_data"
    }
   ],
   "source": [
    "plt.scatter(lr3.predict(Z_test3), y_test3)\n",
    "plt.title('Model 3: Predicted Price vs Actual Price')\n",
    "plt.xlabel('Predicted Price')\n",
    "plt.ylabel('Actual Price');"
   ]
  },
  {
   "cell_type": "markdown",
   "id": "f078ac45",
   "metadata": {},
   "source": [
    "#### Performing Lasso regularization on model 3"
   ]
  },
  {
   "cell_type": "code",
   "execution_count": 56,
   "id": "df87529d",
   "metadata": {},
   "outputs": [],
   "source": [
    "# Instantiating Lasso regularization\n",
    "lasso3 = LassoCV(n_alphas=200)"
   ]
  },
  {
   "cell_type": "code",
   "execution_count": 57,
   "id": "d540dc72",
   "metadata": {},
   "outputs": [
    {
     "data": {
      "text/plain": [
       "287.2694876302212"
      ]
     },
     "execution_count": 57,
     "metadata": {},
     "output_type": "execute_result"
    }
   ],
   "source": [
    "# Fitting the lasso model\n",
    "lasso3.fit(Z_train3, y_train3)\n",
    "\n",
    "# Calculating best alpha for the model\n",
    "lasso3.alpha_"
   ]
  },
  {
   "cell_type": "code",
   "execution_count": 58,
   "id": "017d67df",
   "metadata": {},
   "outputs": [],
   "source": [
    "# Reinstantiate Lasso with the best alpha.\n",
    "lasso_best3 = Lasso(alpha=lasso3.alpha_)"
   ]
  },
  {
   "cell_type": "code",
   "execution_count": 59,
   "id": "9d909887",
   "metadata": {},
   "outputs": [
    {
     "data": {
      "text/plain": [
       "835573053.6019256"
      ]
     },
     "execution_count": 59,
     "metadata": {},
     "output_type": "execute_result"
    }
   ],
   "source": [
    "# Evaluating with 10 folds cross validation scoring with mean squared error\n",
    "- cross_val_score(\n",
    "    lasso_best3,\n",
    "    Z_train3,\n",
    "    y_train3,\n",
    "    cv=10,\n",
    "    scoring='neg_mean_squared_error'\n",
    ").mean()"
   ]
  },
  {
   "cell_type": "code",
   "execution_count": 60,
   "id": "11bb0e58",
   "metadata": {},
   "outputs": [
    {
     "data": {
      "text/plain": [
       "785314915.7812783"
      ]
     },
     "execution_count": 60,
     "metadata": {},
     "output_type": "execute_result"
    }
   ],
   "source": [
    "# Refitting the lasso model\n",
    "lasso_best3.fit(Z_train3, y_train3)\n",
    "\n",
    "# Calculating the mean squared error on the test data\n",
    "mean_squared_error(\n",
    "    y_test3,\n",
    "    lasso_best3.predict(Z_test3)\n",
    ")"
   ]
  },
  {
   "cell_type": "code",
   "execution_count": 61,
   "id": "c4f00eef",
   "metadata": {},
   "outputs": [
    {
     "data": {
      "image/png": "[encoded data removed]",
      "text/plain": [
       "<Figure size 432x288 with 1 Axes>"
      ]
     },
     "metadata": {
      "needs_background": "light"
     },
     "output_type": "display_data"
    }
   ],
   "source": [
    "plt.scatter(lasso_best3.predict(Z_test3), y_test3)\n",
    "plt.title('Model 3 (Lasso): Predicted Price vs Actual Price')\n",
    "plt.xlabel('Predicted Price')\n",
    "plt.ylabel('Actual Price');"
   ]
  },
  {
   "cell_type": "markdown",
   "id": "d63edc81",
   "metadata": {},
   "source": [
    "#### Performing Ridge regularization on model 3"
   ]
  },
  {
   "cell_type": "code",
   "execution_count": 62,
   "id": "f27f2bd7",
   "metadata": {},
   "outputs": [],
   "source": [
    "# Instantiating Ridge regularization\n",
    "ridge3 = RidgeCV(alphas=np.logspace(0, 10, 200))"
   ]
  },
  {
   "cell_type": "code",
   "execution_count": 63,
   "id": "2edea791",
   "metadata": {},
   "outputs": [
    {
     "data": {
      "text/plain": [
       "22.739657523579286"
      ]
     },
     "execution_count": 63,
     "metadata": {},
     "output_type": "execute_result"
    }
   ],
   "source": [
    "# Fitting the Ridge model\n",
    "ridge3.fit(Z_train3, y_train3)\n",
    "\n",
    "# Calculating best alpha for the model\n",
    "ridge3.alpha_"
   ]
  },
  {
   "cell_type": "code",
   "execution_count": 64,
   "id": "ba3edce0",
   "metadata": {},
   "outputs": [],
   "source": [
    "# Reinstantiate Lasso with the best alpha.\n",
    "ridge_best3 = Ridge(alpha=ridge3.alpha_)"
   ]
  },
  {
   "cell_type": "code",
   "execution_count": 65,
   "id": "04c8059d",
   "metadata": {},
   "outputs": [
    {
     "data": {
      "text/plain": [
       "839903317.8375324"
      ]
     },
     "execution_count": 65,
     "metadata": {},
     "output_type": "execute_result"
    }
   ],
   "source": [
    "# Evaluating with 10 folds cross validation scoring with mean squared error\n",
    "- cross_val_score(\n",
    "    ridge_best3,\n",
    "    Z_train3,\n",
    "    y_train3,\n",
    "    cv=10,\n",
    "    scoring='neg_mean_squared_error'\n",
    ").mean()"
   ]
  },
  {
   "cell_type": "code",
   "execution_count": 66,
   "id": "d46edf34",
   "metadata": {},
   "outputs": [
    {
     "data": {
      "text/plain": [
       "786912052.2533009"
      ]
     },
     "execution_count": 66,
     "metadata": {},
     "output_type": "execute_result"
    }
   ],
   "source": [
    "# Refitting the Ridge model\n",
    "ridge_best3.fit(Z_train3, y_train3)\n",
    "\n",
    "# Calculating the mean squared error on the test data\n",
    "mean_squared_error(\n",
    "    y_test3,\n",
    "    ridge_best3.predict(Z_test3)\n",
    ")"
   ]
  },
  {
   "cell_type": "code",
   "execution_count": 67,
   "id": "c49bba42",
   "metadata": {},
   "outputs": [
    {
     "data": {
      "image/png": "[encoded data removed]",
      "text/plain": [
       "<Figure size 432x288 with 1 Axes>"
      ]
     },
     "metadata": {
      "needs_background": "light"
     },
     "output_type": "display_data"
    }
   ],
   "source": [
    "plt.scatter(ridge_best3.predict(Z_test3), y_test3)\n",
    "plt.title('Model 3 (Ridge): Predicted Price vs Actual Price')\n",
    "plt.xlabel('Predicted Price')\n",
    "plt.ylabel('Actual Price');"
   ]
  },
  {
   "cell_type": "markdown",
   "id": "bc8d23cd",
   "metadata": {},
   "source": [
    "This model seems to have improved significantly over model 1 and the MSE and cross val score are still relatively close to each other after perform ridge and lasso regularization on the model. This seems to performing better than model 1. However, there is still room for improvement."
   ]
  },
  {
   "cell_type": "markdown",
   "id": "a34932d6",
   "metadata": {},
   "source": [
    "### Model 4\n",
    "\n",
    "Now I want to try adding all the variables which was previously identified during the EDA. I would also futher engineer some of the existing variables."
   ]
  },
  {
   "cell_type": "code",
   "execution_count": 68,
   "id": "20997976",
   "metadata": {},
   "outputs": [
    {
     "data": {
      "text/plain": [
       "['overall_qual',\n",
       " 'mas_vnr_area',\n",
       " 'exter_qual',\n",
       " 'bsmt_qual',\n",
       " 'total_bsmt_sf',\n",
       " 'gr_liv_area',\n",
       " 'full_bath',\n",
       " 'kitchen_qual',\n",
       " 'totrms_abvgrd',\n",
       " 'garage_area',\n",
       " 'age',\n",
       " 'neighborhood_value',\n",
       " 'ms_subclass_30',\n",
       " 'ms_subclass_40',\n",
       " 'ms_subclass_45',\n",
       " 'ms_subclass_50',\n",
       " 'ms_subclass_60',\n",
       " 'ms_subclass_70',\n",
       " 'ms_subclass_75',\n",
       " 'ms_subclass_80',\n",
       " 'ms_subclass_85',\n",
       " 'ms_subclass_90',\n",
       " 'ms_subclass_120',\n",
       " 'ms_subclass_150',\n",
       " 'ms_subclass_160',\n",
       " 'ms_subclass_180',\n",
       " 'ms_subclass_190',\n",
       " 'ms_zoning_C (all)',\n",
       " 'ms_zoning_FV',\n",
       " 'ms_zoning_I (all)',\n",
       " 'ms_zoning_RH',\n",
       " 'ms_zoning_RL',\n",
       " 'ms_zoning_RM',\n",
       " 'functional_Maj2',\n",
       " 'functional_Min1',\n",
       " 'functional_Min2',\n",
       " 'functional_Mod',\n",
       " 'functional_Sal',\n",
       " 'functional_Sev',\n",
       " 'functional_Typ',\n",
       " 'foundation_CBlock',\n",
       " 'foundation_PConc',\n",
       " 'foundation_Slab',\n",
       " 'foundation_Stone',\n",
       " 'foundation_Wood',\n",
       " 'condition_1_Feedr',\n",
       " 'condition_1_Norm',\n",
       " 'condition_1_PosA',\n",
       " 'condition_1_PosN',\n",
       " 'condition_1_RRAe',\n",
       " 'condition_1_RRAn',\n",
       " 'condition_1_RRNe',\n",
       " 'condition_1_RRNn',\n",
       " 'central_air_Y']"
      ]
     },
     "execution_count": 68,
     "metadata": {},
     "output_type": "execute_result"
    }
   ],
   "source": [
    "# Reference to what was used in model 3\n",
    "features_3"
   ]
  },
  {
   "cell_type": "code",
   "execution_count": 69,
   "id": "9437cb50",
   "metadata": {},
   "outputs": [
    {
     "data": {
      "text/html": [
       "<div>\n",
       "<style scoped>\n",
       "    .dataframe tbody tr th:only-of-type {\n",
       "        vertical-align: middle;\n",
       "    }\n",
       "\n",
       "    .dataframe tbody tr th {\n",
       "        vertical-align: top;\n",
       "    }\n",
       "\n",
       "    .dataframe thead th {\n",
       "        text-align: right;\n",
       "    }\n",
       "</style>\n",
       "<table border=\"1\" class=\"dataframe\">\n",
       "  <thead>\n",
       "    <tr style=\"text-align: right;\">\n",
       "      <th></th>\n",
       "      <th>id</th>\n",
       "      <th>pid</th>\n",
       "      <th>ms_subclass</th>\n",
       "      <th>ms_zoning</th>\n",
       "      <th>lot_frontage</th>\n",
       "      <th>lot_area</th>\n",
       "      <th>street</th>\n",
       "      <th>lot_shape</th>\n",
       "      <th>land_contour</th>\n",
       "      <th>utilities</th>\n",
       "      <th>...</th>\n",
       "      <th>screen_porch</th>\n",
       "      <th>pool_area</th>\n",
       "      <th>misc_val</th>\n",
       "      <th>mo_sold</th>\n",
       "      <th>yr_sold</th>\n",
       "      <th>sale_type</th>\n",
       "      <th>saleprice</th>\n",
       "      <th>age_since_remodel</th>\n",
       "      <th>age</th>\n",
       "      <th>neighborhood_value</th>\n",
       "    </tr>\n",
       "  </thead>\n",
       "  <tbody>\n",
       "    <tr>\n",
       "      <th>0</th>\n",
       "      <td>109</td>\n",
       "      <td>533352170</td>\n",
       "      <td>60</td>\n",
       "      <td>RL</td>\n",
       "      <td>0.0</td>\n",
       "      <td>13517</td>\n",
       "      <td>Pave</td>\n",
       "      <td>IR1</td>\n",
       "      <td>Lvl</td>\n",
       "      <td>AllPub</td>\n",
       "      <td>...</td>\n",
       "      <td>0</td>\n",
       "      <td>0</td>\n",
       "      <td>0</td>\n",
       "      <td>3</td>\n",
       "      <td>2010</td>\n",
       "      <td>WD</td>\n",
       "      <td>130500</td>\n",
       "      <td>5</td>\n",
       "      <td>34</td>\n",
       "      <td>1.37</td>\n",
       "    </tr>\n",
       "    <tr>\n",
       "      <th>1</th>\n",
       "      <td>544</td>\n",
       "      <td>531379050</td>\n",
       "      <td>60</td>\n",
       "      <td>RL</td>\n",
       "      <td>43.0</td>\n",
       "      <td>11492</td>\n",
       "      <td>Pave</td>\n",
       "      <td>IR1</td>\n",
       "      <td>Lvl</td>\n",
       "      <td>AllPub</td>\n",
       "      <td>...</td>\n",
       "      <td>0</td>\n",
       "      <td>0</td>\n",
       "      <td>0</td>\n",
       "      <td>4</td>\n",
       "      <td>2009</td>\n",
       "      <td>WD</td>\n",
       "      <td>220000</td>\n",
       "      <td>12</td>\n",
       "      <td>13</td>\n",
       "      <td>1.88</td>\n",
       "    </tr>\n",
       "    <tr>\n",
       "      <th>2</th>\n",
       "      <td>153</td>\n",
       "      <td>535304180</td>\n",
       "      <td>20</td>\n",
       "      <td>RL</td>\n",
       "      <td>68.0</td>\n",
       "      <td>7922</td>\n",
       "      <td>Pave</td>\n",
       "      <td>Reg</td>\n",
       "      <td>Lvl</td>\n",
       "      <td>AllPub</td>\n",
       "      <td>...</td>\n",
       "      <td>0</td>\n",
       "      <td>0</td>\n",
       "      <td>0</td>\n",
       "      <td>1</td>\n",
       "      <td>2010</td>\n",
       "      <td>WD</td>\n",
       "      <td>109000</td>\n",
       "      <td>3</td>\n",
       "      <td>57</td>\n",
       "      <td>1.46</td>\n",
       "    </tr>\n",
       "    <tr>\n",
       "      <th>3</th>\n",
       "      <td>318</td>\n",
       "      <td>916386060</td>\n",
       "      <td>60</td>\n",
       "      <td>RL</td>\n",
       "      <td>73.0</td>\n",
       "      <td>9802</td>\n",
       "      <td>Pave</td>\n",
       "      <td>Reg</td>\n",
       "      <td>Lvl</td>\n",
       "      <td>AllPub</td>\n",
       "      <td>...</td>\n",
       "      <td>0</td>\n",
       "      <td>0</td>\n",
       "      <td>0</td>\n",
       "      <td>4</td>\n",
       "      <td>2010</td>\n",
       "      <td>WD</td>\n",
       "      <td>174000</td>\n",
       "      <td>3</td>\n",
       "      <td>4</td>\n",
       "      <td>2.40</td>\n",
       "    </tr>\n",
       "    <tr>\n",
       "      <th>4</th>\n",
       "      <td>255</td>\n",
       "      <td>906425045</td>\n",
       "      <td>50</td>\n",
       "      <td>RL</td>\n",
       "      <td>82.0</td>\n",
       "      <td>14235</td>\n",
       "      <td>Pave</td>\n",
       "      <td>IR1</td>\n",
       "      <td>Lvl</td>\n",
       "      <td>AllPub</td>\n",
       "      <td>...</td>\n",
       "      <td>0</td>\n",
       "      <td>0</td>\n",
       "      <td>0</td>\n",
       "      <td>3</td>\n",
       "      <td>2010</td>\n",
       "      <td>WD</td>\n",
       "      <td>138500</td>\n",
       "      <td>17</td>\n",
       "      <td>110</td>\n",
       "      <td>1.88</td>\n",
       "    </tr>\n",
       "    <tr>\n",
       "      <th>...</th>\n",
       "      <td>...</td>\n",
       "      <td>...</td>\n",
       "      <td>...</td>\n",
       "      <td>...</td>\n",
       "      <td>...</td>\n",
       "      <td>...</td>\n",
       "      <td>...</td>\n",
       "      <td>...</td>\n",
       "      <td>...</td>\n",
       "      <td>...</td>\n",
       "      <td>...</td>\n",
       "      <td>...</td>\n",
       "      <td>...</td>\n",
       "      <td>...</td>\n",
       "      <td>...</td>\n",
       "      <td>...</td>\n",
       "      <td>...</td>\n",
       "      <td>...</td>\n",
       "      <td>...</td>\n",
       "      <td>...</td>\n",
       "      <td>...</td>\n",
       "    </tr>\n",
       "    <tr>\n",
       "      <th>2041</th>\n",
       "      <td>1587</td>\n",
       "      <td>921126030</td>\n",
       "      <td>20</td>\n",
       "      <td>RL</td>\n",
       "      <td>79.0</td>\n",
       "      <td>11449</td>\n",
       "      <td>Pave</td>\n",
       "      <td>IR1</td>\n",
       "      <td>HLS</td>\n",
       "      <td>AllPub</td>\n",
       "      <td>...</td>\n",
       "      <td>0</td>\n",
       "      <td>0</td>\n",
       "      <td>0</td>\n",
       "      <td>1</td>\n",
       "      <td>2008</td>\n",
       "      <td>WD</td>\n",
       "      <td>298751</td>\n",
       "      <td>1</td>\n",
       "      <td>1</td>\n",
       "      <td>2.40</td>\n",
       "    </tr>\n",
       "    <tr>\n",
       "      <th>2042</th>\n",
       "      <td>785</td>\n",
       "      <td>905377130</td>\n",
       "      <td>30</td>\n",
       "      <td>RL</td>\n",
       "      <td>0.0</td>\n",
       "      <td>12342</td>\n",
       "      <td>Pave</td>\n",
       "      <td>IR1</td>\n",
       "      <td>Lvl</td>\n",
       "      <td>AllPub</td>\n",
       "      <td>...</td>\n",
       "      <td>0</td>\n",
       "      <td>0</td>\n",
       "      <td>0</td>\n",
       "      <td>3</td>\n",
       "      <td>2009</td>\n",
       "      <td>WD</td>\n",
       "      <td>82500</td>\n",
       "      <td>59</td>\n",
       "      <td>69</td>\n",
       "      <td>1.30</td>\n",
       "    </tr>\n",
       "    <tr>\n",
       "      <th>2043</th>\n",
       "      <td>916</td>\n",
       "      <td>909253010</td>\n",
       "      <td>50</td>\n",
       "      <td>RL</td>\n",
       "      <td>57.0</td>\n",
       "      <td>7558</td>\n",
       "      <td>Pave</td>\n",
       "      <td>Reg</td>\n",
       "      <td>Bnk</td>\n",
       "      <td>AllPub</td>\n",
       "      <td>...</td>\n",
       "      <td>0</td>\n",
       "      <td>0</td>\n",
       "      <td>0</td>\n",
       "      <td>3</td>\n",
       "      <td>2009</td>\n",
       "      <td>WD</td>\n",
       "      <td>177000</td>\n",
       "      <td>59</td>\n",
       "      <td>81</td>\n",
       "      <td>2.06</td>\n",
       "    </tr>\n",
       "    <tr>\n",
       "      <th>2044</th>\n",
       "      <td>639</td>\n",
       "      <td>535179160</td>\n",
       "      <td>20</td>\n",
       "      <td>RL</td>\n",
       "      <td>80.0</td>\n",
       "      <td>10400</td>\n",
       "      <td>Pave</td>\n",
       "      <td>Reg</td>\n",
       "      <td>Lvl</td>\n",
       "      <td>AllPub</td>\n",
       "      <td>...</td>\n",
       "      <td>0</td>\n",
       "      <td>0</td>\n",
       "      <td>0</td>\n",
       "      <td>11</td>\n",
       "      <td>2009</td>\n",
       "      <td>WD</td>\n",
       "      <td>144000</td>\n",
       "      <td>53</td>\n",
       "      <td>53</td>\n",
       "      <td>1.46</td>\n",
       "    </tr>\n",
       "    <tr>\n",
       "      <th>2045</th>\n",
       "      <td>10</td>\n",
       "      <td>527162130</td>\n",
       "      <td>60</td>\n",
       "      <td>RL</td>\n",
       "      <td>60.0</td>\n",
       "      <td>7500</td>\n",
       "      <td>Pave</td>\n",
       "      <td>Reg</td>\n",
       "      <td>Lvl</td>\n",
       "      <td>AllPub</td>\n",
       "      <td>...</td>\n",
       "      <td>0</td>\n",
       "      <td>0</td>\n",
       "      <td>0</td>\n",
       "      <td>6</td>\n",
       "      <td>2010</td>\n",
       "      <td>WD</td>\n",
       "      <td>189000</td>\n",
       "      <td>11</td>\n",
       "      <td>11</td>\n",
       "      <td>1.89</td>\n",
       "    </tr>\n",
       "  </tbody>\n",
       "</table>\n",
       "<p>2046 rows × 79 columns</p>\n",
       "</div>"
      ],
      "text/plain": [
       "        id        pid  ms_subclass ms_zoning  lot_frontage  lot_area street  \\\n",
       "0      109  533352170           60        RL           0.0     13517   Pave   \n",
       "1      544  531379050           60        RL          43.0     11492   Pave   \n",
       "2      153  535304180           20        RL          68.0      7922   Pave   \n",
       "3      318  916386060           60        RL          73.0      9802   Pave   \n",
       "4      255  906425045           50        RL          82.0     14235   Pave   \n",
       "...    ...        ...          ...       ...           ...       ...    ...   \n",
       "2041  1587  921126030           20        RL          79.0     11449   Pave   \n",
       "2042   785  905377130           30        RL           0.0     12342   Pave   \n",
       "2043   916  909253010           50        RL          57.0      7558   Pave   \n",
       "2044   639  535179160           20        RL          80.0     10400   Pave   \n",
       "2045    10  527162130           60        RL          60.0      7500   Pave   \n",
       "\n",
       "     lot_shape land_contour utilities  ... screen_porch pool_area misc_val  \\\n",
       "0          IR1          Lvl    AllPub  ...            0         0        0   \n",
       "1          IR1          Lvl    AllPub  ...            0         0        0   \n",
       "2          Reg          Lvl    AllPub  ...            0         0        0   \n",
       "3          Reg          Lvl    AllPub  ...            0         0        0   \n",
       "4          IR1          Lvl    AllPub  ...            0         0        0   \n",
       "...        ...          ...       ...  ...          ...       ...      ...   \n",
       "2041       IR1          HLS    AllPub  ...            0         0        0   \n",
       "2042       IR1          Lvl    AllPub  ...            0         0        0   \n",
       "2043       Reg          Bnk    AllPub  ...            0         0        0   \n",
       "2044       Reg          Lvl    AllPub  ...            0         0        0   \n",
       "2045       Reg          Lvl    AllPub  ...            0         0        0   \n",
       "\n",
       "     mo_sold yr_sold sale_type saleprice  age_since_remodel  age  \\\n",
       "0          3    2010       WD     130500                  5   34   \n",
       "1          4    2009       WD     220000                 12   13   \n",
       "2          1    2010       WD     109000                  3   57   \n",
       "3          4    2010       WD     174000                  3    4   \n",
       "4          3    2010       WD     138500                 17  110   \n",
       "...      ...     ...       ...       ...                ...  ...   \n",
       "2041       1    2008       WD     298751                  1    1   \n",
       "2042       3    2009       WD      82500                 59   69   \n",
       "2043       3    2009       WD     177000                 59   81   \n",
       "2044      11    2009       WD     144000                 53   53   \n",
       "2045       6    2010       WD     189000                 11   11   \n",
       "\n",
       "      neighborhood_value  \n",
       "0                   1.37  \n",
       "1                   1.88  \n",
       "2                   1.46  \n",
       "3                   2.40  \n",
       "4                   1.88  \n",
       "...                  ...  \n",
       "2041                2.40  \n",
       "2042                1.30  \n",
       "2043                2.06  \n",
       "2044                1.46  \n",
       "2045                1.89  \n",
       "\n",
       "[2046 rows x 79 columns]"
      ]
     },
     "execution_count": 69,
     "metadata": {},
     "output_type": "execute_result"
    }
   ],
   "source": [
    "ames"
   ]
  },
  {
   "cell_type": "markdown",
   "id": "04f1e287",
   "metadata": {},
   "source": [
    "Model 3 included only full baths as a feature. However, as Ames is a collegetown, many of the occupants are actually students. Many of those students may also be sharing a property which makes half baths appealing as well. Hence, I will create a new column which adds all the full baths and half baths together."
   ]
  },
  {
   "cell_type": "code",
   "execution_count": 70,
   "id": "21e365c3",
   "metadata": {},
   "outputs": [],
   "source": [
    "# Creating a new feature\n",
    "ames['all_baths'] = ames['full_bath'] + ames['half_bath'] + ames['bsmt_full_bath'] + ames['bsmt_half_bath']"
   ]
  },
  {
   "cell_type": "code",
   "execution_count": 71,
   "id": "81dab1f4",
   "metadata": {},
   "outputs": [],
   "source": [
    "# Dummify the variables of interest\n",
    "ames_dummies4 = pd.get_dummies(\n",
    "    data=ames,\n",
    "    drop_first=True,\n",
    "    columns=[\n",
    "        'ms_subclass','ms_zoning',\n",
    "        'lot_config', 'land_contour', 'lot_shape',\n",
    "        'heating', 'central_air', 'sale_type',\n",
    "        'exterior_1st', 'exterior_2nd', 'functional', 'foundation',\n",
    "        'condition_1', 'bldg_type', 'house_style'\n",
    "])"
   ]
  },
  {
   "cell_type": "code",
   "execution_count": 72,
   "id": "72233205",
   "metadata": {},
   "outputs": [],
   "source": [
    "# Creating the model by all unwanted columns\n",
    "x_var_model_4 = ames_dummies4.drop(columns= [\n",
    "    # features to keep\n",
    "    #'overall_qual', 'gr_liv_area','garage_area',\n",
    "    #'age','totrms_abvgrd',\n",
    "    #'all_baths', 'exter_qual', 'total_bsmt_sf',\n",
    "    #'bsmt_qual', 'mas_vnr_area', 'heating_qc'\n",
    "    #'fireplaces', 'exter_cond'\n",
    "    #'wood_deck_sf', 'open_porch_sf',\n",
    "    \n",
    "    # unwanted features\n",
    "    'id', 'pid', 'lot_frontage', 'lot_area', 'street',\n",
    "    'utilities','land_slope','neighborhood', 'condition_2',\n",
    "    'overall_cond', 'year_built','year_remod/add','roof_style',\n",
    "    'roof_matl', 'mas_vnr_type', 'bsmt_cond',\n",
    "    'bsmt_exposure','bsmtfin_type_1','bsmtfin_sf_1', 'bsmtfin_type_2',\n",
    "    'bsmtfin_sf_2','bsmt_unf_sf', 'electrical', '1st_flr_sf',\n",
    "    '2nd_flr_sf', 'low_qual_fin_sf', 'bsmt_full_bath', 'bsmt_half_bath',\n",
    "    'full_bath', 'half_bath', 'bedroom_abvgr', 'kitchen_abvgr',\n",
    "    'garage_type', 'garage_yr_blt', 'garage_finish', 'garage_cars',\n",
    "    'garage_qual', 'garage_cond', 'paved_drive', 'enclosed_porch',\n",
    "    '3ssn_porch', 'screen_porch', 'pool_area', 'misc_val', 'mo_sold',\n",
    "    'yr_sold', 'age_since_remodel',\n",
    "    \n",
    "    # y to be kept\n",
    "    #'saleprice'\n",
    "])"
   ]
  },
  {
   "cell_type": "code",
   "execution_count": 73,
   "id": "c9c95c42",
   "metadata": {},
   "outputs": [
    {
     "data": {
      "text/html": [
       "<div>\n",
       "<style scoped>\n",
       "    .dataframe tbody tr th:only-of-type {\n",
       "        vertical-align: middle;\n",
       "    }\n",
       "\n",
       "    .dataframe tbody tr th {\n",
       "        vertical-align: top;\n",
       "    }\n",
       "\n",
       "    .dataframe thead th {\n",
       "        text-align: right;\n",
       "    }\n",
       "</style>\n",
       "<table border=\"1\" class=\"dataframe\">\n",
       "  <thead>\n",
       "    <tr style=\"text-align: right;\">\n",
       "      <th></th>\n",
       "      <th>overall_qual</th>\n",
       "      <th>mas_vnr_area</th>\n",
       "      <th>exter_qual</th>\n",
       "      <th>exter_cond</th>\n",
       "      <th>bsmt_qual</th>\n",
       "      <th>total_bsmt_sf</th>\n",
       "      <th>heating_qc</th>\n",
       "      <th>gr_liv_area</th>\n",
       "      <th>kitchen_qual</th>\n",
       "      <th>totrms_abvgrd</th>\n",
       "      <th>...</th>\n",
       "      <th>bldg_type_Duplex</th>\n",
       "      <th>bldg_type_Twnhs</th>\n",
       "      <th>bldg_type_TwnhsE</th>\n",
       "      <th>house_style_1.5Unf</th>\n",
       "      <th>house_style_1Story</th>\n",
       "      <th>house_style_2.5Fin</th>\n",
       "      <th>house_style_2.5Unf</th>\n",
       "      <th>house_style_2Story</th>\n",
       "      <th>house_style_SFoyer</th>\n",
       "      <th>house_style_SLvl</th>\n",
       "    </tr>\n",
       "  </thead>\n",
       "  <tbody>\n",
       "    <tr>\n",
       "      <th>0</th>\n",
       "      <td>6</td>\n",
       "      <td>289.0</td>\n",
       "      <td>4</td>\n",
       "      <td>3</td>\n",
       "      <td>3</td>\n",
       "      <td>725.0</td>\n",
       "      <td>5</td>\n",
       "      <td>1479</td>\n",
       "      <td>4</td>\n",
       "      <td>6</td>\n",
       "      <td>...</td>\n",
       "      <td>0</td>\n",
       "      <td>0</td>\n",
       "      <td>0</td>\n",
       "      <td>0</td>\n",
       "      <td>0</td>\n",
       "      <td>0</td>\n",
       "      <td>0</td>\n",
       "      <td>1</td>\n",
       "      <td>0</td>\n",
       "      <td>0</td>\n",
       "    </tr>\n",
       "    <tr>\n",
       "      <th>1</th>\n",
       "      <td>7</td>\n",
       "      <td>132.0</td>\n",
       "      <td>4</td>\n",
       "      <td>3</td>\n",
       "      <td>4</td>\n",
       "      <td>913.0</td>\n",
       "      <td>5</td>\n",
       "      <td>2122</td>\n",
       "      <td>4</td>\n",
       "      <td>8</td>\n",
       "      <td>...</td>\n",
       "      <td>0</td>\n",
       "      <td>0</td>\n",
       "      <td>0</td>\n",
       "      <td>0</td>\n",
       "      <td>0</td>\n",
       "      <td>0</td>\n",
       "      <td>0</td>\n",
       "      <td>1</td>\n",
       "      <td>0</td>\n",
       "      <td>0</td>\n",
       "    </tr>\n",
       "    <tr>\n",
       "      <th>2</th>\n",
       "      <td>5</td>\n",
       "      <td>0.0</td>\n",
       "      <td>3</td>\n",
       "      <td>4</td>\n",
       "      <td>3</td>\n",
       "      <td>1057.0</td>\n",
       "      <td>3</td>\n",
       "      <td>1057</td>\n",
       "      <td>4</td>\n",
       "      <td>5</td>\n",
       "      <td>...</td>\n",
       "      <td>0</td>\n",
       "      <td>0</td>\n",
       "      <td>0</td>\n",
       "      <td>0</td>\n",
       "      <td>1</td>\n",
       "      <td>0</td>\n",
       "      <td>0</td>\n",
       "      <td>0</td>\n",
       "      <td>0</td>\n",
       "      <td>0</td>\n",
       "    </tr>\n",
       "    <tr>\n",
       "      <th>3</th>\n",
       "      <td>5</td>\n",
       "      <td>0.0</td>\n",
       "      <td>3</td>\n",
       "      <td>3</td>\n",
       "      <td>4</td>\n",
       "      <td>384.0</td>\n",
       "      <td>4</td>\n",
       "      <td>1444</td>\n",
       "      <td>3</td>\n",
       "      <td>7</td>\n",
       "      <td>...</td>\n",
       "      <td>0</td>\n",
       "      <td>0</td>\n",
       "      <td>0</td>\n",
       "      <td>0</td>\n",
       "      <td>0</td>\n",
       "      <td>0</td>\n",
       "      <td>0</td>\n",
       "      <td>1</td>\n",
       "      <td>0</td>\n",
       "      <td>0</td>\n",
       "    </tr>\n",
       "    <tr>\n",
       "      <th>4</th>\n",
       "      <td>6</td>\n",
       "      <td>0.0</td>\n",
       "      <td>3</td>\n",
       "      <td>3</td>\n",
       "      <td>2</td>\n",
       "      <td>676.0</td>\n",
       "      <td>3</td>\n",
       "      <td>1445</td>\n",
       "      <td>3</td>\n",
       "      <td>6</td>\n",
       "      <td>...</td>\n",
       "      <td>0</td>\n",
       "      <td>0</td>\n",
       "      <td>0</td>\n",
       "      <td>0</td>\n",
       "      <td>0</td>\n",
       "      <td>0</td>\n",
       "      <td>0</td>\n",
       "      <td>0</td>\n",
       "      <td>0</td>\n",
       "      <td>0</td>\n",
       "    </tr>\n",
       "    <tr>\n",
       "      <th>...</th>\n",
       "      <td>...</td>\n",
       "      <td>...</td>\n",
       "      <td>...</td>\n",
       "      <td>...</td>\n",
       "      <td>...</td>\n",
       "      <td>...</td>\n",
       "      <td>...</td>\n",
       "      <td>...</td>\n",
       "      <td>...</td>\n",
       "      <td>...</td>\n",
       "      <td>...</td>\n",
       "      <td>...</td>\n",
       "      <td>...</td>\n",
       "      <td>...</td>\n",
       "      <td>...</td>\n",
       "      <td>...</td>\n",
       "      <td>...</td>\n",
       "      <td>...</td>\n",
       "      <td>...</td>\n",
       "      <td>...</td>\n",
       "      <td>...</td>\n",
       "    </tr>\n",
       "    <tr>\n",
       "      <th>2041</th>\n",
       "      <td>8</td>\n",
       "      <td>0.0</td>\n",
       "      <td>4</td>\n",
       "      <td>3</td>\n",
       "      <td>4</td>\n",
       "      <td>1884.0</td>\n",
       "      <td>5</td>\n",
       "      <td>1728</td>\n",
       "      <td>4</td>\n",
       "      <td>7</td>\n",
       "      <td>...</td>\n",
       "      <td>0</td>\n",
       "      <td>0</td>\n",
       "      <td>0</td>\n",
       "      <td>0</td>\n",
       "      <td>1</td>\n",
       "      <td>0</td>\n",
       "      <td>0</td>\n",
       "      <td>0</td>\n",
       "      <td>0</td>\n",
       "      <td>0</td>\n",
       "    </tr>\n",
       "    <tr>\n",
       "      <th>2042</th>\n",
       "      <td>4</td>\n",
       "      <td>0.0</td>\n",
       "      <td>3</td>\n",
       "      <td>3</td>\n",
       "      <td>3</td>\n",
       "      <td>861.0</td>\n",
       "      <td>5</td>\n",
       "      <td>861</td>\n",
       "      <td>3</td>\n",
       "      <td>4</td>\n",
       "      <td>...</td>\n",
       "      <td>0</td>\n",
       "      <td>0</td>\n",
       "      <td>0</td>\n",
       "      <td>0</td>\n",
       "      <td>1</td>\n",
       "      <td>0</td>\n",
       "      <td>0</td>\n",
       "      <td>0</td>\n",
       "      <td>0</td>\n",
       "      <td>0</td>\n",
       "    </tr>\n",
       "    <tr>\n",
       "      <th>2043</th>\n",
       "      <td>6</td>\n",
       "      <td>0.0</td>\n",
       "      <td>3</td>\n",
       "      <td>3</td>\n",
       "      <td>3</td>\n",
       "      <td>896.0</td>\n",
       "      <td>4</td>\n",
       "      <td>1913</td>\n",
       "      <td>3</td>\n",
       "      <td>9</td>\n",
       "      <td>...</td>\n",
       "      <td>0</td>\n",
       "      <td>0</td>\n",
       "      <td>0</td>\n",
       "      <td>0</td>\n",
       "      <td>0</td>\n",
       "      <td>0</td>\n",
       "      <td>0</td>\n",
       "      <td>0</td>\n",
       "      <td>0</td>\n",
       "      <td>0</td>\n",
       "    </tr>\n",
       "    <tr>\n",
       "      <th>2044</th>\n",
       "      <td>4</td>\n",
       "      <td>0.0</td>\n",
       "      <td>3</td>\n",
       "      <td>3</td>\n",
       "      <td>3</td>\n",
       "      <td>1200.0</td>\n",
       "      <td>3</td>\n",
       "      <td>1200</td>\n",
       "      <td>3</td>\n",
       "      <td>6</td>\n",
       "      <td>...</td>\n",
       "      <td>0</td>\n",
       "      <td>0</td>\n",
       "      <td>0</td>\n",
       "      <td>0</td>\n",
       "      <td>1</td>\n",
       "      <td>0</td>\n",
       "      <td>0</td>\n",
       "      <td>0</td>\n",
       "      <td>0</td>\n",
       "      <td>0</td>\n",
       "    </tr>\n",
       "    <tr>\n",
       "      <th>2045</th>\n",
       "      <td>7</td>\n",
       "      <td>0.0</td>\n",
       "      <td>3</td>\n",
       "      <td>3</td>\n",
       "      <td>3</td>\n",
       "      <td>994.0</td>\n",
       "      <td>4</td>\n",
       "      <td>1804</td>\n",
       "      <td>4</td>\n",
       "      <td>7</td>\n",
       "      <td>...</td>\n",
       "      <td>0</td>\n",
       "      <td>0</td>\n",
       "      <td>0</td>\n",
       "      <td>0</td>\n",
       "      <td>0</td>\n",
       "      <td>0</td>\n",
       "      <td>0</td>\n",
       "      <td>1</td>\n",
       "      <td>0</td>\n",
       "      <td>0</td>\n",
       "    </tr>\n",
       "  </tbody>\n",
       "</table>\n",
       "<p>2046 rows × 121 columns</p>\n",
       "</div>"
      ],
      "text/plain": [
       "      overall_qual  mas_vnr_area  exter_qual  exter_cond  bsmt_qual  \\\n",
       "0                6         289.0           4           3          3   \n",
       "1                7         132.0           4           3          4   \n",
       "2                5           0.0           3           4          3   \n",
       "3                5           0.0           3           3          4   \n",
       "4                6           0.0           3           3          2   \n",
       "...            ...           ...         ...         ...        ...   \n",
       "2041             8           0.0           4           3          4   \n",
       "2042             4           0.0           3           3          3   \n",
       "2043             6           0.0           3           3          3   \n",
       "2044             4           0.0           3           3          3   \n",
       "2045             7           0.0           3           3          3   \n",
       "\n",
       "      total_bsmt_sf  heating_qc  gr_liv_area  kitchen_qual  totrms_abvgrd  \\\n",
       "0             725.0           5         1479             4              6   \n",
       "1             913.0           5         2122             4              8   \n",
       "2            1057.0           3         1057             4              5   \n",
       "3             384.0           4         1444             3              7   \n",
       "4             676.0           3         1445             3              6   \n",
       "...             ...         ...          ...           ...            ...   \n",
       "2041         1884.0           5         1728             4              7   \n",
       "2042          861.0           5          861             3              4   \n",
       "2043          896.0           4         1913             3              9   \n",
       "2044         1200.0           3         1200             3              6   \n",
       "2045          994.0           4         1804             4              7   \n",
       "\n",
       "      ...  bldg_type_Duplex  bldg_type_Twnhs  bldg_type_TwnhsE  \\\n",
       "0     ...                 0                0                 0   \n",
       "1     ...                 0                0                 0   \n",
       "2     ...                 0                0                 0   \n",
       "3     ...                 0                0                 0   \n",
       "4     ...                 0                0                 0   \n",
       "...   ...               ...              ...               ...   \n",
       "2041  ...                 0                0                 0   \n",
       "2042  ...                 0                0                 0   \n",
       "2043  ...                 0                0                 0   \n",
       "2044  ...                 0                0                 0   \n",
       "2045  ...                 0                0                 0   \n",
       "\n",
       "      house_style_1.5Unf  house_style_1Story  house_style_2.5Fin  \\\n",
       "0                      0                   0                   0   \n",
       "1                      0                   0                   0   \n",
       "2                      0                   1                   0   \n",
       "3                      0                   0                   0   \n",
       "4                      0                   0                   0   \n",
       "...                  ...                 ...                 ...   \n",
       "2041                   0                   1                   0   \n",
       "2042                   0                   1                   0   \n",
       "2043                   0                   0                   0   \n",
       "2044                   0                   1                   0   \n",
       "2045                   0                   0                   0   \n",
       "\n",
       "      house_style_2.5Unf  house_style_2Story  house_style_SFoyer  \\\n",
       "0                      0                   1                   0   \n",
       "1                      0                   1                   0   \n",
       "2                      0                   0                   0   \n",
       "3                      0                   1                   0   \n",
       "4                      0                   0                   0   \n",
       "...                  ...                 ...                 ...   \n",
       "2041                   0                   0                   0   \n",
       "2042                   0                   0                   0   \n",
       "2043                   0                   0                   0   \n",
       "2044                   0                   0                   0   \n",
       "2045                   0                   1                   0   \n",
       "\n",
       "      house_style_SLvl  \n",
       "0                    0  \n",
       "1                    0  \n",
       "2                    0  \n",
       "3                    0  \n",
       "4                    0  \n",
       "...                ...  \n",
       "2041                 0  \n",
       "2042                 0  \n",
       "2043                 0  \n",
       "2044                 0  \n",
       "2045                 0  \n",
       "\n",
       "[2046 rows x 121 columns]"
      ]
     },
     "execution_count": 73,
     "metadata": {},
     "output_type": "execute_result"
    }
   ],
   "source": [
    "# Check to ensure that all the features are present\n",
    "x_var_model_4"
   ]
  },
  {
   "cell_type": "code",
   "execution_count": 74,
   "id": "eb4ff7eb",
   "metadata": {},
   "outputs": [],
   "source": [
    "# Creating a list of the columns excluding saleprice\n",
    "features_4 = [col for col in x_var_model_4._get_numeric_data().columns if col != 'saleprice']\n",
    "\n",
    "# Assembling X and y variables.\n",
    "X4 = x_var_model_4[features_4]\n",
    "y4 = x_var_model_4['saleprice']\n",
    "\n",
    "# Creating a train/test split\n",
    "X_train4, X_test4, y_train4, y_test4 = train_test_split(\n",
    "    X4,\n",
    "    y4,\n",
    "    test_size=0.2,\n",
    ")"
   ]
  },
  {
   "cell_type": "code",
   "execution_count": 75,
   "id": "c910ab34",
   "metadata": {},
   "outputs": [],
   "source": [
    "# Scale the the variables as the features are all on different scales.\n",
    "ss = StandardScaler()\n",
    "ss.fit(X_train4)\n",
    "\n",
    "Z_train4 = ss.transform(X_train4)\n",
    "Z_test4 = ss.transform(X_test4)\n"
   ]
  },
  {
   "cell_type": "code",
   "execution_count": 76,
   "id": "f09089e5",
   "metadata": {},
   "outputs": [],
   "source": [
    "# Instantiating the model\n",
    "lr4 = LinearRegression()"
   ]
  },
  {
   "cell_type": "code",
   "execution_count": 77,
   "id": "b1aaf343",
   "metadata": {},
   "outputs": [
    {
     "data": {
      "text/plain": [
       "LinearRegression()"
      ]
     },
     "execution_count": 77,
     "metadata": {},
     "output_type": "execute_result"
    }
   ],
   "source": [
    "# Fitting it to the scaled variables\n",
    "lr4.fit(Z_train4, y_train4)"
   ]
  },
  {
   "cell_type": "code",
   "execution_count": 78,
   "id": "cc003231",
   "metadata": {},
   "outputs": [
    {
     "data": {
      "text/plain": [
       "1.3993146356154248e+33"
      ]
     },
     "execution_count": 78,
     "metadata": {},
     "output_type": "execute_result"
    }
   ],
   "source": [
    "# Evaluating with 10 folds cross validation scoring with mean squared error\n",
    "- cross_val_score(\n",
    "    lr4,\n",
    "    Z_train4,\n",
    "    y_train4,\n",
    "    cv=10,\n",
    "    scoring='neg_mean_squared_error'\n",
    ").mean()"
   ]
  },
  {
   "cell_type": "code",
   "execution_count": 79,
   "id": "ffc25860",
   "metadata": {},
   "outputs": [
    {
     "data": {
      "text/plain": [
       "7.527697209505652e+28"
      ]
     },
     "execution_count": 79,
     "metadata": {},
     "output_type": "execute_result"
    }
   ],
   "source": [
    "# Calculating the mean squared error on the test data\n",
    "mean_squared_error(\n",
    "    y_test4,\n",
    "    lr4.predict(Z_test4)\n",
    ")"
   ]
  },
  {
   "cell_type": "code",
   "execution_count": 80,
   "id": "2733add4",
   "metadata": {},
   "outputs": [
    {
     "data": {
      "image/png": "[encoded data removed]",
      "text/plain": [
       "<Figure size 432x288 with 1 Axes>"
      ]
     },
     "metadata": {
      "needs_background": "light"
     },
     "output_type": "display_data"
    }
   ],
   "source": [
    "plt.scatter(lr4.predict(Z_test4), y_test4)\n",
    "plt.title('Model 4: Predicted Price vs Actual Price')\n",
    "plt.xlabel('Predicted Price')\n",
    "plt.ylabel('Actual Price');"
   ]
  },
  {
   "cell_type": "markdown",
   "id": "f1a570d1",
   "metadata": {},
   "source": [
    "#### Performing Lasso regularization on model 4"
   ]
  },
  {
   "cell_type": "code",
   "execution_count": 81,
   "id": "4563a6ed",
   "metadata": {},
   "outputs": [],
   "source": [
    "# Instantiating Lasso regularization\n",
    "lasso4 = LassoCV(n_alphas=200)"
   ]
  },
  {
   "cell_type": "code",
   "execution_count": 82,
   "id": "3a2478c3",
   "metadata": {},
   "outputs": [
    {
     "data": {
      "text/plain": [
       "904.1242248762178"
      ]
     },
     "execution_count": 82,
     "metadata": {},
     "output_type": "execute_result"
    }
   ],
   "source": [
    "# Fitting the lasso model\n",
    "lasso4.fit(Z_train4, y_train4)\n",
    "\n",
    "# Calculating best alpha for the model\n",
    "lasso4.alpha_"
   ]
  },
  {
   "cell_type": "code",
   "execution_count": 83,
   "id": "d252b443",
   "metadata": {},
   "outputs": [],
   "source": [
    "# Reinstantiate Lasso with the best alpha.\n",
    "lasso_best4 = Lasso(alpha=lasso4.alpha_)"
   ]
  },
  {
   "cell_type": "code",
   "execution_count": 84,
   "id": "d7d656b6",
   "metadata": {},
   "outputs": [
    {
     "data": {
      "text/plain": [
       "766818966.1981301"
      ]
     },
     "execution_count": 84,
     "metadata": {},
     "output_type": "execute_result"
    }
   ],
   "source": [
    "# Evaluating with 10 folds cross validation scoring with mean squared error\n",
    "- cross_val_score(\n",
    "    lasso_best4,\n",
    "    Z_train4,\n",
    "    y_train4,\n",
    "    cv=10,\n",
    "    scoring='neg_mean_squared_error'\n",
    ").mean()"
   ]
  },
  {
   "cell_type": "code",
   "execution_count": 85,
   "id": "c2a919a8",
   "metadata": {},
   "outputs": [
    {
     "data": {
      "text/plain": [
       "700309414.7770089"
      ]
     },
     "execution_count": 85,
     "metadata": {},
     "output_type": "execute_result"
    }
   ],
   "source": [
    "# Refitting the lasso model\n",
    "lasso_best4.fit(Z_train4, y_train4)\n",
    "\n",
    "# Calculating the mean squared error on the test data\n",
    "mean_squared_error(\n",
    "    y_test4,\n",
    "    lasso_best4.predict(Z_test4)\n",
    ")"
   ]
  },
  {
   "cell_type": "code",
   "execution_count": 86,
   "id": "0b0ddc38",
   "metadata": {},
   "outputs": [
    {
     "data": {
      "image/png": "[encoded data removed]",
      "text/plain": [
       "<Figure size 432x288 with 1 Axes>"
      ]
     },
     "metadata": {
      "needs_background": "light"
     },
     "output_type": "display_data"
    }
   ],
   "source": [
    "plt.scatter(lasso_best4.predict(Z_test4), y_test4)\n",
    "plt.title('Model 4 (Lasso): Predicted Price vs Actual Price')\n",
    "plt.xlabel('Predicted Price')\n",
    "plt.ylabel('Actual Price');"
   ]
  },
  {
   "cell_type": "markdown",
   "id": "b0113f96",
   "metadata": {},
   "source": [
    "#### Performing Ridge regularization on model 4"
   ]
  },
  {
   "cell_type": "code",
   "execution_count": 87,
   "id": "7d06789f",
   "metadata": {},
   "outputs": [],
   "source": [
    "# Instantiating Ridge regularization\n",
    "ridge4 = RidgeCV(alphas=np.logspace(0, 10, 200))"
   ]
  },
  {
   "cell_type": "code",
   "execution_count": 88,
   "id": "762a1dc3",
   "metadata": {},
   "outputs": [
    {
     "data": {
      "text/plain": [
       "64.42363508721374"
      ]
     },
     "execution_count": 88,
     "metadata": {},
     "output_type": "execute_result"
    }
   ],
   "source": [
    "# Fitting the Ridge model\n",
    "ridge4.fit(Z_train4, y_train4)\n",
    "\n",
    "# Calculating best alpha for the model\n",
    "ridge4.alpha_"
   ]
  },
  {
   "cell_type": "code",
   "execution_count": 89,
   "id": "ffe458f0",
   "metadata": {},
   "outputs": [],
   "source": [
    "# Reinstantiate Lasso with the best alpha.\n",
    "ridge_best4 = Ridge(alpha=ridge4.alpha_)"
   ]
  },
  {
   "cell_type": "code",
   "execution_count": 90,
   "id": "609af890",
   "metadata": {},
   "outputs": [
    {
     "data": {
      "text/plain": [
       "786327935.2363237"
      ]
     },
     "execution_count": 90,
     "metadata": {},
     "output_type": "execute_result"
    }
   ],
   "source": [
    "# Evaluating with 10 folds cross validation scoring with mean squared error\n",
    "- cross_val_score(\n",
    "    ridge_best4,\n",
    "    Z_train4,\n",
    "    y_train4,\n",
    "    cv=10,\n",
    "    scoring='neg_mean_squared_error'\n",
    ").mean()"
   ]
  },
  {
   "cell_type": "code",
   "execution_count": 91,
   "id": "f2345849",
   "metadata": {},
   "outputs": [
    {
     "data": {
      "text/plain": [
       "658461973.6359664"
      ]
     },
     "execution_count": 91,
     "metadata": {},
     "output_type": "execute_result"
    }
   ],
   "source": [
    "# Refitting the Ridge model\n",
    "ridge_best4.fit(Z_train4, y_train4)\n",
    "\n",
    "# Calculating the mean squared error on the test data\n",
    "mean_squared_error(\n",
    "    y_test4,\n",
    "    ridge_best4.predict(Z_test4)\n",
    ")"
   ]
  },
  {
   "cell_type": "code",
   "execution_count": 92,
   "id": "4340cd84",
   "metadata": {},
   "outputs": [
    {
     "data": {
      "image/png": "[encoded data removed]",
      "text/plain": [
       "<Figure size 432x288 with 1 Axes>"
      ]
     },
     "metadata": {
      "needs_background": "light"
     },
     "output_type": "display_data"
    }
   ],
   "source": [
    "plt.scatter(ridge_best4.predict(Z_test4), y_test4)\n",
    "plt.title('Model 4 (Ridge): Predicted Price vs Actual Price')\n",
    "plt.xlabel('Predicted Price')\n",
    "plt.ylabel('Actual Price');"
   ]
  },
  {
   "cell_type": "markdown",
   "id": "94c139b8",
   "metadata": {},
   "source": [
    "In this model, there are 121 columns which seems to create some overfitting with the model. I would then like to try and reduce the number of dummies by grouping some of the categorical variables similiar to how I grouped the neighborhoods."
   ]
  },
  {
   "cell_type": "markdown",
   "id": "47c339c7",
   "metadata": {},
   "source": [
    "### Model 5"
   ]
  },
  {
   "cell_type": "markdown",
   "id": "87bc2417",
   "metadata": {},
   "source": [
    "Changing the categorical variables to a numerical value and grouping the categories together may give a better result.\n",
    "\n",
    "Similar to the neighborhood column, I will be grouping the categories by their average sale price and giving them a value based on the average category sale price divided by 100,000."
   ]
  },
  {
   "cell_type": "code",
   "execution_count": 93,
   "id": "69750964",
   "metadata": {},
   "outputs": [],
   "source": [
    "# Creating a function to change \n",
    "def group_by_price(col_name):\n",
    "    col_name = ames.groupby(col_name)['saleprice'].mean()\n",
    "    col_name = col_name.to_dict()\n",
    "    \n",
    "    for key, value in col_name.items():\n",
    "        col_name[key] = round((value/100000), 2)\n",
    "        \n",
    "    return col_name"
   ]
  },
  {
   "cell_type": "markdown",
   "id": "1d5a4cf5",
   "metadata": {},
   "source": [
    "#### Creating new columns for all categorical variables of interest."
   ]
  },
  {
   "cell_type": "markdown",
   "id": "100688bf",
   "metadata": {},
   "source": [
    "For the categorical variables below, they will all follow a 2 step process:\n",
    "1) Create a dictionary <br/>\n",
    "2) Apply the the new values into the new columns"
   ]
  },
  {
   "cell_type": "code",
   "execution_count": 94,
   "id": "b9619ba4",
   "metadata": {
    "scrolled": false
   },
   "outputs": [
    {
     "data": {
      "text/plain": [
       "{20: 1.89,\n",
       " 30: 0.95,\n",
       " 40: 1.19,\n",
       " 45: 1.16,\n",
       " 50: 1.37,\n",
       " 60: 2.39,\n",
       " 70: 1.53,\n",
       " 75: 2.05,\n",
       " 80: 1.7,\n",
       " 85: 1.54,\n",
       " 90: 1.39,\n",
       " 120: 2.12,\n",
       " 150: 1.48,\n",
       " 160: 1.38,\n",
       " 180: 1.1,\n",
       " 190: 1.24}"
      ]
     },
     "execution_count": 94,
     "metadata": {},
     "output_type": "execute_result"
    }
   ],
   "source": [
    "subclass_dict = group_by_price('ms_subclass')\n",
    "subclass_dict"
   ]
  },
  {
   "cell_type": "code",
   "execution_count": 95,
   "id": "c175b0a1",
   "metadata": {},
   "outputs": [],
   "source": [
    "ames['ms_subclass_value'] = ames['ms_subclass'].apply(\n",
    "    lambda x: subclass_dict[x]\n",
    ")"
   ]
  },
  {
   "cell_type": "code",
   "execution_count": 96,
   "id": "abd66874",
   "metadata": {},
   "outputs": [
    {
     "data": {
      "text/plain": [
       "{'A (agr)': 0.47,\n",
       " 'C (all)': 0.78,\n",
       " 'FV': 2.19,\n",
       " 'I (all)': 0.58,\n",
       " 'RH': 1.49,\n",
       " 'RL': 1.91,\n",
       " 'RM': 1.29}"
      ]
     },
     "execution_count": 96,
     "metadata": {},
     "output_type": "execute_result"
    }
   ],
   "source": [
    "zone_dict = group_by_price('ms_zoning')\n",
    "zone_dict"
   ]
  },
  {
   "cell_type": "code",
   "execution_count": 97,
   "id": "4915027e",
   "metadata": {},
   "outputs": [],
   "source": [
    "ames['ms_zoning_value'] = ames['ms_zoning'].apply(\n",
    "    lambda x: zone_dict[x]\n",
    ")"
   ]
  },
  {
   "cell_type": "code",
   "execution_count": 98,
   "id": "419425ab",
   "metadata": {
    "scrolled": true
   },
   "outputs": [
    {
     "data": {
      "text/plain": [
       "{'Corner': 1.81, 'CulDSac': 2.3, 'FR2': 1.75, 'FR3': 1.99, 'Inside': 1.77}"
      ]
     },
     "execution_count": 98,
     "metadata": {},
     "output_type": "execute_result"
    }
   ],
   "source": [
    "config_dict = group_by_price('lot_config')\n",
    "config_dict "
   ]
  },
  {
   "cell_type": "code",
   "execution_count": 99,
   "id": "8b5a866d",
   "metadata": {},
   "outputs": [],
   "source": [
    "ames['lot_config_value'] = ames['lot_config'].apply(\n",
    "    lambda x: config_dict[x]\n",
    ")"
   ]
  },
  {
   "cell_type": "code",
   "execution_count": 100,
   "id": "6d62f326",
   "metadata": {},
   "outputs": [
    {
     "data": {
      "text/plain": [
       "{'Bnk': 1.42, 'HLS': 2.62, 'Low': 1.95, 'Lvl': 1.79}"
      ]
     },
     "execution_count": 100,
     "metadata": {},
     "output_type": "execute_result"
    }
   ],
   "source": [
    "contour_dict = group_by_price('land_contour') \n",
    "contour_dict "
   ]
  },
  {
   "cell_type": "code",
   "execution_count": 101,
   "id": "8045ba58",
   "metadata": {},
   "outputs": [],
   "source": [
    "ames['land_contour_value'] = ames['land_contour'].apply(\n",
    "    lambda x: contour_dict[x]\n",
    ")"
   ]
  },
  {
   "cell_type": "code",
   "execution_count": 102,
   "id": "7f397a1f",
   "metadata": {},
   "outputs": [
    {
     "data": {
      "text/plain": [
       "{'IR1': 2.12, 'IR2': 2.32, 'IR3': 1.97, 'Reg': 1.63}"
      ]
     },
     "execution_count": 102,
     "metadata": {},
     "output_type": "execute_result"
    }
   ],
   "source": [
    "lot_shape_dict = group_by_price('lot_shape') \n",
    "lot_shape_dict "
   ]
  },
  {
   "cell_type": "code",
   "execution_count": 103,
   "id": "b67e5eba",
   "metadata": {},
   "outputs": [],
   "source": [
    "ames['lot_shape_value'] = ames['lot_shape'].apply(\n",
    "    lambda x: lot_shape_dict[x]\n",
    ")"
   ]
  },
  {
   "cell_type": "code",
   "execution_count": 104,
   "id": "5be99e53",
   "metadata": {
    "scrolled": true
   },
   "outputs": [
    {
     "data": {
      "text/plain": [
       "{'GasA': 1.82, 'GasW': 1.51, 'Grav': 0.65, 'OthW': 1.26, 'Wall': 0.77}"
      ]
     },
     "execution_count": 104,
     "metadata": {},
     "output_type": "execute_result"
    }
   ],
   "source": [
    "heating_dict = group_by_price('heating') \n",
    "heating_dict "
   ]
  },
  {
   "cell_type": "code",
   "execution_count": 105,
   "id": "180dd741",
   "metadata": {},
   "outputs": [],
   "source": [
    "ames['heating_value'] = ames['heating'].apply(\n",
    "    lambda x: heating_dict[x]\n",
    ")"
   ]
  },
  {
   "cell_type": "code",
   "execution_count": 106,
   "id": "ba60fc24",
   "metadata": {},
   "outputs": [
    {
     "data": {
      "text/plain": [
       "{'COD': 1.34,\n",
       " 'CWD': 1.87,\n",
       " 'Con': 2.42,\n",
       " 'ConLD': 1.29,\n",
       " 'ConLI': 2.08,\n",
       " 'ConLw': 1.25,\n",
       " 'New': 2.8,\n",
       " 'Oth': 1.27,\n",
       " 'WD ': 1.75}"
      ]
     },
     "execution_count": 106,
     "metadata": {},
     "output_type": "execute_result"
    }
   ],
   "source": [
    "sale_type_dict = group_by_price('sale_type') \n",
    "sale_type_dict "
   ]
  },
  {
   "cell_type": "code",
   "execution_count": 107,
   "id": "12386bbb",
   "metadata": {},
   "outputs": [],
   "source": [
    "ames['sale_type_value'] = ames['sale_type'].apply(\n",
    "    lambda x: sale_type_dict[x]\n",
    ")"
   ]
  },
  {
   "cell_type": "code",
   "execution_count": 108,
   "id": "b051c1f1",
   "metadata": {},
   "outputs": [
    {
     "data": {
      "text/plain": [
       "{'AsbShng': 1.03,\n",
       " 'AsphShn': 0.82,\n",
       " 'BrkComm': 1.31,\n",
       " 'BrkFace': 1.93,\n",
       " 'CBlock': 0.93,\n",
       " 'CemntBd': 2.44,\n",
       " 'HdBoard': 1.6,\n",
       " 'ImStucc': 2.62,\n",
       " 'MetalSd': 1.54,\n",
       " 'Plywood': 1.7,\n",
       " 'Stone': 2.58,\n",
       " 'Stucco': 1.39,\n",
       " 'VinylSd': 2.18,\n",
       " 'Wd Sdng': 1.42,\n",
       " 'WdShing': 1.56}"
      ]
     },
     "execution_count": 108,
     "metadata": {},
     "output_type": "execute_result"
    }
   ],
   "source": [
    "exterior_1st_dict = group_by_price('exterior_1st') \n",
    "exterior_1st_dict "
   ]
  },
  {
   "cell_type": "code",
   "execution_count": 109,
   "id": "3a79667a",
   "metadata": {},
   "outputs": [],
   "source": [
    "ames['exterior_1st_value'] = ames['exterior_1st'].apply(\n",
    "    lambda x: exterior_1st_dict[x]\n",
    ")"
   ]
  },
  {
   "cell_type": "code",
   "execution_count": 110,
   "id": "b934513e",
   "metadata": {},
   "outputs": [
    {
     "data": {
      "text/plain": [
       "{'AsbShng': 1.07,\n",
       " 'AsphShn': 1.32,\n",
       " 'Brk Cmn': 1.4,\n",
       " 'BrkFace': 1.88,\n",
       " 'CBlock': 0.92,\n",
       " 'CmentBd': 2.4,\n",
       " 'HdBoard': 1.6,\n",
       " 'ImStucc': 2.27,\n",
       " 'MetalSd': 1.56,\n",
       " 'Plywood': 1.66,\n",
       " 'Stone': 1.45,\n",
       " 'Stucco': 1.47,\n",
       " 'VinylSd': 2.18,\n",
       " 'Wd Sdng': 1.46,\n",
       " 'Wd Shng': 1.54}"
      ]
     },
     "execution_count": 110,
     "metadata": {},
     "output_type": "execute_result"
    }
   ],
   "source": [
    "exterior_2nd_dict = group_by_price('exterior_2nd') \n",
    "exterior_2nd_dict "
   ]
  },
  {
   "cell_type": "code",
   "execution_count": 111,
   "id": "987095fe",
   "metadata": {},
   "outputs": [],
   "source": [
    "ames['exterior_2nd'] = ames['exterior_2nd'].apply(\n",
    "    lambda x: exterior_2nd_dict[x]\n",
    ")"
   ]
  },
  {
   "cell_type": "code",
   "execution_count": 112,
   "id": "0134b3f0",
   "metadata": {},
   "outputs": [
    {
     "data": {
      "text/plain": [
       "{'Maj1': 1.63,\n",
       " 'Maj2': 0.87,\n",
       " 'Min1': 1.54,\n",
       " 'Min2': 1.5,\n",
       " 'Mod': 1.48,\n",
       " 'Sal': 0.32,\n",
       " 'Sev': 0.96,\n",
       " 'Typ': 1.84}"
      ]
     },
     "execution_count": 112,
     "metadata": {},
     "output_type": "execute_result"
    }
   ],
   "source": [
    "functional_dict = group_by_price('functional') \n",
    "functional_dict "
   ]
  },
  {
   "cell_type": "code",
   "execution_count": 113,
   "id": "1806c160",
   "metadata": {},
   "outputs": [],
   "source": [
    "ames['functional_value'] = ames['functional'].apply(\n",
    "    lambda x: functional_dict[x]\n",
    ")"
   ]
  },
  {
   "cell_type": "code",
   "execution_count": 114,
   "id": "0690b1f0",
   "metadata": {},
   "outputs": [
    {
     "data": {
      "text/plain": [
       "{'BrkTil': 1.29,\n",
       " 'CBlock': 1.48,\n",
       " 'PConc': 2.28,\n",
       " 'Slab': 1.09,\n",
       " 'Stone': 1.43,\n",
       " 'Wood': 1.74}"
      ]
     },
     "execution_count": 114,
     "metadata": {},
     "output_type": "execute_result"
    }
   ],
   "source": [
    "foundation_dict = group_by_price('foundation') \n",
    "foundation_dict "
   ]
  },
  {
   "cell_type": "code",
   "execution_count": 115,
   "id": "d31bf8c3",
   "metadata": {},
   "outputs": [],
   "source": [
    "ames['foundation_value'] = ames['foundation'].apply(\n",
    "    lambda x: foundation_dict[x]\n",
    ")"
   ]
  },
  {
   "cell_type": "code",
   "execution_count": 116,
   "id": "dc191525",
   "metadata": {},
   "outputs": [
    {
     "data": {
      "text/plain": [
       "{'Artery': 1.29,\n",
       " 'Feedr': 1.43,\n",
       " 'Norm': 1.85,\n",
       " 'PosA': 2.55,\n",
       " 'PosN': 2.55,\n",
       " 'RRAe': 1.4,\n",
       " 'RRAn': 1.73,\n",
       " 'RRNe': 1.3,\n",
       " 'RRNn': 1.98}"
      ]
     },
     "execution_count": 116,
     "metadata": {},
     "output_type": "execute_result"
    }
   ],
   "source": [
    "condition_1_dict = group_by_price('condition_1') \n",
    "condition_1_dict "
   ]
  },
  {
   "cell_type": "code",
   "execution_count": 117,
   "id": "f10acc10",
   "metadata": {},
   "outputs": [],
   "source": [
    "ames['condition_1_value'] = ames['condition_1'].apply(\n",
    "    lambda x: condition_1_dict[x]\n",
    ")"
   ]
  },
  {
   "cell_type": "code",
   "execution_count": 118,
   "id": "770957ba",
   "metadata": {},
   "outputs": [
    {
     "data": {
      "text/plain": [
       "{'1Fam': 1.85, '2fmCon': 1.23, 'Duplex': 1.39, 'Twnhs': 1.33, 'TwnhsE': 1.98}"
      ]
     },
     "execution_count": 118,
     "metadata": {},
     "output_type": "execute_result"
    }
   ],
   "source": [
    "bldg_type_dict = group_by_price('bldg_type') \n",
    "bldg_type_dict "
   ]
  },
  {
   "cell_type": "code",
   "execution_count": 119,
   "id": "3c656f48",
   "metadata": {},
   "outputs": [],
   "source": [
    "ames['bldg_type_value'] = ames['bldg_type'].apply(\n",
    "    lambda x: bldg_type_dict[x]\n",
    ")"
   ]
  },
  {
   "cell_type": "code",
   "execution_count": 120,
   "id": "293c30d1",
   "metadata": {
    "scrolled": true
   },
   "outputs": [
    {
     "data": {
      "text/plain": [
       "{'1.5Fin': 1.36,\n",
       " '1.5Unf': 1.12,\n",
       " '1Story': 1.8,\n",
       " '2.5Fin': 2.44,\n",
       " '2.5Unf': 1.92,\n",
       " '2Story': 2.06,\n",
       " 'SFoyer': 1.49,\n",
       " 'SLvl': 1.66}"
      ]
     },
     "execution_count": 120,
     "metadata": {},
     "output_type": "execute_result"
    }
   ],
   "source": [
    "house_style_dict = group_by_price('house_style') \n",
    "house_style_dict "
   ]
  },
  {
   "cell_type": "code",
   "execution_count": 121,
   "id": "97bb7e2f",
   "metadata": {},
   "outputs": [],
   "source": [
    "ames['house_style_value'] = ames['house_style'].apply(\n",
    "    lambda x: house_style_dict[x]\n",
    ")"
   ]
  },
  {
   "cell_type": "markdown",
   "id": "8b2dd29c",
   "metadata": {},
   "source": [
    "After assigning values to the various categorical variables. We can now start on model 5."
   ]
  },
  {
   "cell_type": "code",
   "execution_count": 122,
   "id": "6070486b",
   "metadata": {},
   "outputs": [
    {
     "data": {
      "text/html": [
       "<div>\n",
       "<style scoped>\n",
       "    .dataframe tbody tr th:only-of-type {\n",
       "        vertical-align: middle;\n",
       "    }\n",
       "\n",
       "    .dataframe tbody tr th {\n",
       "        vertical-align: top;\n",
       "    }\n",
       "\n",
       "    .dataframe thead th {\n",
       "        text-align: right;\n",
       "    }\n",
       "</style>\n",
       "<table border=\"1\" class=\"dataframe\">\n",
       "  <thead>\n",
       "    <tr style=\"text-align: right;\">\n",
       "      <th></th>\n",
       "      <th>id</th>\n",
       "      <th>pid</th>\n",
       "      <th>ms_subclass</th>\n",
       "      <th>ms_zoning</th>\n",
       "      <th>lot_frontage</th>\n",
       "      <th>lot_area</th>\n",
       "      <th>street</th>\n",
       "      <th>lot_shape</th>\n",
       "      <th>land_contour</th>\n",
       "      <th>utilities</th>\n",
       "      <th>...</th>\n",
       "      <th>land_contour_value</th>\n",
       "      <th>lot_shape_value</th>\n",
       "      <th>heating_value</th>\n",
       "      <th>sale_type_value</th>\n",
       "      <th>exterior_1st_value</th>\n",
       "      <th>functional_value</th>\n",
       "      <th>foundation_value</th>\n",
       "      <th>condition_1_value</th>\n",
       "      <th>bldg_type_value</th>\n",
       "      <th>house_style_value</th>\n",
       "    </tr>\n",
       "  </thead>\n",
       "  <tbody>\n",
       "    <tr>\n",
       "      <th>0</th>\n",
       "      <td>109</td>\n",
       "      <td>533352170</td>\n",
       "      <td>60</td>\n",
       "      <td>RL</td>\n",
       "      <td>0.0</td>\n",
       "      <td>13517</td>\n",
       "      <td>Pave</td>\n",
       "      <td>IR1</td>\n",
       "      <td>Lvl</td>\n",
       "      <td>AllPub</td>\n",
       "      <td>...</td>\n",
       "      <td>1.79</td>\n",
       "      <td>2.12</td>\n",
       "      <td>1.82</td>\n",
       "      <td>1.75</td>\n",
       "      <td>1.60</td>\n",
       "      <td>1.84</td>\n",
       "      <td>1.48</td>\n",
       "      <td>1.40</td>\n",
       "      <td>1.85</td>\n",
       "      <td>2.06</td>\n",
       "    </tr>\n",
       "    <tr>\n",
       "      <th>1</th>\n",
       "      <td>544</td>\n",
       "      <td>531379050</td>\n",
       "      <td>60</td>\n",
       "      <td>RL</td>\n",
       "      <td>43.0</td>\n",
       "      <td>11492</td>\n",
       "      <td>Pave</td>\n",
       "      <td>IR1</td>\n",
       "      <td>Lvl</td>\n",
       "      <td>AllPub</td>\n",
       "      <td>...</td>\n",
       "      <td>1.79</td>\n",
       "      <td>2.12</td>\n",
       "      <td>1.82</td>\n",
       "      <td>1.75</td>\n",
       "      <td>2.18</td>\n",
       "      <td>1.84</td>\n",
       "      <td>2.28</td>\n",
       "      <td>1.85</td>\n",
       "      <td>1.85</td>\n",
       "      <td>2.06</td>\n",
       "    </tr>\n",
       "    <tr>\n",
       "      <th>2</th>\n",
       "      <td>153</td>\n",
       "      <td>535304180</td>\n",
       "      <td>20</td>\n",
       "      <td>RL</td>\n",
       "      <td>68.0</td>\n",
       "      <td>7922</td>\n",
       "      <td>Pave</td>\n",
       "      <td>Reg</td>\n",
       "      <td>Lvl</td>\n",
       "      <td>AllPub</td>\n",
       "      <td>...</td>\n",
       "      <td>1.79</td>\n",
       "      <td>1.63</td>\n",
       "      <td>1.82</td>\n",
       "      <td>1.75</td>\n",
       "      <td>2.18</td>\n",
       "      <td>1.84</td>\n",
       "      <td>1.48</td>\n",
       "      <td>1.85</td>\n",
       "      <td>1.85</td>\n",
       "      <td>1.80</td>\n",
       "    </tr>\n",
       "    <tr>\n",
       "      <th>3</th>\n",
       "      <td>318</td>\n",
       "      <td>916386060</td>\n",
       "      <td>60</td>\n",
       "      <td>RL</td>\n",
       "      <td>73.0</td>\n",
       "      <td>9802</td>\n",
       "      <td>Pave</td>\n",
       "      <td>Reg</td>\n",
       "      <td>Lvl</td>\n",
       "      <td>AllPub</td>\n",
       "      <td>...</td>\n",
       "      <td>1.79</td>\n",
       "      <td>1.63</td>\n",
       "      <td>1.82</td>\n",
       "      <td>1.75</td>\n",
       "      <td>2.18</td>\n",
       "      <td>1.84</td>\n",
       "      <td>2.28</td>\n",
       "      <td>1.85</td>\n",
       "      <td>1.85</td>\n",
       "      <td>2.06</td>\n",
       "    </tr>\n",
       "    <tr>\n",
       "      <th>4</th>\n",
       "      <td>255</td>\n",
       "      <td>906425045</td>\n",
       "      <td>50</td>\n",
       "      <td>RL</td>\n",
       "      <td>82.0</td>\n",
       "      <td>14235</td>\n",
       "      <td>Pave</td>\n",
       "      <td>IR1</td>\n",
       "      <td>Lvl</td>\n",
       "      <td>AllPub</td>\n",
       "      <td>...</td>\n",
       "      <td>1.79</td>\n",
       "      <td>2.12</td>\n",
       "      <td>1.82</td>\n",
       "      <td>1.75</td>\n",
       "      <td>1.42</td>\n",
       "      <td>1.84</td>\n",
       "      <td>2.28</td>\n",
       "      <td>1.85</td>\n",
       "      <td>1.85</td>\n",
       "      <td>1.36</td>\n",
       "    </tr>\n",
       "    <tr>\n",
       "      <th>...</th>\n",
       "      <td>...</td>\n",
       "      <td>...</td>\n",
       "      <td>...</td>\n",
       "      <td>...</td>\n",
       "      <td>...</td>\n",
       "      <td>...</td>\n",
       "      <td>...</td>\n",
       "      <td>...</td>\n",
       "      <td>...</td>\n",
       "      <td>...</td>\n",
       "      <td>...</td>\n",
       "      <td>...</td>\n",
       "      <td>...</td>\n",
       "      <td>...</td>\n",
       "      <td>...</td>\n",
       "      <td>...</td>\n",
       "      <td>...</td>\n",
       "      <td>...</td>\n",
       "      <td>...</td>\n",
       "      <td>...</td>\n",
       "      <td>...</td>\n",
       "    </tr>\n",
       "    <tr>\n",
       "      <th>2041</th>\n",
       "      <td>1587</td>\n",
       "      <td>921126030</td>\n",
       "      <td>20</td>\n",
       "      <td>RL</td>\n",
       "      <td>79.0</td>\n",
       "      <td>11449</td>\n",
       "      <td>Pave</td>\n",
       "      <td>IR1</td>\n",
       "      <td>HLS</td>\n",
       "      <td>AllPub</td>\n",
       "      <td>...</td>\n",
       "      <td>2.62</td>\n",
       "      <td>2.12</td>\n",
       "      <td>1.82</td>\n",
       "      <td>1.75</td>\n",
       "      <td>2.18</td>\n",
       "      <td>1.84</td>\n",
       "      <td>2.28</td>\n",
       "      <td>1.85</td>\n",
       "      <td>1.85</td>\n",
       "      <td>1.80</td>\n",
       "    </tr>\n",
       "    <tr>\n",
       "      <th>2042</th>\n",
       "      <td>785</td>\n",
       "      <td>905377130</td>\n",
       "      <td>30</td>\n",
       "      <td>RL</td>\n",
       "      <td>0.0</td>\n",
       "      <td>12342</td>\n",
       "      <td>Pave</td>\n",
       "      <td>IR1</td>\n",
       "      <td>Lvl</td>\n",
       "      <td>AllPub</td>\n",
       "      <td>...</td>\n",
       "      <td>1.79</td>\n",
       "      <td>2.12</td>\n",
       "      <td>1.82</td>\n",
       "      <td>1.75</td>\n",
       "      <td>2.18</td>\n",
       "      <td>1.84</td>\n",
       "      <td>1.48</td>\n",
       "      <td>1.85</td>\n",
       "      <td>1.85</td>\n",
       "      <td>1.80</td>\n",
       "    </tr>\n",
       "    <tr>\n",
       "      <th>2043</th>\n",
       "      <td>916</td>\n",
       "      <td>909253010</td>\n",
       "      <td>50</td>\n",
       "      <td>RL</td>\n",
       "      <td>57.0</td>\n",
       "      <td>7558</td>\n",
       "      <td>Pave</td>\n",
       "      <td>Reg</td>\n",
       "      <td>Bnk</td>\n",
       "      <td>AllPub</td>\n",
       "      <td>...</td>\n",
       "      <td>1.42</td>\n",
       "      <td>1.63</td>\n",
       "      <td>1.82</td>\n",
       "      <td>1.75</td>\n",
       "      <td>1.93</td>\n",
       "      <td>1.84</td>\n",
       "      <td>1.29</td>\n",
       "      <td>1.85</td>\n",
       "      <td>1.85</td>\n",
       "      <td>1.36</td>\n",
       "    </tr>\n",
       "    <tr>\n",
       "      <th>2044</th>\n",
       "      <td>639</td>\n",
       "      <td>535179160</td>\n",
       "      <td>20</td>\n",
       "      <td>RL</td>\n",
       "      <td>80.0</td>\n",
       "      <td>10400</td>\n",
       "      <td>Pave</td>\n",
       "      <td>Reg</td>\n",
       "      <td>Lvl</td>\n",
       "      <td>AllPub</td>\n",
       "      <td>...</td>\n",
       "      <td>1.79</td>\n",
       "      <td>1.63</td>\n",
       "      <td>1.82</td>\n",
       "      <td>1.75</td>\n",
       "      <td>1.70</td>\n",
       "      <td>1.84</td>\n",
       "      <td>1.48</td>\n",
       "      <td>1.85</td>\n",
       "      <td>1.85</td>\n",
       "      <td>1.80</td>\n",
       "    </tr>\n",
       "    <tr>\n",
       "      <th>2045</th>\n",
       "      <td>10</td>\n",
       "      <td>527162130</td>\n",
       "      <td>60</td>\n",
       "      <td>RL</td>\n",
       "      <td>60.0</td>\n",
       "      <td>7500</td>\n",
       "      <td>Pave</td>\n",
       "      <td>Reg</td>\n",
       "      <td>Lvl</td>\n",
       "      <td>AllPub</td>\n",
       "      <td>...</td>\n",
       "      <td>1.79</td>\n",
       "      <td>1.63</td>\n",
       "      <td>1.82</td>\n",
       "      <td>1.75</td>\n",
       "      <td>2.18</td>\n",
       "      <td>1.84</td>\n",
       "      <td>2.28</td>\n",
       "      <td>1.85</td>\n",
       "      <td>1.85</td>\n",
       "      <td>2.06</td>\n",
       "    </tr>\n",
       "  </tbody>\n",
       "</table>\n",
       "<p>2046 rows × 93 columns</p>\n",
       "</div>"
      ],
      "text/plain": [
       "        id        pid  ms_subclass ms_zoning  lot_frontage  lot_area street  \\\n",
       "0      109  533352170           60        RL           0.0     13517   Pave   \n",
       "1      544  531379050           60        RL          43.0     11492   Pave   \n",
       "2      153  535304180           20        RL          68.0      7922   Pave   \n",
       "3      318  916386060           60        RL          73.0      9802   Pave   \n",
       "4      255  906425045           50        RL          82.0     14235   Pave   \n",
       "...    ...        ...          ...       ...           ...       ...    ...   \n",
       "2041  1587  921126030           20        RL          79.0     11449   Pave   \n",
       "2042   785  905377130           30        RL           0.0     12342   Pave   \n",
       "2043   916  909253010           50        RL          57.0      7558   Pave   \n",
       "2044   639  535179160           20        RL          80.0     10400   Pave   \n",
       "2045    10  527162130           60        RL          60.0      7500   Pave   \n",
       "\n",
       "     lot_shape land_contour utilities  ... land_contour_value lot_shape_value  \\\n",
       "0          IR1          Lvl    AllPub  ...               1.79            2.12   \n",
       "1          IR1          Lvl    AllPub  ...               1.79            2.12   \n",
       "2          Reg          Lvl    AllPub  ...               1.79            1.63   \n",
       "3          Reg          Lvl    AllPub  ...               1.79            1.63   \n",
       "4          IR1          Lvl    AllPub  ...               1.79            2.12   \n",
       "...        ...          ...       ...  ...                ...             ...   \n",
       "2041       IR1          HLS    AllPub  ...               2.62            2.12   \n",
       "2042       IR1          Lvl    AllPub  ...               1.79            2.12   \n",
       "2043       Reg          Bnk    AllPub  ...               1.42            1.63   \n",
       "2044       Reg          Lvl    AllPub  ...               1.79            1.63   \n",
       "2045       Reg          Lvl    AllPub  ...               1.79            1.63   \n",
       "\n",
       "     heating_value sale_type_value exterior_1st_value functional_value  \\\n",
       "0             1.82            1.75               1.60             1.84   \n",
       "1             1.82            1.75               2.18             1.84   \n",
       "2             1.82            1.75               2.18             1.84   \n",
       "3             1.82            1.75               2.18             1.84   \n",
       "4             1.82            1.75               1.42             1.84   \n",
       "...            ...             ...                ...              ...   \n",
       "2041          1.82            1.75               2.18             1.84   \n",
       "2042          1.82            1.75               2.18             1.84   \n",
       "2043          1.82            1.75               1.93             1.84   \n",
       "2044          1.82            1.75               1.70             1.84   \n",
       "2045          1.82            1.75               2.18             1.84   \n",
       "\n",
       "     foundation_value  condition_1_value  bldg_type_value  house_style_value  \n",
       "0                1.48               1.40             1.85               2.06  \n",
       "1                2.28               1.85             1.85               2.06  \n",
       "2                1.48               1.85             1.85               1.80  \n",
       "3                2.28               1.85             1.85               2.06  \n",
       "4                2.28               1.85             1.85               1.36  \n",
       "...               ...                ...              ...                ...  \n",
       "2041             2.28               1.85             1.85               1.80  \n",
       "2042             1.48               1.85             1.85               1.80  \n",
       "2043             1.29               1.85             1.85               1.36  \n",
       "2044             1.48               1.85             1.85               1.80  \n",
       "2045             2.28               1.85             1.85               2.06  \n",
       "\n",
       "[2046 rows x 93 columns]"
      ]
     },
     "execution_count": 122,
     "metadata": {},
     "output_type": "execute_result"
    }
   ],
   "source": [
    "ames"
   ]
  },
  {
   "cell_type": "code",
   "execution_count": 123,
   "id": "a05a1e9f",
   "metadata": {},
   "outputs": [],
   "source": [
    "# Dummify the variables of interest\n",
    "# 'Central_air' is left as it is a binary variable\n",
    "\n",
    "ames_dummies5 = pd.get_dummies(\n",
    "    data=ames,\n",
    "    drop_first=True,\n",
    "    columns=[\n",
    "         'central_air',\n",
    "])"
   ]
  },
  {
   "cell_type": "code",
   "execution_count": 124,
   "id": "8c1feaee",
   "metadata": {},
   "outputs": [],
   "source": [
    "# Creating the model by all unwanted columns\n",
    "x_var_model_5 = ames_dummies5.drop(columns= [\n",
    "    # features to keep\n",
    "    #'overall_qual', 'gr_liv_area','garage_area',\n",
    "    #'age','totrms_abvgrd',\n",
    "    #'all_baths', 'exter_qual', 'total_bsmt_sf',\n",
    "    #'bsmt_qual', 'mas_vnr_area', 'heating_qc'\n",
    "    #'fireplaces', 'exter_cond'\n",
    "    #'wood_deck_sf', 'open_porch_sf'\n",
    "    \n",
    "    \n",
    "    # unwanted features\n",
    "    'id', 'pid', 'lot_frontage', 'lot_area', 'street',\n",
    "    'utilities','land_slope','neighborhood', 'condition_2',\n",
    "    'overall_cond', 'year_built','year_remod/add','roof_style',\n",
    "    'roof_matl', 'mas_vnr_type', 'bsmt_cond',\n",
    "    'bsmt_exposure','bsmtfin_type_1','bsmtfin_sf_1', 'bsmtfin_type_2',\n",
    "    'bsmtfin_sf_2','bsmt_unf_sf', 'electrical', '1st_flr_sf',\n",
    "    '2nd_flr_sf', 'low_qual_fin_sf', 'bsmt_full_bath', 'bsmt_half_bath',\n",
    "    'full_bath', 'half_bath', 'bedroom_abvgr', 'kitchen_abvgr',\n",
    "    'garage_type', 'garage_yr_blt', 'garage_finish', 'garage_cars',\n",
    "    'garage_qual', 'garage_cond', 'paved_drive', \n",
    "    'enclosed_porch', '3ssn_porch', 'screen_porch',\n",
    "    'pool_area', 'misc_val', 'mo_sold', 'yr_sold',\n",
    "    'age_since_remodel', 'sale_type', 'exterior_1st', 'exterior_2nd',\n",
    "    'functional', 'foundation', 'condition_1', 'bldg_type',\n",
    "    'house_style', 'ms_subclass','ms_zoning', 'lot_config', \n",
    "    'land_contour', 'lot_shape','heating', \n",
    "    \n",
    "    # y to be kept\n",
    "    #'saleprice'\n",
    "])"
   ]
  },
  {
   "cell_type": "code",
   "execution_count": 125,
   "id": "8f646db2",
   "metadata": {},
   "outputs": [],
   "source": [
    "# Creating a list of the columns excluding saleprice\n",
    "features_5 = [col for col in x_var_model_5._get_numeric_data().columns if col != 'saleprice']\n",
    "\n",
    "# Assembling X and y variables.\n",
    "X5 = x_var_model_5[features_5]\n",
    "y5 = x_var_model_5['saleprice']\n",
    "\n",
    "# Creating a train/test split\n",
    "X_train5, X_test5, y_train5, y_test5 = train_test_split(\n",
    "    X5,\n",
    "    y5,\n",
    "    test_size=0.2,\n",
    ")"
   ]
  },
  {
   "cell_type": "code",
   "execution_count": 126,
   "id": "ab9ffdfd",
   "metadata": {},
   "outputs": [],
   "source": [
    "# Scale the the variables as the features are all on different scales.\n",
    "ss = StandardScaler()\n",
    "ss.fit(X_train5)\n",
    "\n",
    "Z_train5 = ss.transform(X_train5)\n",
    "Z_test5 = ss.transform(X_test5)\n"
   ]
  },
  {
   "cell_type": "code",
   "execution_count": 127,
   "id": "8be4493e",
   "metadata": {},
   "outputs": [],
   "source": [
    "# Instantiating the model\n",
    "lr5 = LinearRegression()"
   ]
  },
  {
   "cell_type": "code",
   "execution_count": 128,
   "id": "c26759fe",
   "metadata": {},
   "outputs": [
    {
     "data": {
      "text/plain": [
       "LinearRegression()"
      ]
     },
     "execution_count": 128,
     "metadata": {},
     "output_type": "execute_result"
    }
   ],
   "source": [
    "# Fitting it to the scaled variables\n",
    "lr5.fit(Z_train5, y_train5)"
   ]
  },
  {
   "cell_type": "code",
   "execution_count": 129,
   "id": "56d51dcc",
   "metadata": {},
   "outputs": [
    {
     "data": {
      "text/plain": [
       "807777111.5128"
      ]
     },
     "execution_count": 129,
     "metadata": {},
     "output_type": "execute_result"
    }
   ],
   "source": [
    "# Evaluating with 10 folds cross validation scoring with mean squared error\n",
    "- cross_val_score(\n",
    "    lr5,\n",
    "    Z_train5,\n",
    "    y_train5,\n",
    "    cv=10,\n",
    "    scoring='neg_mean_squared_error'\n",
    ").mean()"
   ]
  },
  {
   "cell_type": "code",
   "execution_count": 130,
   "id": "a70b7b5e",
   "metadata": {},
   "outputs": [
    {
     "data": {
      "text/plain": [
       "763876341.7574149"
      ]
     },
     "execution_count": 130,
     "metadata": {},
     "output_type": "execute_result"
    }
   ],
   "source": [
    "# Calculating the mean squared error on the test data\n",
    "mean_squared_error(\n",
    "    y_test5,\n",
    "    lr5.predict(Z_test5)\n",
    ")"
   ]
  },
  {
   "cell_type": "code",
   "execution_count": 131,
   "id": "abf80292",
   "metadata": {},
   "outputs": [
    {
     "data": {
      "image/png": "[encoded data removed]",
      "text/plain": [
       "<Figure size 432x288 with 1 Axes>"
      ]
     },
     "metadata": {
      "needs_background": "light"
     },
     "output_type": "display_data"
    }
   ],
   "source": [
    "plt.scatter(lr5.predict(Z_test5), y_test5)\n",
    "plt.title('Model 5: Predicted Price vs Actual Price')\n",
    "plt.xlabel('Predicted Price')\n",
    "plt.ylabel('Actual Price');"
   ]
  },
  {
   "cell_type": "markdown",
   "id": "04fe7360",
   "metadata": {},
   "source": [
    "#### Performing Lasso regularization on model 5"
   ]
  },
  {
   "cell_type": "code",
   "execution_count": 132,
   "id": "46f0c7aa",
   "metadata": {},
   "outputs": [],
   "source": [
    "# Instantiating Lasso regularization\n",
    "lasso5 = LassoCV(n_alphas=200)"
   ]
  },
  {
   "cell_type": "code",
   "execution_count": 133,
   "id": "75cd160f",
   "metadata": {},
   "outputs": [
    {
     "data": {
      "text/plain": [
       "561.8434710637039"
      ]
     },
     "execution_count": 133,
     "metadata": {},
     "output_type": "execute_result"
    }
   ],
   "source": [
    "# Fitting the lasso model\n",
    "lasso5.fit(Z_train5, y_train5)\n",
    "\n",
    "# Calculating best alpha for the model\n",
    "lasso5.alpha_"
   ]
  },
  {
   "cell_type": "code",
   "execution_count": 134,
   "id": "a0e28920",
   "metadata": {},
   "outputs": [],
   "source": [
    "# Reinstantiate Lasso with the best alpha.\n",
    "lasso_best5 = Lasso(alpha=lasso5.alpha_)"
   ]
  },
  {
   "cell_type": "code",
   "execution_count": 135,
   "id": "ede50843",
   "metadata": {},
   "outputs": [
    {
     "data": {
      "text/plain": [
       "804679224.7776095"
      ]
     },
     "execution_count": 135,
     "metadata": {},
     "output_type": "execute_result"
    }
   ],
   "source": [
    "# Evaluating with 10 folds cross validation scoring with mean squared error\n",
    "- cross_val_score(\n",
    "    lasso_best5,\n",
    "    Z_train5,\n",
    "    y_train5,\n",
    "    cv=10,\n",
    "    scoring='neg_mean_squared_error'\n",
    ").mean()"
   ]
  },
  {
   "cell_type": "code",
   "execution_count": 136,
   "id": "305b5890",
   "metadata": {},
   "outputs": [
    {
     "data": {
      "text/plain": [
       "768208430.0610346"
      ]
     },
     "execution_count": 136,
     "metadata": {},
     "output_type": "execute_result"
    }
   ],
   "source": [
    "# Refitting the lasso model\n",
    "lasso_best5.fit(Z_train5, y_train5)\n",
    "\n",
    "# Calculating the mean squared error on the test data\n",
    "mean_squared_error(\n",
    "    y_test5,\n",
    "    lasso_best5.predict(Z_test5)\n",
    ")"
   ]
  },
  {
   "cell_type": "code",
   "execution_count": 137,
   "id": "cd21ed7a",
   "metadata": {},
   "outputs": [
    {
     "data": {
      "image/png": "[encoded data removed]",
      "text/plain": [
       "<Figure size 432x288 with 1 Axes>"
      ]
     },
     "metadata": {
      "needs_background": "light"
     },
     "output_type": "display_data"
    }
   ],
   "source": [
    "plt.scatter(lasso_best5.predict(Z_test5), y_test5)\n",
    "plt.title('Model 5 (Lasso): Predicted Price vs Actual Price')\n",
    "plt.xlabel('Predicted Price')\n",
    "plt.ylabel('Actual Price');"
   ]
  },
  {
   "cell_type": "markdown",
   "id": "288511d7",
   "metadata": {},
   "source": [
    "#### Performing Ridge regularization on model 5"
   ]
  },
  {
   "cell_type": "code",
   "execution_count": 138,
   "id": "df69e998",
   "metadata": {},
   "outputs": [],
   "source": [
    "# Instantiating Ridge regularization\n",
    "ridge5 = RidgeCV(alphas=np.logspace(0, 10, 200))"
   ]
  },
  {
   "cell_type": "code",
   "execution_count": 139,
   "id": "d7401fa7",
   "metadata": {},
   "outputs": [
    {
     "data": {
      "text/plain": [
       "36.12342699709432"
      ]
     },
     "execution_count": 139,
     "metadata": {},
     "output_type": "execute_result"
    }
   ],
   "source": [
    "# Fitting the Ridge model\n",
    "ridge5.fit(Z_train5, y_train5)\n",
    "\n",
    "# Calculating best alpha for the model\n",
    "ridge5.alpha_"
   ]
  },
  {
   "cell_type": "code",
   "execution_count": 140,
   "id": "e6a5ca93",
   "metadata": {},
   "outputs": [],
   "source": [
    "# Reinstantiate Lasso with the best alpha.\n",
    "ridge_best5 = Ridge(alpha=ridge5.alpha_)"
   ]
  },
  {
   "cell_type": "code",
   "execution_count": 141,
   "id": "c02d6ad0",
   "metadata": {},
   "outputs": [
    {
     "data": {
      "text/plain": [
       "806509214.4632354"
      ]
     },
     "execution_count": 141,
     "metadata": {},
     "output_type": "execute_result"
    }
   ],
   "source": [
    "# Evaluating with 10 folds cross validation scoring with mean squared error\n",
    "- cross_val_score(\n",
    "    ridge_best5,\n",
    "    Z_train5,\n",
    "    y_train5,\n",
    "    cv=10,\n",
    "    scoring='neg_mean_squared_error'\n",
    ").mean()"
   ]
  },
  {
   "cell_type": "code",
   "execution_count": 142,
   "id": "de32f08a",
   "metadata": {},
   "outputs": [
    {
     "data": {
      "text/plain": [
       "766458509.7371125"
      ]
     },
     "execution_count": 142,
     "metadata": {},
     "output_type": "execute_result"
    }
   ],
   "source": [
    "# Refitting the Ridge model\n",
    "ridge_best5.fit(Z_train5, y_train5)\n",
    "\n",
    "# Calculating the mean squared error on the test data\n",
    "mean_squared_error(\n",
    "    y_test5,\n",
    "    ridge_best5.predict(Z_test5)\n",
    ")"
   ]
  },
  {
   "cell_type": "code",
   "execution_count": 143,
   "id": "43f02a00",
   "metadata": {},
   "outputs": [
    {
     "data": {
      "image/png": "[encoded data removed]",
      "text/plain": [
       "<Figure size 432x288 with 1 Axes>"
      ]
     },
     "metadata": {
      "needs_background": "light"
     },
     "output_type": "display_data"
    }
   ],
   "source": [
    "plt.scatter(ridge_best5.predict(Z_test5), y_test5)\n",
    "plt.title('Model 5 (Ridge): Predicted Price vs Actual Price')\n",
    "plt.xlabel('Predicted Price')\n",
    "plt.ylabel('Actual Price');"
   ]
  },
  {
   "cell_type": "markdown",
   "id": "172f9dc6",
   "metadata": {},
   "source": [
    "Converting the variables did not seem to have improve the model by much. However, the number of variables had cut down from over 100 to approximately 30. This makes the model less complicated. This is likely the best mix of variables that I should add into the model.\n",
    "\n",
    "From the scatterplots of the graph, there is still some slight curvature and as the variables are finalized, we can take a look at applying polynomial regression to the model."
   ]
  },
  {
   "cell_type": "markdown",
   "id": "8fdff075",
   "metadata": {},
   "source": [
    "### Model 6\n",
    "\n",
    "Revisiting polynomial features.\n",
    "\n",
    "As the graph seems to be a quadratic curve, apply a polynomial degree of 2 is sufficient."
   ]
  },
  {
   "cell_type": "code",
   "execution_count": 144,
   "id": "57287aa3",
   "metadata": {},
   "outputs": [],
   "source": [
    "# Instantiating the PolynomialFeature function with a degree of 2.\n",
    "poly2 = PolynomialFeatures(include_bias=False, degree=2)"
   ]
  },
  {
   "cell_type": "code",
   "execution_count": 145,
   "id": "e6998ad7",
   "metadata": {},
   "outputs": [],
   "source": [
    "# Creating the values of PolynomialFeatures\n",
    "X_poly2 = poly2.fit_transform(X5)"
   ]
  },
  {
   "cell_type": "code",
   "execution_count": 146,
   "id": "1ce0840e",
   "metadata": {},
   "outputs": [],
   "source": [
    "# Recreating the train/test split\n",
    "X_train_poly2, X_test_poly2, y_train_poly2, y_test_poly2 = train_test_split(\n",
    "    X_poly2,\n",
    "    y5,\n",
    "    test_size=0.2,\n",
    ")"
   ]
  },
  {
   "cell_type": "code",
   "execution_count": 147,
   "id": "384827d0",
   "metadata": {},
   "outputs": [],
   "source": [
    "# Scale the polynomial features\n",
    "ss = StandardScaler()\n",
    "ss.fit(X_train_poly2)\n",
    "\n",
    "Z_train_poly2 = ss.transform(X_train_poly2)\n",
    "Z_test_poly2 = ss.transform(X_test_poly2)"
   ]
  },
  {
   "cell_type": "code",
   "execution_count": 148,
   "id": "b9f323f7",
   "metadata": {},
   "outputs": [],
   "source": [
    "# Instantiating the linear regression for this model\n",
    "lr_poly2 = LinearRegression()"
   ]
  },
  {
   "cell_type": "code",
   "execution_count": 149,
   "id": "8112b732",
   "metadata": {},
   "outputs": [
    {
     "data": {
      "text/plain": [
       "LinearRegression()"
      ]
     },
     "execution_count": 149,
     "metadata": {},
     "output_type": "execute_result"
    }
   ],
   "source": [
    "# Fitting the linear regression with the new features\n",
    "lr_poly2.fit(Z_train_poly2, y_train_poly2)"
   ]
  },
  {
   "cell_type": "code",
   "execution_count": 150,
   "id": "d2b2842d",
   "metadata": {},
   "outputs": [
    {
     "data": {
      "text/plain": [
       "7.268276939324665e+28"
      ]
     },
     "execution_count": 150,
     "metadata": {},
     "output_type": "execute_result"
    }
   ],
   "source": [
    "# Evaluating with 10 folds cross validation scoring with mean squared error\n",
    "- cross_val_score(\n",
    "    lr_poly2,\n",
    "    Z_train_poly2,\n",
    "    y_train_poly2,\n",
    "    cv=10,\n",
    "    scoring='neg_mean_squared_error'\n",
    ").mean()"
   ]
  },
  {
   "cell_type": "code",
   "execution_count": 151,
   "id": "3dae21f5",
   "metadata": {},
   "outputs": [
    {
     "data": {
      "text/plain": [
       "3.756905415515028e+25"
      ]
     },
     "execution_count": 151,
     "metadata": {},
     "output_type": "execute_result"
    }
   ],
   "source": [
    "# Calculating the mean squared error on the test data\n",
    "mean_squared_error(\n",
    "    y_test_poly2,\n",
    "    lr_poly2.predict(Z_test_poly2)\n",
    ")"
   ]
  },
  {
   "cell_type": "code",
   "execution_count": 152,
   "id": "85bfc88c",
   "metadata": {},
   "outputs": [
    {
     "data": {
      "image/png": "[encoded data removed]",
      "text/plain": [
       "<Figure size 432x288 with 1 Axes>"
      ]
     },
     "metadata": {
      "needs_background": "light"
     },
     "output_type": "display_data"
    }
   ],
   "source": [
    "plt.scatter(lr_poly2.predict(Z_test_poly2), y_test_poly2)\n",
    "plt.title('Model 6: Predicted Price vs Actual Price')\n",
    "plt.xlabel('Predicted Price')\n",
    "plt.ylabel('Actual Price');"
   ]
  },
  {
   "cell_type": "markdown",
   "id": "d1daa8fa",
   "metadata": {},
   "source": [
    "#### Performing Lasso regularization on model 6"
   ]
  },
  {
   "cell_type": "code",
   "execution_count": 153,
   "id": "60414603",
   "metadata": {},
   "outputs": [],
   "source": [
    "# Instantiating Lasso regularization\n",
    "lasso_poly2 = LassoCV(n_alphas=200, max_iter=2000, tol=0.001)"
   ]
  },
  {
   "cell_type": "code",
   "execution_count": 154,
   "id": "b55c17ff",
   "metadata": {},
   "outputs": [
    {
     "data": {
      "text/plain": [
       "146.73577706629163"
      ]
     },
     "execution_count": 154,
     "metadata": {},
     "output_type": "execute_result"
    }
   ],
   "source": [
    "# Fitting the lasso model\n",
    "lasso_poly2.fit(Z_train_poly2, y_train_poly2)\n",
    "\n",
    "# Calculating best alpha for the model\n",
    "lasso_poly2.alpha_"
   ]
  },
  {
   "cell_type": "code",
   "execution_count": 155,
   "id": "2f7dc41c",
   "metadata": {},
   "outputs": [],
   "source": [
    "# Reinstantiate Lasso with the best alpha\n",
    "lasso_best_poly2 = Lasso(alpha=lasso_poly2.alpha_)"
   ]
  },
  {
   "cell_type": "code",
   "execution_count": 156,
   "id": "e61000f2",
   "metadata": {},
   "outputs": [
    {
     "name": "stderr",
     "output_type": "stream",
     "text": [
      "/opt/anaconda3/lib/python3.9/site-packages/sklearn/linear_model/_coordinate_descent.py:530: ConvergenceWarning: Objective did not converge. You might want to increase the number of iterations. Duality gap: 21248488679.192505, tolerance: 983183097.8084223\n",
      "  model = cd_fast.enet_coordinate_descent(\n",
      "/opt/anaconda3/lib/python3.9/site-packages/sklearn/linear_model/_coordinate_descent.py:530: ConvergenceWarning: Objective did not converge. You might want to increase the number of iterations. Duality gap: 22789123345.16504, tolerance: 978837677.3758599\n",
      "  model = cd_fast.enet_coordinate_descent(\n",
      "/opt/anaconda3/lib/python3.9/site-packages/sklearn/linear_model/_coordinate_descent.py:530: ConvergenceWarning: Objective did not converge. You might want to increase the number of iterations. Duality gap: 17284346879.204224, tolerance: 977227979.7781973\n",
      "  model = cd_fast.enet_coordinate_descent(\n",
      "/opt/anaconda3/lib/python3.9/site-packages/sklearn/linear_model/_coordinate_descent.py:530: ConvergenceWarning: Objective did not converge. You might want to increase the number of iterations. Duality gap: 29584757544.224976, tolerance: 990633397.5368673\n",
      "  model = cd_fast.enet_coordinate_descent(\n",
      "/opt/anaconda3/lib/python3.9/site-packages/sklearn/linear_model/_coordinate_descent.py:530: ConvergenceWarning: Objective did not converge. You might want to increase the number of iterations. Duality gap: 32490877470.970764, tolerance: 961722816.0919305\n",
      "  model = cd_fast.enet_coordinate_descent(\n",
      "/opt/anaconda3/lib/python3.9/site-packages/sklearn/linear_model/_coordinate_descent.py:530: ConvergenceWarning: Objective did not converge. You might want to increase the number of iterations. Duality gap: 37429059811.26221, tolerance: 968344782.6645443\n",
      "  model = cd_fast.enet_coordinate_descent(\n",
      "/opt/anaconda3/lib/python3.9/site-packages/sklearn/linear_model/_coordinate_descent.py:530: ConvergenceWarning: Objective did not converge. You might want to increase the number of iterations. Duality gap: 21704903351.148804, tolerance: 960414652.3085243\n",
      "  model = cd_fast.enet_coordinate_descent(\n",
      "/opt/anaconda3/lib/python3.9/site-packages/sklearn/linear_model/_coordinate_descent.py:530: ConvergenceWarning: Objective did not converge. You might want to increase the number of iterations. Duality gap: 26480759194.2984, tolerance: 948402979.4456506\n",
      "  model = cd_fast.enet_coordinate_descent(\n",
      "/opt/anaconda3/lib/python3.9/site-packages/sklearn/linear_model/_coordinate_descent.py:530: ConvergenceWarning: Objective did not converge. You might want to increase the number of iterations. Duality gap: 25996837783.402405, tolerance: 955040029.7586149\n",
      "  model = cd_fast.enet_coordinate_descent(\n",
      "/opt/anaconda3/lib/python3.9/site-packages/sklearn/linear_model/_coordinate_descent.py:530: ConvergenceWarning: Objective did not converge. You might want to increase the number of iterations. Duality gap: 44540094525.1817, tolerance: 959449320.7348742\n",
      "  model = cd_fast.enet_coordinate_descent(\n"
     ]
    },
    {
     "data": {
      "text/plain": [
       "545787345.8129578"
      ]
     },
     "execution_count": 156,
     "metadata": {},
     "output_type": "execute_result"
    }
   ],
   "source": [
    "# Evaluating with 10 folds cross validation scoring with mean squared error\n",
    "- cross_val_score(\n",
    "    lasso_best_poly2,\n",
    "    Z_train_poly2,\n",
    "    y_train_poly2,\n",
    "    cv=10,\n",
    "    scoring='neg_mean_squared_error'\n",
    ").mean()"
   ]
  },
  {
   "cell_type": "code",
   "execution_count": 157,
   "id": "f1a41bde",
   "metadata": {},
   "outputs": [
    {
     "name": "stderr",
     "output_type": "stream",
     "text": [
      "/opt/anaconda3/lib/python3.9/site-packages/sklearn/linear_model/_coordinate_descent.py:530: ConvergenceWarning: Objective did not converge. You might want to increase the number of iterations. Duality gap: 39925230543.8667, tolerance: 1075990807.1467855\n",
      "  model = cd_fast.enet_coordinate_descent(\n"
     ]
    },
    {
     "data": {
      "text/plain": [
       "590579474.9470541"
      ]
     },
     "execution_count": 157,
     "metadata": {},
     "output_type": "execute_result"
    }
   ],
   "source": [
    "# Refitting the lasso model\n",
    "lasso_best_poly2.fit(Z_train_poly2, y_train_poly2)\n",
    "\n",
    "# Calculating the mean squared error on the test data\n",
    "mean_squared_error(\n",
    "    y_test_poly2,\n",
    "    lasso_best_poly2.predict(Z_test_poly2)\n",
    ")"
   ]
  },
  {
   "cell_type": "code",
   "execution_count": 158,
   "id": "25748135",
   "metadata": {},
   "outputs": [
    {
     "data": {
      "image/png": "[encoded data removed]",
      "text/plain": [
       "<Figure size 432x288 with 1 Axes>"
      ]
     },
     "metadata": {
      "needs_background": "light"
     },
     "output_type": "display_data"
    }
   ],
   "source": [
    "plt.scatter(lasso_best_poly2.predict(Z_test_poly2), y_test_poly2)\n",
    "plt.title('Model 6 (Lasso): Predicted Price vs Actual Price')\n",
    "plt.xlabel('Predicted Price')\n",
    "plt.ylabel('Actual Price');"
   ]
  },
  {
   "cell_type": "code",
   "execution_count": 159,
   "id": "e5b666df",
   "metadata": {},
   "outputs": [],
   "source": [
    "# Instantiating Ridge regularization#### Performing Ridge regularization on model 1\n",
    "ridge_poly2 = RidgeCV(alphas=np.logspace(0, 10, 200))"
   ]
  },
  {
   "cell_type": "code",
   "execution_count": 160,
   "id": "70276e56",
   "metadata": {},
   "outputs": [
    {
     "data": {
      "text/plain": [
       "72.32633896483537"
      ]
     },
     "execution_count": 160,
     "metadata": {},
     "output_type": "execute_result"
    }
   ],
   "source": [
    "# Fitting the Ridge model\n",
    "ridge_poly2.fit(Z_train_poly2, y_train_poly2)\n",
    "\n",
    "# Calculating best alpha for the model\n",
    "ridge_poly2.alpha_"
   ]
  },
  {
   "cell_type": "code",
   "execution_count": 161,
   "id": "ab120ed2",
   "metadata": {},
   "outputs": [],
   "source": [
    "# Reinstantiate Lasso with the best alpha.\n",
    "ridge_best_poly2 = Ridge(alpha=ridge_poly2.alpha_)"
   ]
  },
  {
   "cell_type": "code",
   "execution_count": 162,
   "id": "dff74a33",
   "metadata": {},
   "outputs": [
    {
     "data": {
      "text/plain": [
       "531311984.6489663"
      ]
     },
     "execution_count": 162,
     "metadata": {},
     "output_type": "execute_result"
    }
   ],
   "source": [
    "# Evaluating with 10 folds cross validation scoring with mean squared error\n",
    "- cross_val_score(\n",
    "    ridge_best_poly2,\n",
    "    Z_train_poly2,\n",
    "    y_train_poly2,\n",
    "    cv=10,\n",
    "    scoring='neg_mean_squared_error'\n",
    ").mean()"
   ]
  },
  {
   "cell_type": "code",
   "execution_count": 163,
   "id": "2691939e",
   "metadata": {},
   "outputs": [
    {
     "data": {
      "text/plain": [
       "564168175.0471417"
      ]
     },
     "execution_count": 163,
     "metadata": {},
     "output_type": "execute_result"
    }
   ],
   "source": [
    "# Refitting the Ridge model\n",
    "ridge_best_poly2.fit(Z_train_poly2, y_train_poly2)\n",
    "\n",
    "# Calculating the mean squared error on the test data\n",
    "mean_squared_error(\n",
    "    y_test_poly2,\n",
    "    ridge_best_poly2.predict(Z_test_poly2)\n",
    ")"
   ]
  },
  {
   "cell_type": "code",
   "execution_count": 164,
   "id": "a95381a7",
   "metadata": {
    "scrolled": false
   },
   "outputs": [
    {
     "data": {
      "image/png": "[encoded data removed]",
      "text/plain": [
       "<Figure size 432x288 with 1 Axes>"
      ]
     },
     "metadata": {
      "needs_background": "light"
     },
     "output_type": "display_data"
    }
   ],
   "source": [
    "plt.scatter(ridge_best_poly2.predict(Z_test_poly2), y_test_poly2)\n",
    "plt.title('Model 6 (Ridge): Predicted Price vs Actual Price')\n",
    "plt.xlabel('Predicted Price')\n",
    "plt.ylabel('Actual Price');"
   ]
  },
  {
   "cell_type": "markdown",
   "id": "0bc1c550",
   "metadata": {},
   "source": [
    "Applying polynomial regression to model 5 reduces the MSE and cross val score quite significantly. The scatter plot also appears to conform to a linear regression.\n",
    "\n",
    "This model should be the final model to help predict future housing prices."
   ]
  },
  {
   "cell_type": "markdown",
   "id": "27a4a75b",
   "metadata": {},
   "source": [
    "### Summary Table for model 5"
   ]
  },
  {
   "cell_type": "code",
   "execution_count": 165,
   "id": "24dd170a",
   "metadata": {},
   "outputs": [],
   "source": [
    "import statsmodels.api as sm"
   ]
  },
  {
   "cell_type": "code",
   "execution_count": 166,
   "id": "92be1106",
   "metadata": {},
   "outputs": [
    {
     "name": "stderr",
     "output_type": "stream",
     "text": [
      "/opt/anaconda3/lib/python3.9/site-packages/statsmodels/tsa/tsatools.py:142: FutureWarning: In a future version of pandas all arguments of concat except for the argument 'objs' will be keyword-only\n",
      "  x = pd.concat(x[::order], 1)\n"
     ]
    },
    {
     "data": {
      "text/html": [
       "<table class=\"simpletable\">\n",
       "<caption>OLS Regression Results</caption>\n",
       "<tr>\n",
       "  <th>Dep. Variable:</th>        <td>saleprice</td>    <th>  R-squared:         </th> <td>   0.880</td> \n",
       "</tr>\n",
       "<tr>\n",
       "  <th>Model:</th>                   <td>OLS</td>       <th>  Adj. R-squared:    </th> <td>   0.878</td> \n",
       "</tr>\n",
       "<tr>\n",
       "  <th>Method:</th>             <td>Least Squares</td>  <th>  F-statistic:       </th> <td>   476.7</td> \n",
       "</tr>\n",
       "<tr>\n",
       "  <th>Date:</th>             <td>Thu, 17 Mar 2022</td> <th>  Prob (F-statistic):</th>  <td>  0.00</td>  \n",
       "</tr>\n",
       "<tr>\n",
       "  <th>Time:</th>                 <td>23:15:38</td>     <th>  Log-Likelihood:    </th> <td> -23813.</td> \n",
       "</tr>\n",
       "<tr>\n",
       "  <th>No. Observations:</th>      <td>  2046</td>      <th>  AIC:               </th> <td>4.769e+04</td>\n",
       "</tr>\n",
       "<tr>\n",
       "  <th>Df Residuals:</th>          <td>  2014</td>      <th>  BIC:               </th> <td>4.787e+04</td>\n",
       "</tr>\n",
       "<tr>\n",
       "  <th>Df Model:</th>              <td>    31</td>      <th>                     </th>     <td> </td>    \n",
       "</tr>\n",
       "<tr>\n",
       "  <th>Covariance Type:</th>      <td>nonrobust</td>    <th>                     </th>     <td> </td>    \n",
       "</tr>\n",
       "</table>\n",
       "<table class=\"simpletable\">\n",
       "<tr>\n",
       "           <td></td>             <th>coef</th>     <th>std err</th>      <th>t</th>      <th>P>|t|</th>  <th>[0.025</th>    <th>0.975]</th>  \n",
       "</tr>\n",
       "<tr>\n",
       "  <th>const</th>              <td>-3.432e+05</td> <td> 2.34e+04</td> <td>  -14.645</td> <td> 0.000</td> <td>-3.89e+05</td> <td>-2.97e+05</td>\n",
       "</tr>\n",
       "<tr>\n",
       "  <th>overall_qual</th>       <td> 7577.8542</td> <td>  836.136</td> <td>    9.063</td> <td> 0.000</td> <td> 5938.072</td> <td> 9217.636</td>\n",
       "</tr>\n",
       "<tr>\n",
       "  <th>mas_vnr_area</th>       <td>   37.4522</td> <td>    4.216</td> <td>    8.883</td> <td> 0.000</td> <td>   29.183</td> <td>   45.721</td>\n",
       "</tr>\n",
       "<tr>\n",
       "  <th>exter_qual</th>         <td> 9931.4997</td> <td> 1915.916</td> <td>    5.184</td> <td> 0.000</td> <td> 6174.116</td> <td> 1.37e+04</td>\n",
       "</tr>\n",
       "<tr>\n",
       "  <th>exter_cond</th>         <td> 4009.2710</td> <td> 1718.038</td> <td>    2.334</td> <td> 0.020</td> <td>  639.953</td> <td> 7378.589</td>\n",
       "</tr>\n",
       "<tr>\n",
       "  <th>bsmt_qual</th>          <td>-1004.0755</td> <td> 1100.928</td> <td>   -0.912</td> <td> 0.362</td> <td>-3163.153</td> <td> 1155.002</td>\n",
       "</tr>\n",
       "<tr>\n",
       "  <th>total_bsmt_sf</th>      <td>   31.4592</td> <td>    2.045</td> <td>   15.383</td> <td> 0.000</td> <td>   27.449</td> <td>   35.470</td>\n",
       "</tr>\n",
       "<tr>\n",
       "  <th>heating_qc</th>         <td> 1409.6836</td> <td>  837.413</td> <td>    1.683</td> <td> 0.092</td> <td> -232.603</td> <td> 3051.971</td>\n",
       "</tr>\n",
       "<tr>\n",
       "  <th>gr_liv_area</th>        <td>   42.5660</td> <td>    2.962</td> <td>   14.369</td> <td> 0.000</td> <td>   36.756</td> <td>   48.376</td>\n",
       "</tr>\n",
       "<tr>\n",
       "  <th>kitchen_qual</th>       <td> 1.162e+04</td> <td> 1476.506</td> <td>    7.868</td> <td> 0.000</td> <td> 8721.869</td> <td> 1.45e+04</td>\n",
       "</tr>\n",
       "<tr>\n",
       "  <th>totrms_abvgrd</th>      <td> -677.4614</td> <td>  718.400</td> <td>   -0.943</td> <td> 0.346</td> <td>-2086.347</td> <td>  731.424</td>\n",
       "</tr>\n",
       "<tr>\n",
       "  <th>fireplaces</th>         <td> 7957.8318</td> <td> 1163.159</td> <td>    6.842</td> <td> 0.000</td> <td> 5676.711</td> <td> 1.02e+04</td>\n",
       "</tr>\n",
       "<tr>\n",
       "  <th>garage_area</th>        <td>   32.9275</td> <td>    3.848</td> <td>    8.557</td> <td> 0.000</td> <td>   25.381</td> <td>   40.474</td>\n",
       "</tr>\n",
       "<tr>\n",
       "  <th>wood_deck_sf</th>       <td>   24.3943</td> <td>    5.168</td> <td>    4.720</td> <td> 0.000</td> <td>   14.259</td> <td>   34.530</td>\n",
       "</tr>\n",
       "<tr>\n",
       "  <th>open_porch_sf</th>      <td>   21.4271</td> <td>   10.234</td> <td>    2.094</td> <td> 0.036</td> <td>    1.357</td> <td>   41.497</td>\n",
       "</tr>\n",
       "<tr>\n",
       "  <th>age</th>                <td>   71.2663</td> <td>   44.561</td> <td>    1.599</td> <td> 0.110</td> <td>  -16.125</td> <td>  158.657</td>\n",
       "</tr>\n",
       "<tr>\n",
       "  <th>neighborhood_value</th> <td> 2.008e+04</td> <td> 1799.800</td> <td>   11.155</td> <td> 0.000</td> <td> 1.65e+04</td> <td> 2.36e+04</td>\n",
       "</tr>\n",
       "<tr>\n",
       "  <th>all_baths</th>          <td> 5660.0641</td> <td> 1005.505</td> <td>    5.629</td> <td> 0.000</td> <td> 3688.125</td> <td> 7632.003</td>\n",
       "</tr>\n",
       "<tr>\n",
       "  <th>ms_subclass_value</th>  <td> 1188.0619</td> <td> 2618.004</td> <td>    0.454</td> <td> 0.650</td> <td>-3946.217</td> <td> 6322.340</td>\n",
       "</tr>\n",
       "<tr>\n",
       "  <th>ms_zoning_value</th>    <td>  649.3061</td> <td> 2857.027</td> <td>    0.227</td> <td> 0.820</td> <td>-4953.732</td> <td> 6252.344</td>\n",
       "</tr>\n",
       "<tr>\n",
       "  <th>lot_config_value</th>   <td> 2.017e+04</td> <td> 5126.027</td> <td>    3.935</td> <td> 0.000</td> <td> 1.01e+04</td> <td> 3.02e+04</td>\n",
       "</tr>\n",
       "<tr>\n",
       "  <th>land_contour_value</th> <td> 2.174e+04</td> <td> 3487.022</td> <td>    6.234</td> <td> 0.000</td> <td> 1.49e+04</td> <td> 2.86e+04</td>\n",
       "</tr>\n",
       "<tr>\n",
       "  <th>lot_shape_value</th>    <td> 3046.3350</td> <td> 2896.280</td> <td>    1.052</td> <td> 0.293</td> <td>-2633.684</td> <td> 8726.354</td>\n",
       "</tr>\n",
       "<tr>\n",
       "  <th>heating_value</th>      <td> 6420.0274</td> <td> 7555.696</td> <td>    0.850</td> <td> 0.396</td> <td>-8397.770</td> <td> 2.12e+04</td>\n",
       "</tr>\n",
       "<tr>\n",
       "  <th>sale_type_value</th>    <td> 2.019e+04</td> <td> 2309.585</td> <td>    8.740</td> <td> 0.000</td> <td> 1.57e+04</td> <td> 2.47e+04</td>\n",
       "</tr>\n",
       "<tr>\n",
       "  <th>exterior_1st_value</th> <td> 7628.0042</td> <td> 2355.391</td> <td>    3.239</td> <td> 0.001</td> <td> 3008.746</td> <td> 1.22e+04</td>\n",
       "</tr>\n",
       "<tr>\n",
       "  <th>functional_value</th>   <td> 2.472e+04</td> <td> 5971.888</td> <td>    4.140</td> <td> 0.000</td> <td>  1.3e+04</td> <td> 3.64e+04</td>\n",
       "</tr>\n",
       "<tr>\n",
       "  <th>foundation_value</th>   <td>-3296.5950</td> <td> 2360.645</td> <td>   -1.396</td> <td> 0.163</td> <td>-7926.156</td> <td> 1332.965</td>\n",
       "</tr>\n",
       "<tr>\n",
       "  <th>condition_1_value</th>  <td> 1.804e+04</td> <td> 3603.850</td> <td>    5.007</td> <td> 0.000</td> <td>  1.1e+04</td> <td> 2.51e+04</td>\n",
       "</tr>\n",
       "<tr>\n",
       "  <th>bldg_type_value</th>    <td> 1.149e+04</td> <td> 4724.154</td> <td>    2.432</td> <td> 0.015</td> <td> 2222.461</td> <td> 2.08e+04</td>\n",
       "</tr>\n",
       "<tr>\n",
       "  <th>house_style_value</th>  <td>-1.021e+04</td> <td> 3603.551</td> <td>   -2.832</td> <td> 0.005</td> <td>-1.73e+04</td> <td>-3139.062</td>\n",
       "</tr>\n",
       "<tr>\n",
       "  <th>central_air_Y</th>      <td>-4625.9516</td> <td> 2912.296</td> <td>   -1.588</td> <td> 0.112</td> <td>-1.03e+04</td> <td> 1085.477</td>\n",
       "</tr>\n",
       "</table>\n",
       "<table class=\"simpletable\">\n",
       "<tr>\n",
       "  <th>Omnibus:</th>       <td>444.535</td> <th>  Durbin-Watson:     </th> <td>   2.049</td>\n",
       "</tr>\n",
       "<tr>\n",
       "  <th>Prob(Omnibus):</th> <td> 0.000</td>  <th>  Jarque-Bera (JB):  </th> <td>4535.093</td>\n",
       "</tr>\n",
       "<tr>\n",
       "  <th>Skew:</th>          <td> 0.720</td>  <th>  Prob(JB):          </th> <td>    0.00</td>\n",
       "</tr>\n",
       "<tr>\n",
       "  <th>Kurtosis:</th>      <td>10.150</td>  <th>  Cond. No.          </th> <td>7.76e+04</td>\n",
       "</tr>\n",
       "</table><br/><br/>Notes:<br/>[1] Standard Errors assume that the covariance matrix of the errors is correctly specified.<br/>[2] The condition number is large, 7.76e+04. This might indicate that there are<br/>strong multicollinearity or other numerical problems."
      ],
      "text/plain": [
       "<class 'statsmodels.iolib.summary.Summary'>\n",
       "\"\"\"\n",
       "                            OLS Regression Results                            \n",
       "==============================================================================\n",
       "Dep. Variable:              saleprice   R-squared:                       0.880\n",
       "Model:                            OLS   Adj. R-squared:                  0.878\n",
       "Method:                 Least Squares   F-statistic:                     476.7\n",
       "Date:                Thu, 17 Mar 2022   Prob (F-statistic):               0.00\n",
       "Time:                        23:15:38   Log-Likelihood:                -23813.\n",
       "No. Observations:                2046   AIC:                         4.769e+04\n",
       "Df Residuals:                    2014   BIC:                         4.787e+04\n",
       "Df Model:                          31                                         \n",
       "Covariance Type:            nonrobust                                         \n",
       "======================================================================================\n",
       "                         coef    std err          t      P>|t|      [0.025      0.975]\n",
       "--------------------------------------------------------------------------------------\n",
       "const              -3.432e+05   2.34e+04    -14.645      0.000   -3.89e+05   -2.97e+05\n",
       "overall_qual        7577.8542    836.136      9.063      0.000    5938.072    9217.636\n",
       "mas_vnr_area          37.4522      4.216      8.883      0.000      29.183      45.721\n",
       "exter_qual          9931.4997   1915.916      5.184      0.000    6174.116    1.37e+04\n",
       "exter_cond          4009.2710   1718.038      2.334      0.020     639.953    7378.589\n",
       "bsmt_qual          -1004.0755   1100.928     -0.912      0.362   -3163.153    1155.002\n",
       "total_bsmt_sf         31.4592      2.045     15.383      0.000      27.449      35.470\n",
       "heating_qc          1409.6836    837.413      1.683      0.092    -232.603    3051.971\n",
       "gr_liv_area           42.5660      2.962     14.369      0.000      36.756      48.376\n",
       "kitchen_qual        1.162e+04   1476.506      7.868      0.000    8721.869    1.45e+04\n",
       "totrms_abvgrd       -677.4614    718.400     -0.943      0.346   -2086.347     731.424\n",
       "fireplaces          7957.8318   1163.159      6.842      0.000    5676.711    1.02e+04\n",
       "garage_area           32.9275      3.848      8.557      0.000      25.381      40.474\n",
       "wood_deck_sf          24.3943      5.168      4.720      0.000      14.259      34.530\n",
       "open_porch_sf         21.4271     10.234      2.094      0.036       1.357      41.497\n",
       "age                   71.2663     44.561      1.599      0.110     -16.125     158.657\n",
       "neighborhood_value  2.008e+04   1799.800     11.155      0.000    1.65e+04    2.36e+04\n",
       "all_baths           5660.0641   1005.505      5.629      0.000    3688.125    7632.003\n",
       "ms_subclass_value   1188.0619   2618.004      0.454      0.650   -3946.217    6322.340\n",
       "ms_zoning_value      649.3061   2857.027      0.227      0.820   -4953.732    6252.344\n",
       "lot_config_value    2.017e+04   5126.027      3.935      0.000    1.01e+04    3.02e+04\n",
       "land_contour_value  2.174e+04   3487.022      6.234      0.000    1.49e+04    2.86e+04\n",
       "lot_shape_value     3046.3350   2896.280      1.052      0.293   -2633.684    8726.354\n",
       "heating_value       6420.0274   7555.696      0.850      0.396   -8397.770    2.12e+04\n",
       "sale_type_value     2.019e+04   2309.585      8.740      0.000    1.57e+04    2.47e+04\n",
       "exterior_1st_value  7628.0042   2355.391      3.239      0.001    3008.746    1.22e+04\n",
       "functional_value    2.472e+04   5971.888      4.140      0.000     1.3e+04    3.64e+04\n",
       "foundation_value   -3296.5950   2360.645     -1.396      0.163   -7926.156    1332.965\n",
       "condition_1_value   1.804e+04   3603.850      5.007      0.000     1.1e+04    2.51e+04\n",
       "bldg_type_value     1.149e+04   4724.154      2.432      0.015    2222.461    2.08e+04\n",
       "house_style_value  -1.021e+04   3603.551     -2.832      0.005   -1.73e+04   -3139.062\n",
       "central_air_Y      -4625.9516   2912.296     -1.588      0.112   -1.03e+04    1085.477\n",
       "==============================================================================\n",
       "Omnibus:                      444.535   Durbin-Watson:                   2.049\n",
       "Prob(Omnibus):                  0.000   Jarque-Bera (JB):             4535.093\n",
       "Skew:                           0.720   Prob(JB):                         0.00\n",
       "Kurtosis:                      10.150   Cond. No.                     7.76e+04\n",
       "==============================================================================\n",
       "\n",
       "Notes:\n",
       "[1] Standard Errors assume that the covariance matrix of the errors is correctly specified.\n",
       "[2] The condition number is large, 7.76e+04. This might indicate that there are\n",
       "strong multicollinearity or other numerical problems.\n",
       "\"\"\""
      ]
     },
     "execution_count": 166,
     "metadata": {},
     "output_type": "execute_result"
    }
   ],
   "source": [
    "X_ols = x_var_model_5[features_5]\n",
    "X_ols = sm.add_constant(X_ols)\n",
    "y_ols = x_var_model_5[\"saleprice\"]\n",
    "model_5_ols = sm.OLS(y_ols, X_ols).fit()\n",
    "\n",
    "model_5_ols.summary()"
   ]
  },
  {
   "cell_type": "markdown",
   "id": "bab79aa0",
   "metadata": {},
   "source": [
    "Plotting the features with the highest coef for model 5"
   ]
  },
  {
   "cell_type": "code",
   "execution_count": 167,
   "id": "38ec2ffe",
   "metadata": {},
   "outputs": [
    {
     "data": {
      "image/png": "[encoded data removed]",
      "text/plain": [
       "<Figure size 576x21.6 with 1 Axes>"
      ]
     },
     "metadata": {
      "needs_background": "light"
     },
     "output_type": "display_data"
    },
    {
     "data": {
      "image/png": "[encoded data removed]",
      "text/plain": [
       "<Figure size 1152x648 with 1 Axes>"
      ]
     },
     "metadata": {
      "needs_background": "light"
     },
     "output_type": "display_data"
    }
   ],
   "source": [
    "# Create list of coefficients that are not 0\n",
    "column_name = [col for col in X5.columns if col != 'saleprice']\n",
    "lasso_coef = pd.DataFrame(lasso_best5.coef_, index = column_name)\n",
    "lasso_coef = lasso_coef[lasso_coef[0] != 0]                                  \n",
    "\n",
    "# sort by absolute values\n",
    "lasso_coef = lasso_coef.reindex(lasso_coef[0].abs().sort_values(ascending=True).index)\n",
    "\n",
    "plt.figure(figsize=(8, 0.3))\n",
    "plt.text(\n",
    "    x = 0.1,                              \n",
    "    y = 0.9,                             \n",
    "    s = 'model 5 (lasso)', \n",
    "    size = 15,\n",
    ")                         \n",
    "plt.axis('off')\n",
    "\n",
    "lasso_coef.head(100).plot.barh(figsize=(16,9), legend = None)\n",
    "plt.title('Features with the highest coefficients',fontsize=16)\n",
    "plt.xlabel('coefficient value', fontsize=11)\n",
    "plt.yticks(fontsize=11);"
   ]
  }
 ],
 "metadata": {
  "kernelspec": {
   "display_name": "Python 3 (ipykernel)",
   "language": "python",
   "name": "python3"
  },
  "language_info": {
   "codemirror_mode": {
    "name": "ipython",
    "version": 3
   },
   "file_extension": ".py",
   "mimetype": "text/x-python",
   "name": "python",
   "nbconvert_exporter": "python",
   "pygments_lexer": "ipython3",
   "version": "3.9.7"
  }
 },
 "nbformat": 4,
 "nbformat_minor": 5
}
