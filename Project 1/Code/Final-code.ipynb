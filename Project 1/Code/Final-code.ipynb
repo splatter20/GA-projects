{
 "cells": [
  {
   "cell_type": "markdown",
   "metadata": {},
   "source": [
    "<img src=\"http://imgur.com/1ZcRyrc.png\" style=\"float: left; margin: 20px; height: 55px\">\n",
    "\n",
    "# Project 1: Standardized Test Analysis"
   ]
  },
  {
   "cell_type": "markdown",
   "metadata": {},
   "source": [
    "--- \n",
    "# Part 1\n",
    "\n",
    "Part 1 requires knowledge of basic Python.\n",
    "\n",
    "---"
   ]
  },
  {
   "cell_type": "markdown",
   "metadata": {},
   "source": [
    "## Problem Statement"
   ]
  },
  {
   "cell_type": "markdown",
   "metadata": {},
   "source": [
    "As a guidance counselor in a high school, a major stress point for students is whether they will be able to enter college. Students would ask if they should take SAT or ACT to enter into a college. \n",
    "\n",
    "In this project, I would like to explore if taking SAT or ACT allow for students to enter colleges easier.\n"
   ]
  },
  {
   "cell_type": "markdown",
   "metadata": {},
   "source": [
    "### Contents:\n",
    "- [Background](#Background)\n",
    "- [Data Import & Cleaning](#Data-Import-and-Cleaning)\n",
    "- [Exploratory Data Analysis](#Exploratory-Data-Analysis)\n",
    "- [Data Visualization](#Visualize-the-Data)\n",
    "- [Conclusions and Recommendations](#Conclusions-and-Recommendations)"
   ]
  },
  {
   "cell_type": "markdown",
   "metadata": {},
   "source": [
    "## Background"
   ]
  },
  {
   "cell_type": "markdown",
   "metadata": {},
   "source": [
    "The SAT and ACT are standardized tests that many colleges and universities in the United States require for their admissions process. This score is used along with other materials such as grade point average (GPA) and essay responses to determine whether or not a potential student will be accepted to the university.\n",
    "\n",
    "The SAT has two sections of the test: Evidence-Based Reading and Writing and Math ([*source*](https://www.princetonreview.com/college/sat-sections)). The ACT has 4 sections: English, Mathematics, Reading, and Science, with an additional optional writing section ([*source*](https://www.act.org/content/act/en/products-and-services/the-act/scores/understanding-your-scores.html)). They have different score ranges, which you can read more about on their websites or additional outside sources (a quick Google search will help you understand the scores for each test):\n",
    "* [SAT](https://collegereadiness.collegeboard.org/sat)\n",
    "* [ACT](https://www.act.org/content/act/en.html)\n",
    "\n",
    "Standardized tests have long been a controversial topic for students, administrators, and legislators. Since the 1940's, an increasing number of colleges have been using scores from sudents' performances on tests like the SAT and the ACT as a measure for college readiness and aptitude ([*source*](https://www.minotdailynews.com/news/local-news/2017/04/a-brief-history-of-the-sat-and-act/)). Supporters of these tests argue that these scores can be used as an objective measure to determine college admittance. Opponents of these tests claim that these tests are not accurate measures of students potential or ability and serve as an inequitable barrier to entry. Lately, more and more schools are opting to drop the SAT/ACT requirement for their Fall 2021 applications ([*read more about this here*](https://www.cnn.com/2020/04/14/us/coronavirus-colleges-sat-act-test-trnd/index.html))."
   ]
  },
  {
   "cell_type": "markdown",
   "metadata": {},
   "source": [
    "I will be using the following dataset:\n",
    "\n",
    "* act_2017.csv: 2017 ACT Scores by State\n",
    "* act_2018.csv: 2018 ACT Scores by State\n",
    "* sat_2017.csv: 2017 SAT Scores by State\n",
    "* sat_2018.csv: 2018 SAT Scores by State\n",
    "* sat_act_by_college.csv: Ranges of Accepted ACT & SAT Student Scores by Colleges"
   ]
  },
  {
   "cell_type": "markdown",
   "metadata": {},
   "source": [
    "### Outside Research"
   ]
  },
  {
   "cell_type": "markdown",
   "metadata": {},
   "source": [
    "Based on your problem statement and your chosen datasets, spend some time doing outside research on state policies or additional information that might be relevant. Summarize your findings below. If you bring in any outside tables or charts, make sure you are explicit about having borrowed them. If you quote any text, make sure that it renders as being quoted. **Make sure that you cite your sources.**"
   ]
  },
  {
   "cell_type": "markdown",
   "metadata": {},
   "source": [
    "sources: \n",
    "\n",
    "https://www.edweek.org/teaching-learning/which-states-require-students-to-take-the-sat-or-act\n",
    "\n",
    "https://www.edweek.org/teaching-learning/math-scores-slide-to-a-20-year-low-on-act/2018/10\n",
    "\n",
    "https://reports.collegeboard.org/archive/sat-suite-program-results/2018/class-2018-results\n",
    "\n",
    "https://www.nacacnet.org/news--publications/publications/state-of-college-admission/"
   ]
  },
  {
   "cell_type": "markdown",
   "metadata": {},
   "source": [
    "### Coding Challenges\n",
    "\n",
    "1. Manually calculate mean:\n",
    "\n",
    "    Write a function that takes in values and returns the mean of the values. Create a list of numbers that you test on your function to check to make sure your function works!\n",
    "    \n",
    "    *Note*: Do not use any mean methods built-in to any Python libraries to do this! This should be done without importing any additional libraries."
   ]
  },
  {
   "cell_type": "code",
   "execution_count": 1,
   "metadata": {},
   "outputs": [],
   "source": [
    "# Code:\n",
    "\n",
    "def get_mean(lst):\n",
    "    sum_list = 0\n",
    "    for _ in range(len(lst)):\n",
    "        sum_list += lst[_]\n",
    "    return sum_list / len(lst)"
   ]
  },
  {
   "cell_type": "markdown",
   "metadata": {},
   "source": [
    "2. Manually calculate standard deviation:\n",
    "\n",
    "    The formula for standard deviation is below:\n",
    "\n",
    "    $$\\sigma = \\sqrt{\\frac{1}{n}\\sum_{i=1}^n(x_i - \\mu)^2}$$\n",
    "\n",
    "    Where $x_i$ represents each value in the dataset, $\\mu$ represents the mean of all values in the dataset and $n$ represents the number of values in the dataset.\n",
    "\n",
    "    Write a function that takes in values and returns the standard deviation of the values using the formula above. Hint: use the function you wrote above to calculate the mean! Use the list of numbers you created above to test on your function.\n",
    "    \n",
    "    *Note*: Do not use any standard deviation methods built-in to any Python libraries to do this! This should be done without importing any additional libraries."
   ]
  },
  {
   "cell_type": "code",
   "execution_count": 2,
   "metadata": {},
   "outputs": [],
   "source": [
    "# Code:\n",
    "\n",
    "def get_std(lst):\n",
    "    mean_of_lst = get_mean(lst)\n",
    "    sum_lst = 0\n",
    "    \n",
    "    for _ in range(len(lst)):\n",
    "        sum_lst += ((lst[_] - mean_of_lst) ** 2)\n",
    "        \n",
    "    return ((sum_lst / (len(lst))) ** 0.5)"
   ]
  },
  {
   "cell_type": "markdown",
   "metadata": {},
   "source": [
    "3. Data cleaning function:\n",
    "    \n",
    "    Write a function that takes in a string that is a number and a percent symbol (ex. '50%', '30.5%', etc.) and converts this to a float that is the decimal approximation of the percent. For example, inputting '50%' in your function should return 0.5, '30.5%' should return 0.305, etc. Make sure to test your function to make sure it works!\n",
    "\n",
    "You will use these functions later on in the project!"
   ]
  },
  {
   "cell_type": "code",
   "execution_count": 3,
   "metadata": {},
   "outputs": [],
   "source": [
    "# Code:\n",
    "\n",
    "def str_to_percent(string):\n",
    "    num = string.replace('%','')\n",
    "    return float(num) / 100"
   ]
  },
  {
   "cell_type": "markdown",
   "metadata": {},
   "source": [
    "--- \n",
    "# Part 2\n",
    "\n",
    "Part 2 requires knowledge of Pandas, EDA, data cleaning, and data visualization.\n",
    "\n",
    "---"
   ]
  },
  {
   "cell_type": "markdown",
   "metadata": {},
   "source": [
    "*All libraries used should be added here*"
   ]
  },
  {
   "cell_type": "code",
   "execution_count": 4,
   "metadata": {},
   "outputs": [],
   "source": [
    "# Imports:\n",
    "import numpy as np\n",
    "import pandas as pd\n",
    "import matplotlib.pyplot as plt\n",
    "import seaborn as sns"
   ]
  },
  {
   "cell_type": "markdown",
   "metadata": {},
   "source": [
    "## Data Import and Cleaning"
   ]
  },
  {
   "cell_type": "markdown",
   "metadata": {},
   "source": [
    "### Data Import & Cleaning\n",
    "\n",
    "Import the datasets that you selected for this project and go through the following steps at a minimum. You are welcome to do further cleaning as you feel necessary:\n",
    "1. Display the data: print the first 5 rows of each dataframe to your Jupyter notebook.\n",
    "2. Check for missing values.\n",
    "3. Check for any obvious issues with the observations (keep in mind the minimum & maximum possible values for each test/subtest).\n",
    "4. Fix any errors you identified in steps 2-3.\n",
    "5. Display the data types of each feature.\n",
    "6. Fix any incorrect data types found in step 5.\n",
    "    - Fix any individual values preventing other columns from being the appropriate type.\n",
    "    - If your dataset has a column of percents (ex. '50%', '30.5%', etc.), use the function you wrote in Part 1 (coding challenges, number 3) to convert this to floats! *Hint*: use `.map()` or `.apply()`.\n",
    "7. Rename Columns.\n",
    "    - Column names should be all lowercase.\n",
    "    - Column names should not contain spaces (underscores will suffice--this allows for using the `df.column_name` method to access columns in addition to `df['column_name']`).\n",
    "    - Column names should be unique and informative.\n",
    "8. Drop unnecessary rows (if needed).\n",
    "9. Merge dataframes that can be merged.\n",
    "10. Perform any additional cleaning that you feel is necessary.\n",
    "11. Save your cleaned and merged dataframes as csv files."
   ]
  },
  {
   "cell_type": "code",
   "execution_count": 5,
   "metadata": {},
   "outputs": [],
   "source": [
    "# importing csv\n",
    "sat_2017 = pd.read_csv('../data/sat_2017.csv')\n",
    "sat_2018 = pd.read_csv('../data/sat_2018.csv')\n",
    "act_2018 = pd.read_csv('../data/act_2018.csv')\n",
    "act_2017 = pd.read_csv('../data/act_2017.csv')\n",
    "sat_act_by_college = pd.read_csv('../data/sat_act_by_college.csv')\n",
    "act_overall_participation = pd.read_csv('../data/US ACT participation and scores.csv') # source = https://www.edweek.org/teaching-learning/math-scores-slide-to-a-20-year-low-on-act/2018/10"
   ]
  },
  {
   "cell_type": "code",
   "execution_count": 6,
   "metadata": {},
   "outputs": [
    {
     "data": {
      "text/html": [
       "<div>\n",
       "<style scoped>\n",
       "    .dataframe tbody tr th:only-of-type {\n",
       "        vertical-align: middle;\n",
       "    }\n",
       "\n",
       "    .dataframe tbody tr th {\n",
       "        vertical-align: top;\n",
       "    }\n",
       "\n",
       "    .dataframe thead th {\n",
       "        text-align: right;\n",
       "    }\n",
       "</style>\n",
       "<table border=\"1\" class=\"dataframe\">\n",
       "  <thead>\n",
       "    <tr style=\"text-align: right;\">\n",
       "      <th></th>\n",
       "      <th>State</th>\n",
       "      <th>Participation</th>\n",
       "      <th>Evidence-Based Reading and Writing</th>\n",
       "      <th>Math</th>\n",
       "      <th>Total</th>\n",
       "    </tr>\n",
       "  </thead>\n",
       "  <tbody>\n",
       "    <tr>\n",
       "      <th>0</th>\n",
       "      <td>Alabama</td>\n",
       "      <td>5%</td>\n",
       "      <td>593</td>\n",
       "      <td>572</td>\n",
       "      <td>1165</td>\n",
       "    </tr>\n",
       "    <tr>\n",
       "      <th>1</th>\n",
       "      <td>Alaska</td>\n",
       "      <td>38%</td>\n",
       "      <td>547</td>\n",
       "      <td>533</td>\n",
       "      <td>1080</td>\n",
       "    </tr>\n",
       "    <tr>\n",
       "      <th>2</th>\n",
       "      <td>Arizona</td>\n",
       "      <td>30%</td>\n",
       "      <td>563</td>\n",
       "      <td>553</td>\n",
       "      <td>1116</td>\n",
       "    </tr>\n",
       "    <tr>\n",
       "      <th>3</th>\n",
       "      <td>Arkansas</td>\n",
       "      <td>3%</td>\n",
       "      <td>614</td>\n",
       "      <td>594</td>\n",
       "      <td>1208</td>\n",
       "    </tr>\n",
       "    <tr>\n",
       "      <th>4</th>\n",
       "      <td>California</td>\n",
       "      <td>53%</td>\n",
       "      <td>531</td>\n",
       "      <td>524</td>\n",
       "      <td>1055</td>\n",
       "    </tr>\n",
       "  </tbody>\n",
       "</table>\n",
       "</div>"
      ],
      "text/plain": [
       "        State Participation  Evidence-Based Reading and Writing  Math  Total\n",
       "0     Alabama            5%                                 593   572   1165\n",
       "1      Alaska           38%                                 547   533   1080\n",
       "2     Arizona           30%                                 563   553   1116\n",
       "3    Arkansas            3%                                 614   594   1208\n",
       "4  California           53%                                 531   524   1055"
      ]
     },
     "execution_count": 6,
     "metadata": {},
     "output_type": "execute_result"
    }
   ],
   "source": [
    "# Viewing first 5 rows of data\n",
    "sat_2017.head()"
   ]
  },
  {
   "cell_type": "code",
   "execution_count": 7,
   "metadata": {
    "scrolled": true
   },
   "outputs": [
    {
     "data": {
      "text/html": [
       "<div>\n",
       "<style scoped>\n",
       "    .dataframe tbody tr th:only-of-type {\n",
       "        vertical-align: middle;\n",
       "    }\n",
       "\n",
       "    .dataframe tbody tr th {\n",
       "        vertical-align: top;\n",
       "    }\n",
       "\n",
       "    .dataframe thead th {\n",
       "        text-align: right;\n",
       "    }\n",
       "</style>\n",
       "<table border=\"1\" class=\"dataframe\">\n",
       "  <thead>\n",
       "    <tr style=\"text-align: right;\">\n",
       "      <th></th>\n",
       "      <th>Evidence-Based Reading and Writing</th>\n",
       "      <th>Math</th>\n",
       "      <th>Total</th>\n",
       "    </tr>\n",
       "  </thead>\n",
       "  <tbody>\n",
       "    <tr>\n",
       "      <th>count</th>\n",
       "      <td>51.000000</td>\n",
       "      <td>51.000000</td>\n",
       "      <td>51.000000</td>\n",
       "    </tr>\n",
       "    <tr>\n",
       "      <th>mean</th>\n",
       "      <td>569.117647</td>\n",
       "      <td>547.627451</td>\n",
       "      <td>1126.098039</td>\n",
       "    </tr>\n",
       "    <tr>\n",
       "      <th>std</th>\n",
       "      <td>45.666901</td>\n",
       "      <td>84.909119</td>\n",
       "      <td>92.494812</td>\n",
       "    </tr>\n",
       "    <tr>\n",
       "      <th>min</th>\n",
       "      <td>482.000000</td>\n",
       "      <td>52.000000</td>\n",
       "      <td>950.000000</td>\n",
       "    </tr>\n",
       "    <tr>\n",
       "      <th>25%</th>\n",
       "      <td>533.500000</td>\n",
       "      <td>522.000000</td>\n",
       "      <td>1055.500000</td>\n",
       "    </tr>\n",
       "    <tr>\n",
       "      <th>50%</th>\n",
       "      <td>559.000000</td>\n",
       "      <td>548.000000</td>\n",
       "      <td>1107.000000</td>\n",
       "    </tr>\n",
       "    <tr>\n",
       "      <th>75%</th>\n",
       "      <td>613.000000</td>\n",
       "      <td>599.000000</td>\n",
       "      <td>1212.000000</td>\n",
       "    </tr>\n",
       "    <tr>\n",
       "      <th>max</th>\n",
       "      <td>644.000000</td>\n",
       "      <td>651.000000</td>\n",
       "      <td>1295.000000</td>\n",
       "    </tr>\n",
       "  </tbody>\n",
       "</table>\n",
       "</div>"
      ],
      "text/plain": [
       "       Evidence-Based Reading and Writing        Math        Total\n",
       "count                           51.000000   51.000000    51.000000\n",
       "mean                           569.117647  547.627451  1126.098039\n",
       "std                             45.666901   84.909119    92.494812\n",
       "min                            482.000000   52.000000   950.000000\n",
       "25%                            533.500000  522.000000  1055.500000\n",
       "50%                            559.000000  548.000000  1107.000000\n",
       "75%                            613.000000  599.000000  1212.000000\n",
       "max                            644.000000  651.000000  1295.000000"
      ]
     },
     "execution_count": 7,
     "metadata": {},
     "output_type": "execute_result"
    }
   ],
   "source": [
    "# checking the summary stats of data\n",
    "sat_2017.describe()"
   ]
  },
  {
   "cell_type": "code",
   "execution_count": 8,
   "metadata": {},
   "outputs": [
    {
     "name": "stdout",
     "output_type": "stream",
     "text": [
      "<class 'pandas.core.frame.DataFrame'>\n",
      "RangeIndex: 51 entries, 0 to 50\n",
      "Data columns (total 5 columns):\n",
      " #   Column                              Non-Null Count  Dtype \n",
      "---  ------                              --------------  ----- \n",
      " 0   State                               51 non-null     object\n",
      " 1   Participation                       51 non-null     object\n",
      " 2   Evidence-Based Reading and Writing  51 non-null     int64 \n",
      " 3   Math                                51 non-null     int64 \n",
      " 4   Total                               51 non-null     int64 \n",
      "dtypes: int64(3), object(2)\n",
      "memory usage: 2.1+ KB\n"
     ]
    }
   ],
   "source": [
    "# view data type\n",
    "sat_2017.info()"
   ]
  },
  {
   "cell_type": "code",
   "execution_count": 9,
   "metadata": {},
   "outputs": [
    {
     "data": {
      "text/html": [
       "<div>\n",
       "<style scoped>\n",
       "    .dataframe tbody tr th:only-of-type {\n",
       "        vertical-align: middle;\n",
       "    }\n",
       "\n",
       "    .dataframe tbody tr th {\n",
       "        vertical-align: top;\n",
       "    }\n",
       "\n",
       "    .dataframe thead th {\n",
       "        text-align: right;\n",
       "    }\n",
       "</style>\n",
       "<table border=\"1\" class=\"dataframe\">\n",
       "  <thead>\n",
       "    <tr style=\"text-align: right;\">\n",
       "      <th></th>\n",
       "      <th>State</th>\n",
       "      <th>Participation</th>\n",
       "      <th>Evidence-Based Reading and Writing</th>\n",
       "      <th>Math</th>\n",
       "      <th>Total</th>\n",
       "    </tr>\n",
       "  </thead>\n",
       "  <tbody>\n",
       "    <tr>\n",
       "      <th>0</th>\n",
       "      <td>Alabama</td>\n",
       "      <td>6%</td>\n",
       "      <td>595</td>\n",
       "      <td>571</td>\n",
       "      <td>1166</td>\n",
       "    </tr>\n",
       "    <tr>\n",
       "      <th>1</th>\n",
       "      <td>Alaska</td>\n",
       "      <td>43%</td>\n",
       "      <td>562</td>\n",
       "      <td>544</td>\n",
       "      <td>1106</td>\n",
       "    </tr>\n",
       "    <tr>\n",
       "      <th>2</th>\n",
       "      <td>Arizona</td>\n",
       "      <td>29%</td>\n",
       "      <td>577</td>\n",
       "      <td>572</td>\n",
       "      <td>1149</td>\n",
       "    </tr>\n",
       "    <tr>\n",
       "      <th>3</th>\n",
       "      <td>Arkansas</td>\n",
       "      <td>5%</td>\n",
       "      <td>592</td>\n",
       "      <td>576</td>\n",
       "      <td>1169</td>\n",
       "    </tr>\n",
       "    <tr>\n",
       "      <th>4</th>\n",
       "      <td>California</td>\n",
       "      <td>60%</td>\n",
       "      <td>540</td>\n",
       "      <td>536</td>\n",
       "      <td>1076</td>\n",
       "    </tr>\n",
       "  </tbody>\n",
       "</table>\n",
       "</div>"
      ],
      "text/plain": [
       "        State Participation  Evidence-Based Reading and Writing  Math  Total\n",
       "0     Alabama            6%                                 595   571   1166\n",
       "1      Alaska           43%                                 562   544   1106\n",
       "2     Arizona           29%                                 577   572   1149\n",
       "3    Arkansas            5%                                 592   576   1169\n",
       "4  California           60%                                 540   536   1076"
      ]
     },
     "execution_count": 9,
     "metadata": {},
     "output_type": "execute_result"
    }
   ],
   "source": [
    "# Viewing first 5 rows of data\n",
    "sat_2018.head()"
   ]
  },
  {
   "cell_type": "code",
   "execution_count": 10,
   "metadata": {},
   "outputs": [
    {
     "data": {
      "text/html": [
       "<div>\n",
       "<style scoped>\n",
       "    .dataframe tbody tr th:only-of-type {\n",
       "        vertical-align: middle;\n",
       "    }\n",
       "\n",
       "    .dataframe tbody tr th {\n",
       "        vertical-align: top;\n",
       "    }\n",
       "\n",
       "    .dataframe thead th {\n",
       "        text-align: right;\n",
       "    }\n",
       "</style>\n",
       "<table border=\"1\" class=\"dataframe\">\n",
       "  <thead>\n",
       "    <tr style=\"text-align: right;\">\n",
       "      <th></th>\n",
       "      <th>Evidence-Based Reading and Writing</th>\n",
       "      <th>Math</th>\n",
       "      <th>Total</th>\n",
       "    </tr>\n",
       "  </thead>\n",
       "  <tbody>\n",
       "    <tr>\n",
       "      <th>count</th>\n",
       "      <td>51.000000</td>\n",
       "      <td>51.000000</td>\n",
       "      <td>51.000000</td>\n",
       "    </tr>\n",
       "    <tr>\n",
       "      <th>mean</th>\n",
       "      <td>563.686275</td>\n",
       "      <td>556.235294</td>\n",
       "      <td>1120.019608</td>\n",
       "    </tr>\n",
       "    <tr>\n",
       "      <th>std</th>\n",
       "      <td>47.502627</td>\n",
       "      <td>47.772623</td>\n",
       "      <td>94.155083</td>\n",
       "    </tr>\n",
       "    <tr>\n",
       "      <th>min</th>\n",
       "      <td>480.000000</td>\n",
       "      <td>480.000000</td>\n",
       "      <td>977.000000</td>\n",
       "    </tr>\n",
       "    <tr>\n",
       "      <th>25%</th>\n",
       "      <td>534.500000</td>\n",
       "      <td>522.500000</td>\n",
       "      <td>1057.500000</td>\n",
       "    </tr>\n",
       "    <tr>\n",
       "      <th>50%</th>\n",
       "      <td>552.000000</td>\n",
       "      <td>544.000000</td>\n",
       "      <td>1098.000000</td>\n",
       "    </tr>\n",
       "    <tr>\n",
       "      <th>75%</th>\n",
       "      <td>610.500000</td>\n",
       "      <td>593.500000</td>\n",
       "      <td>1204.000000</td>\n",
       "    </tr>\n",
       "    <tr>\n",
       "      <th>max</th>\n",
       "      <td>643.000000</td>\n",
       "      <td>655.000000</td>\n",
       "      <td>1298.000000</td>\n",
       "    </tr>\n",
       "  </tbody>\n",
       "</table>\n",
       "</div>"
      ],
      "text/plain": [
       "       Evidence-Based Reading and Writing        Math        Total\n",
       "count                           51.000000   51.000000    51.000000\n",
       "mean                           563.686275  556.235294  1120.019608\n",
       "std                             47.502627   47.772623    94.155083\n",
       "min                            480.000000  480.000000   977.000000\n",
       "25%                            534.500000  522.500000  1057.500000\n",
       "50%                            552.000000  544.000000  1098.000000\n",
       "75%                            610.500000  593.500000  1204.000000\n",
       "max                            643.000000  655.000000  1298.000000"
      ]
     },
     "execution_count": 10,
     "metadata": {},
     "output_type": "execute_result"
    }
   ],
   "source": [
    "# checking the summary stats of data\n",
    "sat_2018.describe()"
   ]
  },
  {
   "cell_type": "code",
   "execution_count": 11,
   "metadata": {
    "scrolled": true
   },
   "outputs": [
    {
     "name": "stdout",
     "output_type": "stream",
     "text": [
      "<class 'pandas.core.frame.DataFrame'>\n",
      "RangeIndex: 51 entries, 0 to 50\n",
      "Data columns (total 5 columns):\n",
      " #   Column                              Non-Null Count  Dtype \n",
      "---  ------                              --------------  ----- \n",
      " 0   State                               51 non-null     object\n",
      " 1   Participation                       51 non-null     object\n",
      " 2   Evidence-Based Reading and Writing  51 non-null     int64 \n",
      " 3   Math                                51 non-null     int64 \n",
      " 4   Total                               51 non-null     int64 \n",
      "dtypes: int64(3), object(2)\n",
      "memory usage: 2.1+ KB\n"
     ]
    }
   ],
   "source": [
    "# view data type\n",
    "sat_2018.info()"
   ]
  },
  {
   "cell_type": "code",
   "execution_count": 12,
   "metadata": {},
   "outputs": [
    {
     "data": {
      "text/html": [
       "<div>\n",
       "<style scoped>\n",
       "    .dataframe tbody tr th:only-of-type {\n",
       "        vertical-align: middle;\n",
       "    }\n",
       "\n",
       "    .dataframe tbody tr th {\n",
       "        vertical-align: top;\n",
       "    }\n",
       "\n",
       "    .dataframe thead th {\n",
       "        text-align: right;\n",
       "    }\n",
       "</style>\n",
       "<table border=\"1\" class=\"dataframe\">\n",
       "  <thead>\n",
       "    <tr style=\"text-align: right;\">\n",
       "      <th></th>\n",
       "      <th>State</th>\n",
       "      <th>Participation</th>\n",
       "      <th>English</th>\n",
       "      <th>Math</th>\n",
       "      <th>Reading</th>\n",
       "      <th>Science</th>\n",
       "      <th>Composite</th>\n",
       "    </tr>\n",
       "  </thead>\n",
       "  <tbody>\n",
       "    <tr>\n",
       "      <th>0</th>\n",
       "      <td>National</td>\n",
       "      <td>60%</td>\n",
       "      <td>20.3</td>\n",
       "      <td>20.7</td>\n",
       "      <td>21.4</td>\n",
       "      <td>21.0</td>\n",
       "      <td>21.0</td>\n",
       "    </tr>\n",
       "    <tr>\n",
       "      <th>1</th>\n",
       "      <td>Alabama</td>\n",
       "      <td>100%</td>\n",
       "      <td>18.9</td>\n",
       "      <td>18.4</td>\n",
       "      <td>19.7</td>\n",
       "      <td>19.4</td>\n",
       "      <td>19.2</td>\n",
       "    </tr>\n",
       "    <tr>\n",
       "      <th>2</th>\n",
       "      <td>Alaska</td>\n",
       "      <td>65%</td>\n",
       "      <td>18.7</td>\n",
       "      <td>19.8</td>\n",
       "      <td>20.4</td>\n",
       "      <td>19.9</td>\n",
       "      <td>19.8</td>\n",
       "    </tr>\n",
       "    <tr>\n",
       "      <th>3</th>\n",
       "      <td>Arizona</td>\n",
       "      <td>62%</td>\n",
       "      <td>18.6</td>\n",
       "      <td>19.8</td>\n",
       "      <td>20.1</td>\n",
       "      <td>19.8</td>\n",
       "      <td>19.7</td>\n",
       "    </tr>\n",
       "    <tr>\n",
       "      <th>4</th>\n",
       "      <td>Arkansas</td>\n",
       "      <td>100%</td>\n",
       "      <td>18.9</td>\n",
       "      <td>19.0</td>\n",
       "      <td>19.7</td>\n",
       "      <td>19.5</td>\n",
       "      <td>19.4</td>\n",
       "    </tr>\n",
       "  </tbody>\n",
       "</table>\n",
       "</div>"
      ],
      "text/plain": [
       "      State Participation  English  Math  Reading  Science Composite\n",
       "0  National           60%     20.3  20.7     21.4     21.0      21.0\n",
       "1   Alabama          100%     18.9  18.4     19.7     19.4      19.2\n",
       "2    Alaska           65%     18.7  19.8     20.4     19.9      19.8\n",
       "3   Arizona           62%     18.6  19.8     20.1     19.8      19.7\n",
       "4  Arkansas          100%     18.9  19.0     19.7     19.5      19.4"
      ]
     },
     "execution_count": 12,
     "metadata": {},
     "output_type": "execute_result"
    }
   ],
   "source": [
    "# Viewing first 5 rows of data\n",
    "act_2017.head()"
   ]
  },
  {
   "cell_type": "code",
   "execution_count": 13,
   "metadata": {},
   "outputs": [
    {
     "data": {
      "text/html": [
       "<div>\n",
       "<style scoped>\n",
       "    .dataframe tbody tr th:only-of-type {\n",
       "        vertical-align: middle;\n",
       "    }\n",
       "\n",
       "    .dataframe tbody tr th {\n",
       "        vertical-align: top;\n",
       "    }\n",
       "\n",
       "    .dataframe thead th {\n",
       "        text-align: right;\n",
       "    }\n",
       "</style>\n",
       "<table border=\"1\" class=\"dataframe\">\n",
       "  <thead>\n",
       "    <tr style=\"text-align: right;\">\n",
       "      <th></th>\n",
       "      <th>English</th>\n",
       "      <th>Math</th>\n",
       "      <th>Reading</th>\n",
       "      <th>Science</th>\n",
       "    </tr>\n",
       "  </thead>\n",
       "  <tbody>\n",
       "    <tr>\n",
       "      <th>count</th>\n",
       "      <td>52.000000</td>\n",
       "      <td>52.000000</td>\n",
       "      <td>52.000000</td>\n",
       "      <td>52.000000</td>\n",
       "    </tr>\n",
       "    <tr>\n",
       "      <th>mean</th>\n",
       "      <td>20.919231</td>\n",
       "      <td>21.173077</td>\n",
       "      <td>22.001923</td>\n",
       "      <td>21.040385</td>\n",
       "    </tr>\n",
       "    <tr>\n",
       "      <th>std</th>\n",
       "      <td>2.332132</td>\n",
       "      <td>1.963602</td>\n",
       "      <td>2.048672</td>\n",
       "      <td>3.151113</td>\n",
       "    </tr>\n",
       "    <tr>\n",
       "      <th>min</th>\n",
       "      <td>16.300000</td>\n",
       "      <td>18.000000</td>\n",
       "      <td>18.100000</td>\n",
       "      <td>2.300000</td>\n",
       "    </tr>\n",
       "    <tr>\n",
       "      <th>25%</th>\n",
       "      <td>19.000000</td>\n",
       "      <td>19.400000</td>\n",
       "      <td>20.475000</td>\n",
       "      <td>19.900000</td>\n",
       "    </tr>\n",
       "    <tr>\n",
       "      <th>50%</th>\n",
       "      <td>20.550000</td>\n",
       "      <td>20.900000</td>\n",
       "      <td>21.700000</td>\n",
       "      <td>21.150000</td>\n",
       "    </tr>\n",
       "    <tr>\n",
       "      <th>75%</th>\n",
       "      <td>23.300000</td>\n",
       "      <td>23.100000</td>\n",
       "      <td>24.125000</td>\n",
       "      <td>22.525000</td>\n",
       "    </tr>\n",
       "    <tr>\n",
       "      <th>max</th>\n",
       "      <td>25.500000</td>\n",
       "      <td>25.300000</td>\n",
       "      <td>26.000000</td>\n",
       "      <td>24.900000</td>\n",
       "    </tr>\n",
       "  </tbody>\n",
       "</table>\n",
       "</div>"
      ],
      "text/plain": [
       "         English       Math    Reading    Science\n",
       "count  52.000000  52.000000  52.000000  52.000000\n",
       "mean   20.919231  21.173077  22.001923  21.040385\n",
       "std     2.332132   1.963602   2.048672   3.151113\n",
       "min    16.300000  18.000000  18.100000   2.300000\n",
       "25%    19.000000  19.400000  20.475000  19.900000\n",
       "50%    20.550000  20.900000  21.700000  21.150000\n",
       "75%    23.300000  23.100000  24.125000  22.525000\n",
       "max    25.500000  25.300000  26.000000  24.900000"
      ]
     },
     "execution_count": 13,
     "metadata": {},
     "output_type": "execute_result"
    }
   ],
   "source": [
    "# checking the summary stats of data\n",
    "act_2017.describe()"
   ]
  },
  {
   "cell_type": "code",
   "execution_count": 14,
   "metadata": {},
   "outputs": [
    {
     "name": "stdout",
     "output_type": "stream",
     "text": [
      "<class 'pandas.core.frame.DataFrame'>\n",
      "RangeIndex: 52 entries, 0 to 51\n",
      "Data columns (total 7 columns):\n",
      " #   Column         Non-Null Count  Dtype  \n",
      "---  ------         --------------  -----  \n",
      " 0   State          52 non-null     object \n",
      " 1   Participation  52 non-null     object \n",
      " 2   English        52 non-null     float64\n",
      " 3   Math           52 non-null     float64\n",
      " 4   Reading        52 non-null     float64\n",
      " 5   Science        52 non-null     float64\n",
      " 6   Composite      52 non-null     object \n",
      "dtypes: float64(4), object(3)\n",
      "memory usage: 3.0+ KB\n"
     ]
    }
   ],
   "source": [
    "# view data type\n",
    "act_2017.info()"
   ]
  },
  {
   "cell_type": "code",
   "execution_count": 15,
   "metadata": {},
   "outputs": [
    {
     "data": {
      "text/html": [
       "<div>\n",
       "<style scoped>\n",
       "    .dataframe tbody tr th:only-of-type {\n",
       "        vertical-align: middle;\n",
       "    }\n",
       "\n",
       "    .dataframe tbody tr th {\n",
       "        vertical-align: top;\n",
       "    }\n",
       "\n",
       "    .dataframe thead th {\n",
       "        text-align: right;\n",
       "    }\n",
       "</style>\n",
       "<table border=\"1\" class=\"dataframe\">\n",
       "  <thead>\n",
       "    <tr style=\"text-align: right;\">\n",
       "      <th></th>\n",
       "      <th>State</th>\n",
       "      <th>Participation</th>\n",
       "      <th>Composite</th>\n",
       "    </tr>\n",
       "  </thead>\n",
       "  <tbody>\n",
       "    <tr>\n",
       "      <th>0</th>\n",
       "      <td>Alabama</td>\n",
       "      <td>100%</td>\n",
       "      <td>19.1</td>\n",
       "    </tr>\n",
       "    <tr>\n",
       "      <th>1</th>\n",
       "      <td>Alaska</td>\n",
       "      <td>33%</td>\n",
       "      <td>20.8</td>\n",
       "    </tr>\n",
       "    <tr>\n",
       "      <th>2</th>\n",
       "      <td>Arizona</td>\n",
       "      <td>66%</td>\n",
       "      <td>19.2</td>\n",
       "    </tr>\n",
       "    <tr>\n",
       "      <th>3</th>\n",
       "      <td>Arkansas</td>\n",
       "      <td>100%</td>\n",
       "      <td>19.4</td>\n",
       "    </tr>\n",
       "    <tr>\n",
       "      <th>4</th>\n",
       "      <td>California</td>\n",
       "      <td>27%</td>\n",
       "      <td>22.7</td>\n",
       "    </tr>\n",
       "  </tbody>\n",
       "</table>\n",
       "</div>"
      ],
      "text/plain": [
       "        State Participation  Composite\n",
       "0     Alabama          100%       19.1\n",
       "1      Alaska           33%       20.8\n",
       "2     Arizona           66%       19.2\n",
       "3    Arkansas          100%       19.4\n",
       "4  California           27%       22.7"
      ]
     },
     "execution_count": 15,
     "metadata": {},
     "output_type": "execute_result"
    }
   ],
   "source": [
    "# Viewing first 5 rows of data\n",
    "act_2018.head()"
   ]
  },
  {
   "cell_type": "code",
   "execution_count": 16,
   "metadata": {},
   "outputs": [
    {
     "data": {
      "text/html": [
       "<div>\n",
       "<style scoped>\n",
       "    .dataframe tbody tr th:only-of-type {\n",
       "        vertical-align: middle;\n",
       "    }\n",
       "\n",
       "    .dataframe tbody tr th {\n",
       "        vertical-align: top;\n",
       "    }\n",
       "\n",
       "    .dataframe thead th {\n",
       "        text-align: right;\n",
       "    }\n",
       "</style>\n",
       "<table border=\"1\" class=\"dataframe\">\n",
       "  <thead>\n",
       "    <tr style=\"text-align: right;\">\n",
       "      <th></th>\n",
       "      <th>Composite</th>\n",
       "    </tr>\n",
       "  </thead>\n",
       "  <tbody>\n",
       "    <tr>\n",
       "      <th>count</th>\n",
       "      <td>52.000000</td>\n",
       "    </tr>\n",
       "    <tr>\n",
       "      <th>mean</th>\n",
       "      <td>21.544231</td>\n",
       "    </tr>\n",
       "    <tr>\n",
       "      <th>std</th>\n",
       "      <td>2.119417</td>\n",
       "    </tr>\n",
       "    <tr>\n",
       "      <th>min</th>\n",
       "      <td>17.700000</td>\n",
       "    </tr>\n",
       "    <tr>\n",
       "      <th>25%</th>\n",
       "      <td>19.975000</td>\n",
       "    </tr>\n",
       "    <tr>\n",
       "      <th>50%</th>\n",
       "      <td>21.300000</td>\n",
       "    </tr>\n",
       "    <tr>\n",
       "      <th>75%</th>\n",
       "      <td>23.725000</td>\n",
       "    </tr>\n",
       "    <tr>\n",
       "      <th>max</th>\n",
       "      <td>25.600000</td>\n",
       "    </tr>\n",
       "  </tbody>\n",
       "</table>\n",
       "</div>"
      ],
      "text/plain": [
       "       Composite\n",
       "count  52.000000\n",
       "mean   21.544231\n",
       "std     2.119417\n",
       "min    17.700000\n",
       "25%    19.975000\n",
       "50%    21.300000\n",
       "75%    23.725000\n",
       "max    25.600000"
      ]
     },
     "execution_count": 16,
     "metadata": {},
     "output_type": "execute_result"
    }
   ],
   "source": [
    "# checking the summary stats of data\n",
    "act_2018.describe()"
   ]
  },
  {
   "cell_type": "code",
   "execution_count": 17,
   "metadata": {},
   "outputs": [
    {
     "name": "stdout",
     "output_type": "stream",
     "text": [
      "<class 'pandas.core.frame.DataFrame'>\n",
      "RangeIndex: 52 entries, 0 to 51\n",
      "Data columns (total 3 columns):\n",
      " #   Column         Non-Null Count  Dtype  \n",
      "---  ------         --------------  -----  \n",
      " 0   State          52 non-null     object \n",
      " 1   Participation  52 non-null     object \n",
      " 2   Composite      52 non-null     float64\n",
      "dtypes: float64(1), object(2)\n",
      "memory usage: 1.3+ KB\n"
     ]
    }
   ],
   "source": [
    "# view data type\n",
    "act_2018.info()"
   ]
  },
  {
   "cell_type": "markdown",
   "metadata": {},
   "source": [
    "## Issues with the data sets:\n",
    "\n",
    "### Common issue:\n",
    "1) The values in column 'Participation' for all 4 data sets are `object` instead of `int` or `float`.\n",
    "\n",
    "### SAT 2017 and SAT 2018:\n",
    "\n",
    "1) While the data for sat_2017 seems complete, there is an error in the min value for math as it is too low at 52. After checking with the datasource, the math score of Maryland should be 524 instead of 52. \n",
    "\n",
    "2) There are no visible issues with the sat_2018 dataset\n",
    "\n",
    "### ACT 2017 and ACT 2018:\n",
    "\n",
    "1) There is a difference in the number of columns for act_2017 and act_2018. There seem to no have any data for the component scores for act_2018. \n",
    "\n",
    "2) The 'composite' column for act_2017 is in `object` instead of a `float`. After checking with the datasource, there is an addition 'x' on the Wyoming composite score.\n",
    "\n",
    "3) There is also an error with the min value of science for act_2017.\n",
    "\n",
    "4) There is a difference in name of 'District of Columbia in act_2017 compared to 'District of columbia' in act_2018 \n",
    "\n",
    "5) There should only be 51 entries as there are only 50 states plus District of Columbia. However, there are 52 entries for both act_2017 and act_2018. Upon checking, act_2017 has an extra 'National' data entry while act_2018 has a duplicate 'Maine' entry."
   ]
  },
  {
   "cell_type": "code",
   "execution_count": 18,
   "metadata": {},
   "outputs": [
    {
     "data": {
      "text/html": [
       "<div>\n",
       "<style scoped>\n",
       "    .dataframe tbody tr th:only-of-type {\n",
       "        vertical-align: middle;\n",
       "    }\n",
       "\n",
       "    .dataframe tbody tr th {\n",
       "        vertical-align: top;\n",
       "    }\n",
       "\n",
       "    .dataframe thead th {\n",
       "        text-align: right;\n",
       "    }\n",
       "</style>\n",
       "<table border=\"1\" class=\"dataframe\">\n",
       "  <thead>\n",
       "    <tr style=\"text-align: right;\">\n",
       "      <th></th>\n",
       "      <th>School</th>\n",
       "      <th>Test Optional?</th>\n",
       "      <th>Applies to Class Year(s)</th>\n",
       "      <th>Policy Details</th>\n",
       "      <th>Number of Applicants</th>\n",
       "      <th>Accept Rate</th>\n",
       "      <th>SAT Total 25th-75th Percentile</th>\n",
       "      <th>ACT Total 25th-75th Percentile</th>\n",
       "    </tr>\n",
       "  </thead>\n",
       "  <tbody>\n",
       "    <tr>\n",
       "      <th>0</th>\n",
       "      <td>Stanford University</td>\n",
       "      <td>Yes</td>\n",
       "      <td>2021</td>\n",
       "      <td>Stanford has adopted a one-year test optional ...</td>\n",
       "      <td>47452</td>\n",
       "      <td>4.3%</td>\n",
       "      <td>1440-1570</td>\n",
       "      <td>32-35</td>\n",
       "    </tr>\n",
       "    <tr>\n",
       "      <th>1</th>\n",
       "      <td>Harvard College</td>\n",
       "      <td>Yes</td>\n",
       "      <td>2021</td>\n",
       "      <td>Harvard has adopted a one-year test optional p...</td>\n",
       "      <td>42749</td>\n",
       "      <td>4.7%</td>\n",
       "      <td>1460-1580</td>\n",
       "      <td>33-35</td>\n",
       "    </tr>\n",
       "    <tr>\n",
       "      <th>2</th>\n",
       "      <td>Princeton University</td>\n",
       "      <td>Yes</td>\n",
       "      <td>2021</td>\n",
       "      <td>Princeton has adopted a one-year test optional...</td>\n",
       "      <td>35370</td>\n",
       "      <td>5.5%</td>\n",
       "      <td>1440-1570</td>\n",
       "      <td>32-35</td>\n",
       "    </tr>\n",
       "    <tr>\n",
       "      <th>3</th>\n",
       "      <td>Columbia University</td>\n",
       "      <td>Yes</td>\n",
       "      <td>2021</td>\n",
       "      <td>Columbia has adopted a one-year test optional ...</td>\n",
       "      <td>40203</td>\n",
       "      <td>5.5%</td>\n",
       "      <td>1450-1560</td>\n",
       "      <td>33-35</td>\n",
       "    </tr>\n",
       "    <tr>\n",
       "      <th>4</th>\n",
       "      <td>Yale University</td>\n",
       "      <td>Yes</td>\n",
       "      <td>2021</td>\n",
       "      <td>Yale has adopted a one-year test optional poli...</td>\n",
       "      <td>36844</td>\n",
       "      <td>6.1%</td>\n",
       "      <td>1460-1570</td>\n",
       "      <td>33-35</td>\n",
       "    </tr>\n",
       "  </tbody>\n",
       "</table>\n",
       "</div>"
      ],
      "text/plain": [
       "                 School Test Optional? Applies to Class Year(s)  \\\n",
       "0   Stanford University            Yes                     2021   \n",
       "1       Harvard College            Yes                     2021   \n",
       "2  Princeton University            Yes                     2021   \n",
       "3   Columbia University            Yes                     2021   \n",
       "4       Yale University            Yes                     2021   \n",
       "\n",
       "                                      Policy Details  Number of Applicants  \\\n",
       "0  Stanford has adopted a one-year test optional ...                 47452   \n",
       "1  Harvard has adopted a one-year test optional p...                 42749   \n",
       "2  Princeton has adopted a one-year test optional...                 35370   \n",
       "3  Columbia has adopted a one-year test optional ...                 40203   \n",
       "4  Yale has adopted a one-year test optional poli...                 36844   \n",
       "\n",
       "  Accept Rate SAT Total 25th-75th Percentile ACT Total 25th-75th Percentile  \n",
       "0        4.3%                      1440-1570                          32-35  \n",
       "1        4.7%                      1460-1580                          33-35  \n",
       "2        5.5%                      1440-1570                          32-35  \n",
       "3        5.5%                      1450-1560                          33-35  \n",
       "4        6.1%                      1460-1570                          33-35  "
      ]
     },
     "execution_count": 18,
     "metadata": {},
     "output_type": "execute_result"
    }
   ],
   "source": [
    "# Viewing first 5 rows of data\n",
    "sat_act_by_college.head()"
   ]
  },
  {
   "cell_type": "code",
   "execution_count": 19,
   "metadata": {},
   "outputs": [
    {
     "data": {
      "text/html": [
       "<div>\n",
       "<style scoped>\n",
       "    .dataframe tbody tr th:only-of-type {\n",
       "        vertical-align: middle;\n",
       "    }\n",
       "\n",
       "    .dataframe tbody tr th {\n",
       "        vertical-align: top;\n",
       "    }\n",
       "\n",
       "    .dataframe thead th {\n",
       "        text-align: right;\n",
       "    }\n",
       "</style>\n",
       "<table border=\"1\" class=\"dataframe\">\n",
       "  <thead>\n",
       "    <tr style=\"text-align: right;\">\n",
       "      <th></th>\n",
       "      <th>Number of Applicants</th>\n",
       "    </tr>\n",
       "  </thead>\n",
       "  <tbody>\n",
       "    <tr>\n",
       "      <th>count</th>\n",
       "      <td>416.000000</td>\n",
       "    </tr>\n",
       "    <tr>\n",
       "      <th>mean</th>\n",
       "      <td>17481.759615</td>\n",
       "    </tr>\n",
       "    <tr>\n",
       "      <th>std</th>\n",
       "      <td>17447.621897</td>\n",
       "    </tr>\n",
       "    <tr>\n",
       "      <th>min</th>\n",
       "      <td>211.000000</td>\n",
       "    </tr>\n",
       "    <tr>\n",
       "      <th>25%</th>\n",
       "      <td>5313.000000</td>\n",
       "    </tr>\n",
       "    <tr>\n",
       "      <th>50%</th>\n",
       "      <td>11622.000000</td>\n",
       "    </tr>\n",
       "    <tr>\n",
       "      <th>75%</th>\n",
       "      <td>23599.750000</td>\n",
       "    </tr>\n",
       "    <tr>\n",
       "      <th>max</th>\n",
       "      <td>111322.000000</td>\n",
       "    </tr>\n",
       "  </tbody>\n",
       "</table>\n",
       "</div>"
      ],
      "text/plain": [
       "       Number of Applicants\n",
       "count            416.000000\n",
       "mean           17481.759615\n",
       "std            17447.621897\n",
       "min              211.000000\n",
       "25%             5313.000000\n",
       "50%            11622.000000\n",
       "75%            23599.750000\n",
       "max           111322.000000"
      ]
     },
     "execution_count": 19,
     "metadata": {},
     "output_type": "execute_result"
    }
   ],
   "source": [
    "# checking the summary stats of data\n",
    "sat_act_by_college.describe()"
   ]
  },
  {
   "cell_type": "code",
   "execution_count": 20,
   "metadata": {},
   "outputs": [
    {
     "name": "stdout",
     "output_type": "stream",
     "text": [
      "<class 'pandas.core.frame.DataFrame'>\n",
      "RangeIndex: 416 entries, 0 to 415\n",
      "Data columns (total 8 columns):\n",
      " #   Column                          Non-Null Count  Dtype \n",
      "---  ------                          --------------  ----- \n",
      " 0   School                          416 non-null    object\n",
      " 1   Test Optional?                  416 non-null    object\n",
      " 2   Applies to Class Year(s)        390 non-null    object\n",
      " 3   Policy Details                  416 non-null    object\n",
      " 4   Number of Applicants            416 non-null    int64 \n",
      " 5   Accept Rate                     416 non-null    object\n",
      " 6   SAT Total 25th-75th Percentile  416 non-null    object\n",
      " 7   ACT Total 25th-75th Percentile  416 non-null    object\n",
      "dtypes: int64(1), object(7)\n",
      "memory usage: 26.1+ KB\n"
     ]
    }
   ],
   "source": [
    "# view data type\n",
    "sat_act_by_college.info()"
   ]
  },
  {
   "cell_type": "markdown",
   "metadata": {},
   "source": [
    "## Issues with the sat_act_by_college data set:\n",
    "\n",
    "1) There are some redundant columns which are not useful to this project's analysis.\n",
    "\n",
    "2) This project seeks to find the score which is accepted into the various colleges. Hence, there is a need to separate the 25th - 75th percentile of the scores and change the data type to a `float`."
   ]
  },
  {
   "cell_type": "code",
   "execution_count": 21,
   "metadata": {},
   "outputs": [
    {
     "data": {
      "text/html": [
       "<div>\n",
       "<style scoped>\n",
       "    .dataframe tbody tr th:only-of-type {\n",
       "        vertical-align: middle;\n",
       "    }\n",
       "\n",
       "    .dataframe tbody tr th {\n",
       "        vertical-align: top;\n",
       "    }\n",
       "\n",
       "    .dataframe thead th {\n",
       "        text-align: right;\n",
       "    }\n",
       "</style>\n",
       "<table border=\"1\" class=\"dataframe\">\n",
       "  <thead>\n",
       "    <tr style=\"text-align: right;\">\n",
       "      <th></th>\n",
       "      <th>US GDP and unemployment</th>\n",
       "      <th>Number of Students Tested</th>\n",
       "      <th>Composite Average ACT Scores</th>\n",
       "    </tr>\n",
       "  </thead>\n",
       "  <tbody>\n",
       "    <tr>\n",
       "      <th>0</th>\n",
       "      <td>2012</td>\n",
       "      <td>1,666,017</td>\n",
       "      <td>21.1</td>\n",
       "    </tr>\n",
       "    <tr>\n",
       "      <th>1</th>\n",
       "      <td>2013</td>\n",
       "      <td>1,799,243</td>\n",
       "      <td>20.9</td>\n",
       "    </tr>\n",
       "    <tr>\n",
       "      <th>2</th>\n",
       "      <td>2014</td>\n",
       "      <td>1,845,787</td>\n",
       "      <td>21.0</td>\n",
       "    </tr>\n",
       "    <tr>\n",
       "      <th>3</th>\n",
       "      <td>2015</td>\n",
       "      <td>1,924,436</td>\n",
       "      <td>21.0</td>\n",
       "    </tr>\n",
       "    <tr>\n",
       "      <th>4</th>\n",
       "      <td>2016</td>\n",
       "      <td>2,090,342</td>\n",
       "      <td>20.8</td>\n",
       "    </tr>\n",
       "  </tbody>\n",
       "</table>\n",
       "</div>"
      ],
      "text/plain": [
       "   US GDP and unemployment Number of Students Tested  \\\n",
       "0                     2012                 1,666,017   \n",
       "1                     2013                 1,799,243   \n",
       "2                     2014                 1,845,787   \n",
       "3                     2015                 1,924,436   \n",
       "4                     2016                 2,090,342   \n",
       "\n",
       "   Composite Average ACT Scores  \n",
       "0                          21.1  \n",
       "1                          20.9  \n",
       "2                          21.0  \n",
       "3                          21.0  \n",
       "4                          20.8  "
      ]
     },
     "execution_count": 21,
     "metadata": {},
     "output_type": "execute_result"
    }
   ],
   "source": [
    "# Viewing first 5 rows of data\n",
    "act_overall_participation.head()"
   ]
  },
  {
   "cell_type": "code",
   "execution_count": 22,
   "metadata": {},
   "outputs": [
    {
     "data": {
      "text/html": [
       "<div>\n",
       "<style scoped>\n",
       "    .dataframe tbody tr th:only-of-type {\n",
       "        vertical-align: middle;\n",
       "    }\n",
       "\n",
       "    .dataframe tbody tr th {\n",
       "        vertical-align: top;\n",
       "    }\n",
       "\n",
       "    .dataframe thead th {\n",
       "        text-align: right;\n",
       "    }\n",
       "</style>\n",
       "<table border=\"1\" class=\"dataframe\">\n",
       "  <thead>\n",
       "    <tr style=\"text-align: right;\">\n",
       "      <th></th>\n",
       "      <th>US GDP and unemployment</th>\n",
       "      <th>Composite Average ACT Scores</th>\n",
       "    </tr>\n",
       "  </thead>\n",
       "  <tbody>\n",
       "    <tr>\n",
       "      <th>count</th>\n",
       "      <td>7.000000</td>\n",
       "      <td>7.000000</td>\n",
       "    </tr>\n",
       "    <tr>\n",
       "      <th>mean</th>\n",
       "      <td>2015.000000</td>\n",
       "      <td>20.942857</td>\n",
       "    </tr>\n",
       "    <tr>\n",
       "      <th>std</th>\n",
       "      <td>2.160247</td>\n",
       "      <td>0.113389</td>\n",
       "    </tr>\n",
       "    <tr>\n",
       "      <th>min</th>\n",
       "      <td>2012.000000</td>\n",
       "      <td>20.800000</td>\n",
       "    </tr>\n",
       "    <tr>\n",
       "      <th>25%</th>\n",
       "      <td>2013.500000</td>\n",
       "      <td>20.850000</td>\n",
       "    </tr>\n",
       "    <tr>\n",
       "      <th>50%</th>\n",
       "      <td>2015.000000</td>\n",
       "      <td>21.000000</td>\n",
       "    </tr>\n",
       "    <tr>\n",
       "      <th>75%</th>\n",
       "      <td>2016.500000</td>\n",
       "      <td>21.000000</td>\n",
       "    </tr>\n",
       "    <tr>\n",
       "      <th>max</th>\n",
       "      <td>2018.000000</td>\n",
       "      <td>21.100000</td>\n",
       "    </tr>\n",
       "  </tbody>\n",
       "</table>\n",
       "</div>"
      ],
      "text/plain": [
       "       US GDP and unemployment  Composite Average ACT Scores\n",
       "count                 7.000000                      7.000000\n",
       "mean               2015.000000                     20.942857\n",
       "std                   2.160247                      0.113389\n",
       "min                2012.000000                     20.800000\n",
       "25%                2013.500000                     20.850000\n",
       "50%                2015.000000                     21.000000\n",
       "75%                2016.500000                     21.000000\n",
       "max                2018.000000                     21.100000"
      ]
     },
     "execution_count": 22,
     "metadata": {},
     "output_type": "execute_result"
    }
   ],
   "source": [
    "# checking the summary stats of data\n",
    "act_overall_participation.describe()"
   ]
  },
  {
   "cell_type": "code",
   "execution_count": 23,
   "metadata": {},
   "outputs": [
    {
     "name": "stdout",
     "output_type": "stream",
     "text": [
      "<class 'pandas.core.frame.DataFrame'>\n",
      "RangeIndex: 7 entries, 0 to 6\n",
      "Data columns (total 3 columns):\n",
      " #   Column                        Non-Null Count  Dtype  \n",
      "---  ------                        --------------  -----  \n",
      " 0   US GDP and unemployment       7 non-null      int64  \n",
      " 1   Number of Students Tested     7 non-null      object \n",
      " 2   Composite Average ACT Scores  7 non-null      float64\n",
      "dtypes: float64(1), int64(1), object(1)\n",
      "memory usage: 296.0+ bytes\n"
     ]
    }
   ],
   "source": [
    "# view data type\n",
    "act_overall_participation.info()"
   ]
  },
  {
   "cell_type": "markdown",
   "metadata": {},
   "source": [
    "## Issues with the act_overall_participation data set:\n",
    "\n",
    "1) The column 'US GDP and unemployment' seems to be an error, the column name should be 'year'\n",
    "\n",
    "2) The years in interest to compare with the other data sets are only 2017, 2018.\n",
    "\n",
    "3) The column 'Number of Students Tested' should have values of `int` or `float` instead of `object`."
   ]
  },
  {
   "cell_type": "code",
   "execution_count": 24,
   "metadata": {},
   "outputs": [],
   "source": [
    "# to create new dataframe of SAT takers based on data from (https://reports.collegeboard.org/archive/sat-suite-program-results/2018/class-2018-results https://www.nacacnet.org/news--publications/publications/state-of-college-admission/)\n",
    "sat_test_takers = {'year': [2017, 2018], 'test takers': [1715481, 2136539], 'type': ['SAT', 'SAT']}\n",
    "sat_overall_participation = pd.DataFrame(sat_test_takers)"
   ]
  },
  {
   "cell_type": "code",
   "execution_count": 25,
   "metadata": {},
   "outputs": [],
   "source": [
    "# to add ACT in type\n",
    "act_overall_participation['type'] = 'ACT'"
   ]
  },
  {
   "cell_type": "markdown",
   "metadata": {},
   "source": [
    "# Cleaning data sets"
   ]
  },
  {
   "cell_type": "markdown",
   "metadata": {},
   "source": [
    "Lowercase-ing the columns of all data sets:"
   ]
  },
  {
   "cell_type": "code",
   "execution_count": 26,
   "metadata": {},
   "outputs": [],
   "source": [
    "# to ensure no KeyError due to capital letters, all column names will be made to lowercase.\n",
    "data_sets = [sat_act_by_college, sat_2018, sat_2017, sat_overall_participation, act_2017, act_2018, act_overall_participation]\n",
    "\n",
    "for data_set in range(len(data_sets)):\n",
    "    data_sets[data_set].columns = data_sets[data_set].columns.str.lower()"
   ]
  },
  {
   "cell_type": "markdown",
   "metadata": {},
   "source": [
    "Replacing all wrong values in the data sets:"
   ]
  },
  {
   "cell_type": "code",
   "execution_count": 27,
   "metadata": {},
   "outputs": [],
   "source": [
    "# to replace wrong value of math for Maryland in sat_2017\n",
    "sat_2017.loc[20:20, 'math'] = int(524)\n",
    "\n",
    "# to replace the value of 20.2x from Wyoming in act_2017\n",
    "act_2017.loc[51:51,'composite'] = float(20.2)\n",
    "\n",
    "# to convert the value to float instead of object\n",
    "act_2017['composite'] = act_2017['composite'].astype(float)\n",
    "\n",
    "# to rename 'District of Columbia' to match act_2017\n",
    "act_2018.loc[8:8,'state'] = 'District of Columbia'"
   ]
  },
  {
   "cell_type": "markdown",
   "metadata": {},
   "source": [
    "Dropping any unwanted rows and columns:"
   ]
  },
  {
   "cell_type": "code",
   "execution_count": 28,
   "metadata": {},
   "outputs": [],
   "source": [
    "# Remove the 'National' data entry\n",
    "act_2017.drop(0, axis=0, inplace=True)\n",
    "\n",
    "# Remove the duplicated 'Maine' data entry\n",
    "act_2018.drop(19, axis=0, inplace=True)\n",
    "\n",
    "# Removing the additional columns to match act_2018\n",
    "act_extra_columns = ['english', 'math', 'reading', 'science']\n",
    "act_2017.drop(act_extra_columns, axis=1, inplace=True)\n",
    "\n",
    "# Removing unwanted columns \n",
    "sat_act_by_college.drop('applies to class year(s)', axis=1, inplace=True)\n",
    "sat_act_by_college.drop('policy details', axis=1, inplace=True)\n",
    "sat_act_by_college.drop('test optional?', axis=1, inplace=True)"
   ]
  },
  {
   "cell_type": "markdown",
   "metadata": {},
   "source": [
    "Separating ACT and SAT 25th - 75th percentile to separate columns"
   ]
  },
  {
   "cell_type": "code",
   "execution_count": 29,
   "metadata": {},
   "outputs": [],
   "source": [
    "# rename 25th-75th percentile to 25th percentile\n",
    "sat_act_by_college.rename(columns = {\n",
    "    'sat total 25th-75th percentile': 'sat 25th percentile',\n",
    "    'act total 25th-75th percentile': 'act 25th percentile'\n",
    "}, inplace=True)\n",
    "\n",
    "# create a list to make 2 extra columns\n",
    "sat_act_college1 = ['act 25th percentile', 'act 75th percentile']\n",
    "sat_act_college2 = ['sat 25th percentile', 'sat 75th percentile']\n",
    "\n",
    "# Split the columns by str '-' into the 4 different columns\n",
    "sat_act_by_college[sat_act_college1] = sat_act_by_college['act 25th percentile'].str.split('-', 1,expand=True)\n",
    "sat_act_by_college[sat_act_college2] = sat_act_by_college['sat 25th percentile'].str.split('-', 1,expand=True)"
   ]
  },
  {
   "cell_type": "code",
   "execution_count": 30,
   "metadata": {},
   "outputs": [],
   "source": [
    "# character '\\u200b' was detected which caused the data to be a object instead and was unable to remove.\n",
    "# Hence, replacing the str '\\u200b' with '' instead.\n",
    "sat_act_by_college['act 25th percentile'] = sat_act_by_college['act 25th percentile'].str.replace('\\u200b', '')\n",
    "sat_act_by_college['sat 25th percentile'] = sat_act_by_college['sat 25th percentile'].str.replace('\\u200b', '')"
   ]
  },
  {
   "cell_type": "code",
   "execution_count": 31,
   "metadata": {},
   "outputs": [],
   "source": [
    "# to convert the columns to float, replace '' with np.nan\n",
    "sat_act_by_college['act 25th percentile'] = sat_act_by_college['act 25th percentile'].replace('', np.nan)\n",
    "sat_act_by_college['sat 25th percentile'] = sat_act_by_college['sat 25th percentile'].replace('', np.nan)\n",
    "\n",
    "# to replace any missing values with np.nan\n",
    "sat_act_by_college['act 75th percentile'] = sat_act_by_college['act 75th percentile'].replace('-', np.nan)\n",
    "sat_act_by_college['sat 75th percentile'] = sat_act_by_college['sat 75th percentile'].replace('-', np.nan)\n",
    "\n",
    "# to covert the 25th percentile columns to float.\n",
    "sat_act_by_college[sat_act_college1] = sat_act_by_college[sat_act_college1].astype(float)\n",
    "sat_act_by_college[sat_act_college2] = sat_act_by_college[sat_act_college2].astype(float)"
   ]
  },
  {
   "cell_type": "code",
   "execution_count": 32,
   "metadata": {},
   "outputs": [],
   "source": [
    "# Reordering the columns such that SAT and ACT 25th and 75th percentile are side by side respectively\n",
    "sat_act_by_college = sat_act_by_college.loc[:, [\n",
    "    'school',\n",
    "    'number of applicants',\n",
    "    'accept rate',\n",
    "    'sat 25th percentile',\n",
    "    'sat 75th percentile', \n",
    "    'act 25th percentile', \n",
    "    'act 75th percentile'\n",
    "]]"
   ]
  },
  {
   "cell_type": "markdown",
   "metadata": {},
   "source": [
    "Renaming columns"
   ]
  },
  {
   "cell_type": "code",
   "execution_count": 33,
   "metadata": {},
   "outputs": [],
   "source": [
    "sat_rename_participation = [sat_2017, sat_2018]\n",
    "\n",
    "for lst in range(len(sat_rename_participation)):\n",
    "    sat_rename_participation[lst].rename(columns =  {\n",
    "    'participation rate': 'participation',\n",
    "    'evidence-based reading and writing': 'ebrw'\n",
    "}, inplace=True)"
   ]
  },
  {
   "cell_type": "code",
   "execution_count": 34,
   "metadata": {},
   "outputs": [],
   "source": [
    "# rename the wrong columns\n",
    "act_overall_participation.rename(columns = {\n",
    "    'us gdp and unemployment': 'year',\n",
    "    'number of students tested': 'test takers'\n",
    "}, inplace=True)"
   ]
  },
  {
   "cell_type": "code",
   "execution_count": 35,
   "metadata": {},
   "outputs": [],
   "source": [
    "# replace all ',' and convert values to float\n",
    "act_overall_participation['test takers'] = act_overall_participation['test takers'].str.replace(',', '').astype(int)"
   ]
  },
  {
   "cell_type": "markdown",
   "metadata": {},
   "source": [
    "Using the str_to_percent function to convert all participation objects to float."
   ]
  },
  {
   "cell_type": "code",
   "execution_count": 36,
   "metadata": {},
   "outputs": [],
   "source": [
    "sat_act_participation_str_to_percent = [sat_2017, sat_2018, act_2017, act_2018]\n",
    "\n",
    "for index in range(len(sat_act_participation_str_to_percent)):\n",
    "    sat_act_participation_str_to_percent[index]['participation'] = sat_act_participation_str_to_percent[index]['participation'].map(str_to_percent)"
   ]
  },
  {
   "cell_type": "code",
   "execution_count": 37,
   "metadata": {},
   "outputs": [],
   "source": [
    "# reset the index for all data sets due to droping of the rows\n",
    "for data_set in data_sets:\n",
    "    data_set.reset_index(drop=True, inplace=True)"
   ]
  },
  {
   "cell_type": "code",
   "execution_count": 38,
   "metadata": {},
   "outputs": [],
   "source": [
    "# to merge act_2017 and act_2018\n",
    "act_1718 = pd.merge(\n",
    "    left=act_2017,\n",
    "    right=act_2018,\n",
    "    on='state',\n",
    "    suffixes=['_2017','_2018']\n",
    ")"
   ]
  },
  {
   "cell_type": "code",
   "execution_count": 39,
   "metadata": {},
   "outputs": [],
   "source": [
    "# to merge sat_2017 and sat_2018\n",
    "sat_1718 = pd.merge(\n",
    "    left=sat_2017,\n",
    "    right=sat_2018,\n",
    "    on='state',\n",
    "    suffixes=['_2017', '_2018']\n",
    ")\n"
   ]
  },
  {
   "cell_type": "code",
   "execution_count": 40,
   "metadata": {},
   "outputs": [],
   "source": [
    "# to merge sat_1718 and act_1718\n",
    "sat_act_1718 = pd.merge(\n",
    "    left=sat_1718,\n",
    "    right=act_1718,\n",
    "    on='state',\n",
    "    suffixes=['_sat', '_act']\n",
    ")"
   ]
  },
  {
   "cell_type": "code",
   "execution_count": 41,
   "metadata": {},
   "outputs": [],
   "source": [
    "# to concat sat_overall_participation and act_overall_participation\n",
    "total_overall_participation = pd.concat(objs = [sat_overall_participation, act_overall_participation])"
   ]
  },
  {
   "cell_type": "code",
   "execution_count": 42,
   "metadata": {},
   "outputs": [],
   "source": [
    "# reset index after concatenation\n",
    "total_overall_participation.reset_index(drop=True, inplace=True)"
   ]
  },
  {
   "cell_type": "code",
   "execution_count": 43,
   "metadata": {},
   "outputs": [],
   "source": [
    "# create a mask for rows with value year 2017 and 2018.\n",
    "indexrow = total_overall_participation[(total_overall_participation['year'] != 2017) & (total_overall_participation['year'] != 2018)].index"
   ]
  },
  {
   "cell_type": "code",
   "execution_count": 44,
   "metadata": {},
   "outputs": [],
   "source": [
    "# drop rows for the unwanted rows.\n",
    "total_overall_participation.drop(indexrow, inplace=True)"
   ]
  },
  {
   "cell_type": "code",
   "execution_count": 45,
   "metadata": {},
   "outputs": [
    {
     "data": {
      "text/html": [
       "<div>\n",
       "<style scoped>\n",
       "    .dataframe tbody tr th:only-of-type {\n",
       "        vertical-align: middle;\n",
       "    }\n",
       "\n",
       "    .dataframe tbody tr th {\n",
       "        vertical-align: top;\n",
       "    }\n",
       "\n",
       "    .dataframe thead th {\n",
       "        text-align: right;\n",
       "    }\n",
       "</style>\n",
       "<table border=\"1\" class=\"dataframe\">\n",
       "  <thead>\n",
       "    <tr style=\"text-align: right;\">\n",
       "      <th></th>\n",
       "      <th>year</th>\n",
       "      <th>test takers</th>\n",
       "      <th>type</th>\n",
       "      <th>composite average act scores</th>\n",
       "    </tr>\n",
       "  </thead>\n",
       "  <tbody>\n",
       "    <tr>\n",
       "      <th>0</th>\n",
       "      <td>2017</td>\n",
       "      <td>1715481</td>\n",
       "      <td>SAT</td>\n",
       "      <td>NaN</td>\n",
       "    </tr>\n",
       "    <tr>\n",
       "      <th>1</th>\n",
       "      <td>2018</td>\n",
       "      <td>2136539</td>\n",
       "      <td>SAT</td>\n",
       "      <td>NaN</td>\n",
       "    </tr>\n",
       "    <tr>\n",
       "      <th>7</th>\n",
       "      <td>2017</td>\n",
       "      <td>2030038</td>\n",
       "      <td>ACT</td>\n",
       "      <td>21.0</td>\n",
       "    </tr>\n",
       "    <tr>\n",
       "      <th>8</th>\n",
       "      <td>2018</td>\n",
       "      <td>1914817</td>\n",
       "      <td>ACT</td>\n",
       "      <td>20.8</td>\n",
       "    </tr>\n",
       "  </tbody>\n",
       "</table>\n",
       "</div>"
      ],
      "text/plain": [
       "   year  test takers type  composite average act scores\n",
       "0  2017      1715481  SAT                           NaN\n",
       "1  2018      2136539  SAT                           NaN\n",
       "7  2017      2030038  ACT                          21.0\n",
       "8  2018      1914817  ACT                          20.8"
      ]
     },
     "execution_count": 45,
     "metadata": {},
     "output_type": "execute_result"
    }
   ],
   "source": [
    "total_overall_participation"
   ]
  },
  {
   "cell_type": "markdown",
   "metadata": {},
   "source": [
    "### Data Dictionary\n",
    "\n",
    "Now that we've fixed our data, and given it appropriate names, let's create a [data dictionary](http://library.ucmerced.edu/node/10249). \n",
    "\n",
    "A data dictionary provides a quick overview of features/variables/columns, alongside data types and descriptions. The more descriptive you can be, the more useful this document is.\n",
    "\n",
    "Example of a Fictional Data Dictionary Entry: \n",
    "\n",
    "|Feature|Type|Dataset|Description|\n",
    "|---|---|---|---|\n",
    "|**county_pop**|*integer*|2010 census|The population of the county (units in thousands, where 2.5 represents 2500 people).| \n",
    "|**per_poverty**|*float*|2010 census|The percent of the county over the age of 18 living below the 200% of official US poverty rate (units percent to two decimal places 98.10 means 98.1%)|\n",
    "\n",
    "[Here's a quick link to a short guide for formatting markdown in Jupyter notebooks](https://jupyter-notebook.readthedocs.io/en/stable/examples/Notebook/Working%20With%20Markdown%20Cells.html).\n",
    "\n",
    "Provided is the skeleton for formatting a markdown table, with columns headers that will help you create a data dictionary to quickly summarize your data, as well as some examples. **This would be a great thing to copy and paste into your custom README for this project.**\n",
    "\n",
    "*Note*: if you are unsure of what a feature is, check the source of the data! This can be found in the README."
   ]
  },
  {
   "cell_type": "markdown",
   "metadata": {},
   "source": [
    "|Feature|Type|Dataset|Description|\n",
    "|---|---|---|---|\n",
    "|**state**|*object*|sat_2017, sat_2018, sat_2019, act_2017, act_2018| The name of the state of interest|\n",
    "|**participation**|*float*|sat_2017, sat_2018, sat_2019, act_2017, act_2018| The percent of graduating high school students who took the exam (act/sat respectively)( units percent to two decimal places, 0.38 means 38% )\n",
    "|**ebrw**|*interger*|sat_2017, sat_2018, sat_2019, sat_2019_by_major| The average score of Evidence-Based Reading and Writing (ebrw) in sat for the state|\n",
    "|**math**|*interger*|sat_2017, sat_2018, sat_2019, sat_2019_by_major| The average score of Math in sat for the state|\n",
    "|**total**|*integer*|sat_2017, sat_2018, sat_2019, sat_2019_by_major| The average combined score of ebrw and math in sat for the state|\n",
    "|**composite**|*integer*|act_2017, act_2018| The average combined score in act for the state|\n",
    "|**school**|*object*|sat_act_by_college| The name of the school of interest|\n",
    "|**number of applicants**|*integer*|sat_act_by_college| The total number of applicants to the school for both act and sat|\n",
    "|**accept rate**|*float*|sat_act_by_college| The percent of accepted students out of the number of applicants ( units percent to two decimal places, 0.38 means 38% )\n",
    "|**sat 25th percentile**|*float*|sat_act_by_college| The combined sat score for the 25th percentile of students who were accepted based on sat.|\n",
    "|**sat 75th percentile**|*float*|sat_act_by_college| The combined sat score for the 75th percentile of students who were accepted based on sat.|\n",
    "|**act 25th percentile**|*float*|sat_act_by_college| The combined act score for the 25th percentile of students who were accepted based on act.|\n",
    "|**act 75th percentile**|*float*|sat_act_by_college| The combined act score for the 75th percentile of students who were accepted based on act.|\n",
    "|**type**|*object*|total_overall_participation| The type of test taken (SAT or ACTs)|\n",
    "|**test takers**|*integer*|total_overall_participation| The number of high school students who had taken SATs or ACTs|\n",
    "\n"
   ]
  },
  {
   "cell_type": "markdown",
   "metadata": {},
   "source": [
    "## Exploratory Data Analysis\n",
    "\n",
    "Complete the following steps to explore your data. You are welcome to do more EDA than the steps outlined here as you feel necessary:\n",
    "1. Summary Statistics.\n",
    "2. Use a **dictionary comprehension** to apply the standard deviation function you create in part 1 to each numeric column in the dataframe.  **No loops**.\n",
    "    - Assign the output to variable `sd` as a dictionary where: \n",
    "        - Each column name is now a key \n",
    "        - That standard deviation of the column is the value \n",
    "        - *Example Output :* `{'ACT_Math': 120, 'ACT_Reading': 120, ...}`\n",
    "3. Investigate trends in the data.\n",
    "    - Using sorting and/or masking (along with the `.head()` method to avoid printing our entire dataframe), consider questions relevant to your problem statement. Some examples are provided below (but feel free to change these questions for your specific problem):\n",
    "        - Which states have the highest and lowest participation rates for the 2017, 2019, or 2019 SAT and ACT?\n",
    "        - Which states have the highest and lowest mean total/composite scores for the 2017, 2019, or 2019 SAT and ACT?\n",
    "        - Do any states with 100% participation on a given test have a rate change year-to-year?\n",
    "        - Do any states show have >50% participation on *both* tests each year?\n",
    "        - Which colleges have the highest median SAT and ACT scores for admittance?\n",
    "        - Which California school districts have the highest and lowest mean test scores?\n",
    "    - **You should comment on your findings at each step in a markdown cell below your code block**. Make sure you include at least one example of sorting your dataframe by a column, and one example of using boolean filtering (i.e., masking) to select a subset of the dataframe."
   ]
  },
  {
   "cell_type": "markdown",
   "metadata": {},
   "source": [
    "## Summary Statistics:"
   ]
  },
  {
   "cell_type": "code",
   "execution_count": 46,
   "metadata": {},
   "outputs": [
    {
     "data": {
      "text/html": [
       "<div>\n",
       "<style scoped>\n",
       "    .dataframe tbody tr th:only-of-type {\n",
       "        vertical-align: middle;\n",
       "    }\n",
       "\n",
       "    .dataframe tbody tr th {\n",
       "        vertical-align: top;\n",
       "    }\n",
       "\n",
       "    .dataframe thead th {\n",
       "        text-align: right;\n",
       "    }\n",
       "</style>\n",
       "<table border=\"1\" class=\"dataframe\">\n",
       "  <thead>\n",
       "    <tr style=\"text-align: right;\">\n",
       "      <th></th>\n",
       "      <th>count</th>\n",
       "      <th>mean</th>\n",
       "      <th>std</th>\n",
       "      <th>min</th>\n",
       "      <th>25%</th>\n",
       "      <th>50%</th>\n",
       "      <th>75%</th>\n",
       "      <th>max</th>\n",
       "    </tr>\n",
       "  </thead>\n",
       "  <tbody>\n",
       "    <tr>\n",
       "      <th>participation_2017_sat</th>\n",
       "      <td>51.0</td>\n",
       "      <td>0.398039</td>\n",
       "      <td>0.352766</td>\n",
       "      <td>0.02</td>\n",
       "      <td>0.040</td>\n",
       "      <td>0.38</td>\n",
       "      <td>0.660</td>\n",
       "      <td>1.0</td>\n",
       "    </tr>\n",
       "    <tr>\n",
       "      <th>ebrw_2017</th>\n",
       "      <td>51.0</td>\n",
       "      <td>569.117647</td>\n",
       "      <td>45.666901</td>\n",
       "      <td>482.00</td>\n",
       "      <td>533.500</td>\n",
       "      <td>559.00</td>\n",
       "      <td>613.000</td>\n",
       "      <td>644.0</td>\n",
       "    </tr>\n",
       "    <tr>\n",
       "      <th>math_2017</th>\n",
       "      <td>51.0</td>\n",
       "      <td>556.882353</td>\n",
       "      <td>47.121395</td>\n",
       "      <td>468.00</td>\n",
       "      <td>523.500</td>\n",
       "      <td>548.00</td>\n",
       "      <td>599.000</td>\n",
       "      <td>651.0</td>\n",
       "    </tr>\n",
       "    <tr>\n",
       "      <th>total_2017</th>\n",
       "      <td>51.0</td>\n",
       "      <td>1126.098039</td>\n",
       "      <td>92.494812</td>\n",
       "      <td>950.00</td>\n",
       "      <td>1055.500</td>\n",
       "      <td>1107.00</td>\n",
       "      <td>1212.000</td>\n",
       "      <td>1295.0</td>\n",
       "    </tr>\n",
       "    <tr>\n",
       "      <th>participation_2018_sat</th>\n",
       "      <td>51.0</td>\n",
       "      <td>0.457451</td>\n",
       "      <td>0.373143</td>\n",
       "      <td>0.02</td>\n",
       "      <td>0.045</td>\n",
       "      <td>0.52</td>\n",
       "      <td>0.775</td>\n",
       "      <td>1.0</td>\n",
       "    </tr>\n",
       "    <tr>\n",
       "      <th>ebrw_2018</th>\n",
       "      <td>51.0</td>\n",
       "      <td>563.686275</td>\n",
       "      <td>47.502627</td>\n",
       "      <td>480.00</td>\n",
       "      <td>534.500</td>\n",
       "      <td>552.00</td>\n",
       "      <td>610.500</td>\n",
       "      <td>643.0</td>\n",
       "    </tr>\n",
       "    <tr>\n",
       "      <th>math_2018</th>\n",
       "      <td>51.0</td>\n",
       "      <td>556.235294</td>\n",
       "      <td>47.772623</td>\n",
       "      <td>480.00</td>\n",
       "      <td>522.500</td>\n",
       "      <td>544.00</td>\n",
       "      <td>593.500</td>\n",
       "      <td>655.0</td>\n",
       "    </tr>\n",
       "    <tr>\n",
       "      <th>total_2018</th>\n",
       "      <td>51.0</td>\n",
       "      <td>1120.019608</td>\n",
       "      <td>94.155083</td>\n",
       "      <td>977.00</td>\n",
       "      <td>1057.500</td>\n",
       "      <td>1098.00</td>\n",
       "      <td>1204.000</td>\n",
       "      <td>1298.0</td>\n",
       "    </tr>\n",
       "    <tr>\n",
       "      <th>participation_2017_act</th>\n",
       "      <td>51.0</td>\n",
       "      <td>0.652549</td>\n",
       "      <td>0.321408</td>\n",
       "      <td>0.08</td>\n",
       "      <td>0.310</td>\n",
       "      <td>0.69</td>\n",
       "      <td>1.000</td>\n",
       "      <td>1.0</td>\n",
       "    </tr>\n",
       "    <tr>\n",
       "      <th>composite_2017</th>\n",
       "      <td>51.0</td>\n",
       "      <td>21.519608</td>\n",
       "      <td>2.020695</td>\n",
       "      <td>17.80</td>\n",
       "      <td>19.800</td>\n",
       "      <td>21.40</td>\n",
       "      <td>23.600</td>\n",
       "      <td>25.5</td>\n",
       "    </tr>\n",
       "    <tr>\n",
       "      <th>participation_2018_act</th>\n",
       "      <td>51.0</td>\n",
       "      <td>0.617255</td>\n",
       "      <td>0.340371</td>\n",
       "      <td>0.07</td>\n",
       "      <td>0.285</td>\n",
       "      <td>0.66</td>\n",
       "      <td>1.000</td>\n",
       "      <td>1.0</td>\n",
       "    </tr>\n",
       "    <tr>\n",
       "      <th>composite_2018</th>\n",
       "      <td>51.0</td>\n",
       "      <td>21.496078</td>\n",
       "      <td>2.111583</td>\n",
       "      <td>17.70</td>\n",
       "      <td>19.950</td>\n",
       "      <td>21.30</td>\n",
       "      <td>23.650</td>\n",
       "      <td>25.6</td>\n",
       "    </tr>\n",
       "  </tbody>\n",
       "</table>\n",
       "</div>"
      ],
      "text/plain": [
       "                        count         mean        std     min       25%  \\\n",
       "participation_2017_sat   51.0     0.398039   0.352766    0.02     0.040   \n",
       "ebrw_2017                51.0   569.117647  45.666901  482.00   533.500   \n",
       "math_2017                51.0   556.882353  47.121395  468.00   523.500   \n",
       "total_2017               51.0  1126.098039  92.494812  950.00  1055.500   \n",
       "participation_2018_sat   51.0     0.457451   0.373143    0.02     0.045   \n",
       "ebrw_2018                51.0   563.686275  47.502627  480.00   534.500   \n",
       "math_2018                51.0   556.235294  47.772623  480.00   522.500   \n",
       "total_2018               51.0  1120.019608  94.155083  977.00  1057.500   \n",
       "participation_2017_act   51.0     0.652549   0.321408    0.08     0.310   \n",
       "composite_2017           51.0    21.519608   2.020695   17.80    19.800   \n",
       "participation_2018_act   51.0     0.617255   0.340371    0.07     0.285   \n",
       "composite_2018           51.0    21.496078   2.111583   17.70    19.950   \n",
       "\n",
       "                            50%       75%     max  \n",
       "participation_2017_sat     0.38     0.660     1.0  \n",
       "ebrw_2017                559.00   613.000   644.0  \n",
       "math_2017                548.00   599.000   651.0  \n",
       "total_2017              1107.00  1212.000  1295.0  \n",
       "participation_2018_sat     0.52     0.775     1.0  \n",
       "ebrw_2018                552.00   610.500   643.0  \n",
       "math_2018                544.00   593.500   655.0  \n",
       "total_2018              1098.00  1204.000  1298.0  \n",
       "participation_2017_act     0.69     1.000     1.0  \n",
       "composite_2017            21.40    23.600    25.5  \n",
       "participation_2018_act     0.66     1.000     1.0  \n",
       "composite_2018            21.30    23.650    25.6  "
      ]
     },
     "execution_count": 46,
     "metadata": {},
     "output_type": "execute_result"
    }
   ],
   "source": [
    "sat_act_1718.describe().T"
   ]
  },
  {
   "cell_type": "markdown",
   "metadata": {},
   "source": [
    "**SAT 2017**\n",
    "1) Participation had a mean of 39.8% with std of 35.3%. The min participation rate was 2% while the max participation rate was 100%.\n",
    "   \n",
    "2) Total SAT score had a mean of 1126.1 with std of 92.5. The min score is 950 and max score is 1295.\n",
    "\n",
    "**SAT 2018**\n",
    "1) Participation had a mean of 45.8% with std of 37.3%. The min participation rate was 2% while the max participation rate was 100%.\n",
    "\n",
    "2) Total SAT score had a mean of 1120 with std of 94.2. The min score is 977 and max score is 1298.\n",
    "\n",
    "**ACT 2017**\n",
    "1) Participation had a mean of 65.3% with std of 32.1%. The min participation rate was 8% while the max participation rate was 100%.\n",
    "\n",
    "2) Composite ACT score had a mean of 21.5 with std of 2.02. The min score is 19.8 and max score is 25.5.\n",
    "\n",
    "**ACT 2018**\n",
    "1) Participation had a mean of 61.7% with std of 34%. The min participation rate was 7% while the max participation rate was 100%.\n",
    "\n",
    "2) Composite ACT score had a mean of 21.5 with std of 2.1. The min score is 20.0 and max score is 23.7."
   ]
  },
  {
   "cell_type": "markdown",
   "metadata": {},
   "source": [
    "Creating a dictionary of std for all values in sat_act_1718"
   ]
  },
  {
   "cell_type": "code",
   "execution_count": 47,
   "metadata": {},
   "outputs": [],
   "source": [
    "sat_act_std = {x: get_std(sat_act_1718[x].tolist()) for x in sat_act_1718 if x != 'state'}"
   ]
  },
  {
   "cell_type": "markdown",
   "metadata": {},
   "source": [
    "### Which states have the highest and lowest participation rates for the 2017, 2019, or 2019 SAT and ACT?\n",
    "\n",
    "|No.|100% participation rates for SAT 2017|100% participation rates for SAT 2018|Lowest 5 Participation rate for SAT for 2017|Lowest 5 Participation rate for SAT for 2018|\n",
    "|---|---|---|---|---|\n",
    "|1|Connecticut|Colorado|North Dakota|North Dakota|\n",
    "|2|Delaware|Connecticut|Mississipi|Wyoming|\n",
    "|3|Michigan|Delware|Iowa|South Dakota|\n",
    "|4|District of Columbia|Michigan|Missouri|Nebraska|\n",
    "|5||Idaho|Utah|Wisconsin|\n",
    "\n",
    "\n",
    "|No.|100% participation rates for ACT 2017|100% participation rates for ACT 2018|Lowest 5 Participation rate for ACT for 2017|Lowest 5 Participation rate for ACT for 2018|\n",
    "|---|---|---|---|---|\n",
    "|1|Alabama|Alabama|Maine|Maine|\n",
    "|2|Kentucky|Kentucky|New Hampshire|Rhode Island|\n",
    "|3|Wisconsin|Wisconsin|Delaware|New Hampshire|\n",
    "|4|Utah|Utah|Rhode Island|Delaware|\n",
    "|5|Tennessee|Tennesseeh|Pennsylvania|Pennsylvania|\n",
    "|6|South Carolina|South Carolina\n",
    "|7|Oklahoma|Oklahoma\n",
    "|8|North Carolina|Ohio\n",
    "|9|Nevada|North Carolina\n",
    "|10|Montana|Nevada|\n",
    "|11|Mississippi|Montana|\n",
    "|12|Minnesota|Mississippi|\n",
    "|13|Louisiana|Louisiana\n",
    "|14|Missouri|Missouri\n",
    "|15|Wyoming|Wyoming\n",
    "|16|Colorado|Arkansas\n",
    "|17|Arkansas|\n",
    "\n",
    "#### Trends:\n",
    "States with 100% participation rates seems to have mandated the taking of either SAT or ACT.\n",
    "Generally, states with higher participation rates in SAT will have lower participation rates in ACT and vice versa.\n",
    "\n",
    "There are more states which have made ACT compulsory compare to SAT. \n",
    "* In 2017, 17 states had 100% participation rates for ACT while there are only 4 states with 100% participation for SAT. \n",
    "* In 2018, there was a decrease in 1 state from 2017 which had 100% participation rates for ACT while there was an increase of 1 state from 2017 with 100% participation for SAT. Seemingly Colorado had change the mandated test from ACT to SAT.\n",
    "\n"
   ]
  },
  {
   "cell_type": "code",
   "execution_count": 48,
   "metadata": {},
   "outputs": [
    {
     "data": {
      "text/plain": [
       "6              Connecticut\n",
       "7                 Delaware\n",
       "8     District of Columbia\n",
       "22                Michigan\n",
       "Name: state, dtype: object"
      ]
     },
     "execution_count": 48,
     "metadata": {},
     "output_type": "execute_result"
    }
   ],
   "source": [
    "# finding all 100% participation rates for SAT in 2017\n",
    "sat_1718.loc[sat_1718['participation_2017'] == 1, 'state']"
   ]
  },
  {
   "cell_type": "code",
   "execution_count": 49,
   "metadata": {},
   "outputs": [
    {
     "data": {
      "text/plain": [
       "5        Colorado\n",
       "6     Connecticut\n",
       "7        Delaware\n",
       "12          Idaho\n",
       "22       Michigan\n",
       "Name: state, dtype: object"
      ]
     },
     "execution_count": 49,
     "metadata": {},
     "output_type": "execute_result"
    }
   ],
   "source": [
    "# finding the all 100% participation rates for SAT in 2018\n",
    "sat_1718.loc[sat_1718['participation_2018'] == 1, 'state']"
   ]
  },
  {
   "cell_type": "code",
   "execution_count": 50,
   "metadata": {},
   "outputs": [
    {
     "data": {
      "text/html": [
       "<div>\n",
       "<style scoped>\n",
       "    .dataframe tbody tr th:only-of-type {\n",
       "        vertical-align: middle;\n",
       "    }\n",
       "\n",
       "    .dataframe tbody tr th {\n",
       "        vertical-align: top;\n",
       "    }\n",
       "\n",
       "    .dataframe thead th {\n",
       "        text-align: right;\n",
       "    }\n",
       "</style>\n",
       "<table border=\"1\" class=\"dataframe\">\n",
       "  <thead>\n",
       "    <tr style=\"text-align: right;\">\n",
       "      <th></th>\n",
       "      <th>state</th>\n",
       "      <th>participation_2017</th>\n",
       "      <th>ebrw_2017</th>\n",
       "      <th>math_2017</th>\n",
       "      <th>total_2017</th>\n",
       "      <th>participation_2018</th>\n",
       "      <th>ebrw_2018</th>\n",
       "      <th>math_2018</th>\n",
       "      <th>total_2018</th>\n",
       "    </tr>\n",
       "  </thead>\n",
       "  <tbody>\n",
       "    <tr>\n",
       "      <th>34</th>\n",
       "      <td>North Dakota</td>\n",
       "      <td>0.02</td>\n",
       "      <td>635</td>\n",
       "      <td>621</td>\n",
       "      <td>1256</td>\n",
       "      <td>0.02</td>\n",
       "      <td>640</td>\n",
       "      <td>643</td>\n",
       "      <td>1283</td>\n",
       "    </tr>\n",
       "    <tr>\n",
       "      <th>24</th>\n",
       "      <td>Mississippi</td>\n",
       "      <td>0.02</td>\n",
       "      <td>634</td>\n",
       "      <td>607</td>\n",
       "      <td>1242</td>\n",
       "      <td>0.03</td>\n",
       "      <td>630</td>\n",
       "      <td>606</td>\n",
       "      <td>1236</td>\n",
       "    </tr>\n",
       "    <tr>\n",
       "      <th>15</th>\n",
       "      <td>Iowa</td>\n",
       "      <td>0.02</td>\n",
       "      <td>641</td>\n",
       "      <td>635</td>\n",
       "      <td>1275</td>\n",
       "      <td>0.03</td>\n",
       "      <td>634</td>\n",
       "      <td>631</td>\n",
       "      <td>1265</td>\n",
       "    </tr>\n",
       "    <tr>\n",
       "      <th>25</th>\n",
       "      <td>Missouri</td>\n",
       "      <td>0.03</td>\n",
       "      <td>640</td>\n",
       "      <td>631</td>\n",
       "      <td>1271</td>\n",
       "      <td>0.04</td>\n",
       "      <td>633</td>\n",
       "      <td>629</td>\n",
       "      <td>1262</td>\n",
       "    </tr>\n",
       "    <tr>\n",
       "      <th>44</th>\n",
       "      <td>Utah</td>\n",
       "      <td>0.03</td>\n",
       "      <td>624</td>\n",
       "      <td>614</td>\n",
       "      <td>1238</td>\n",
       "      <td>0.04</td>\n",
       "      <td>480</td>\n",
       "      <td>530</td>\n",
       "      <td>1010</td>\n",
       "    </tr>\n",
       "  </tbody>\n",
       "</table>\n",
       "</div>"
      ],
      "text/plain": [
       "           state  participation_2017  ebrw_2017  math_2017  total_2017  \\\n",
       "34  North Dakota                0.02        635        621        1256   \n",
       "24   Mississippi                0.02        634        607        1242   \n",
       "15          Iowa                0.02        641        635        1275   \n",
       "25      Missouri                0.03        640        631        1271   \n",
       "44          Utah                0.03        624        614        1238   \n",
       "\n",
       "    participation_2018  ebrw_2018  math_2018  total_2018  \n",
       "34                0.02        640        643        1283  \n",
       "24                0.03        630        606        1236  \n",
       "15                0.03        634        631        1265  \n",
       "25                0.04        633        629        1262  \n",
       "44                0.04        480        530        1010  "
      ]
     },
     "execution_count": 50,
     "metadata": {},
     "output_type": "execute_result"
    }
   ],
   "source": [
    "# finding the lowest 5 participation rates for SAT in 2017\n",
    "sat_1718.sort_values(by=['participation_2017'], ascending=True).head()"
   ]
  },
  {
   "cell_type": "code",
   "execution_count": 51,
   "metadata": {},
   "outputs": [
    {
     "data": {
      "text/html": [
       "<div>\n",
       "<style scoped>\n",
       "    .dataframe tbody tr th:only-of-type {\n",
       "        vertical-align: middle;\n",
       "    }\n",
       "\n",
       "    .dataframe tbody tr th {\n",
       "        vertical-align: top;\n",
       "    }\n",
       "\n",
       "    .dataframe thead th {\n",
       "        text-align: right;\n",
       "    }\n",
       "</style>\n",
       "<table border=\"1\" class=\"dataframe\">\n",
       "  <thead>\n",
       "    <tr style=\"text-align: right;\">\n",
       "      <th></th>\n",
       "      <th>state</th>\n",
       "      <th>participation_2017</th>\n",
       "      <th>ebrw_2017</th>\n",
       "      <th>math_2017</th>\n",
       "      <th>total_2017</th>\n",
       "      <th>participation_2018</th>\n",
       "      <th>ebrw_2018</th>\n",
       "      <th>math_2018</th>\n",
       "      <th>total_2018</th>\n",
       "    </tr>\n",
       "  </thead>\n",
       "  <tbody>\n",
       "    <tr>\n",
       "      <th>34</th>\n",
       "      <td>North Dakota</td>\n",
       "      <td>0.02</td>\n",
       "      <td>635</td>\n",
       "      <td>621</td>\n",
       "      <td>1256</td>\n",
       "      <td>0.02</td>\n",
       "      <td>640</td>\n",
       "      <td>643</td>\n",
       "      <td>1283</td>\n",
       "    </tr>\n",
       "    <tr>\n",
       "      <th>50</th>\n",
       "      <td>Wyoming</td>\n",
       "      <td>0.03</td>\n",
       "      <td>626</td>\n",
       "      <td>604</td>\n",
       "      <td>1230</td>\n",
       "      <td>0.03</td>\n",
       "      <td>633</td>\n",
       "      <td>625</td>\n",
       "      <td>1257</td>\n",
       "    </tr>\n",
       "    <tr>\n",
       "      <th>41</th>\n",
       "      <td>South Dakota</td>\n",
       "      <td>0.03</td>\n",
       "      <td>612</td>\n",
       "      <td>603</td>\n",
       "      <td>1216</td>\n",
       "      <td>0.03</td>\n",
       "      <td>622</td>\n",
       "      <td>618</td>\n",
       "      <td>1240</td>\n",
       "    </tr>\n",
       "    <tr>\n",
       "      <th>27</th>\n",
       "      <td>Nebraska</td>\n",
       "      <td>0.03</td>\n",
       "      <td>629</td>\n",
       "      <td>625</td>\n",
       "      <td>1253</td>\n",
       "      <td>0.03</td>\n",
       "      <td>629</td>\n",
       "      <td>623</td>\n",
       "      <td>1252</td>\n",
       "    </tr>\n",
       "    <tr>\n",
       "      <th>49</th>\n",
       "      <td>Wisconsin</td>\n",
       "      <td>0.03</td>\n",
       "      <td>642</td>\n",
       "      <td>649</td>\n",
       "      <td>1291</td>\n",
       "      <td>0.03</td>\n",
       "      <td>641</td>\n",
       "      <td>653</td>\n",
       "      <td>1294</td>\n",
       "    </tr>\n",
       "  </tbody>\n",
       "</table>\n",
       "</div>"
      ],
      "text/plain": [
       "           state  participation_2017  ebrw_2017  math_2017  total_2017  \\\n",
       "34  North Dakota                0.02        635        621        1256   \n",
       "50       Wyoming                0.03        626        604        1230   \n",
       "41  South Dakota                0.03        612        603        1216   \n",
       "27      Nebraska                0.03        629        625        1253   \n",
       "49     Wisconsin                0.03        642        649        1291   \n",
       "\n",
       "    participation_2018  ebrw_2018  math_2018  total_2018  \n",
       "34                0.02        640        643        1283  \n",
       "50                0.03        633        625        1257  \n",
       "41                0.03        622        618        1240  \n",
       "27                0.03        629        623        1252  \n",
       "49                0.03        641        653        1294  "
      ]
     },
     "execution_count": 51,
     "metadata": {},
     "output_type": "execute_result"
    }
   ],
   "source": [
    "# finding the lowest 5 participation rates for SAT in 2018\n",
    "sat_1718.sort_values(by=['participation_2018'], ascending=True).head()"
   ]
  },
  {
   "cell_type": "code",
   "execution_count": 52,
   "metadata": {},
   "outputs": [
    {
     "data": {
      "text/plain": [
       "0            Alabama\n",
       "3           Arkansas\n",
       "5           Colorado\n",
       "17          Kentucky\n",
       "18         Louisiana\n",
       "23         Minnesota\n",
       "24       Mississippi\n",
       "25          Missouri\n",
       "26           Montana\n",
       "28            Nevada\n",
       "33    North Carolina\n",
       "36          Oklahoma\n",
       "40    South Carolina\n",
       "42         Tennessee\n",
       "44              Utah\n",
       "49         Wisconsin\n",
       "50           Wyoming\n",
       "Name: state, dtype: object"
      ]
     },
     "execution_count": 52,
     "metadata": {},
     "output_type": "execute_result"
    }
   ],
   "source": [
    "# finding all 100% participation rates for act in 2017\n",
    "act_1718.loc[act_1718['participation_2017'] == 1, 'state']"
   ]
  },
  {
   "cell_type": "code",
   "execution_count": 53,
   "metadata": {},
   "outputs": [
    {
     "data": {
      "text/plain": [
       "0            Alabama\n",
       "3           Arkansas\n",
       "17          Kentucky\n",
       "18         Louisiana\n",
       "24       Mississippi\n",
       "25          Missouri\n",
       "26           Montana\n",
       "27          Nebraska\n",
       "28            Nevada\n",
       "33    North Carolina\n",
       "35              Ohio\n",
       "36          Oklahoma\n",
       "40    South Carolina\n",
       "42         Tennessee\n",
       "44              Utah\n",
       "49         Wisconsin\n",
       "50           Wyoming\n",
       "Name: state, dtype: object"
      ]
     },
     "execution_count": 53,
     "metadata": {},
     "output_type": "execute_result"
    }
   ],
   "source": [
    "# finding all 100% participation rates for act in 2018\n",
    "act_1718.loc[act_1718['participation_2018'] == 1, 'state']"
   ]
  },
  {
   "cell_type": "code",
   "execution_count": 54,
   "metadata": {},
   "outputs": [
    {
     "data": {
      "text/html": [
       "<div>\n",
       "<style scoped>\n",
       "    .dataframe tbody tr th:only-of-type {\n",
       "        vertical-align: middle;\n",
       "    }\n",
       "\n",
       "    .dataframe tbody tr th {\n",
       "        vertical-align: top;\n",
       "    }\n",
       "\n",
       "    .dataframe thead th {\n",
       "        text-align: right;\n",
       "    }\n",
       "</style>\n",
       "<table border=\"1\" class=\"dataframe\">\n",
       "  <thead>\n",
       "    <tr style=\"text-align: right;\">\n",
       "      <th></th>\n",
       "      <th>state</th>\n",
       "      <th>participation_2017</th>\n",
       "      <th>composite_2017</th>\n",
       "      <th>participation_2018</th>\n",
       "      <th>composite_2018</th>\n",
       "    </tr>\n",
       "  </thead>\n",
       "  <tbody>\n",
       "    <tr>\n",
       "      <th>19</th>\n",
       "      <td>Maine</td>\n",
       "      <td>0.08</td>\n",
       "      <td>24.3</td>\n",
       "      <td>0.07</td>\n",
       "      <td>24.0</td>\n",
       "    </tr>\n",
       "    <tr>\n",
       "      <th>29</th>\n",
       "      <td>New Hampshire</td>\n",
       "      <td>0.18</td>\n",
       "      <td>25.5</td>\n",
       "      <td>0.16</td>\n",
       "      <td>25.1</td>\n",
       "    </tr>\n",
       "    <tr>\n",
       "      <th>7</th>\n",
       "      <td>Delaware</td>\n",
       "      <td>0.18</td>\n",
       "      <td>24.1</td>\n",
       "      <td>0.17</td>\n",
       "      <td>23.8</td>\n",
       "    </tr>\n",
       "    <tr>\n",
       "      <th>39</th>\n",
       "      <td>Rhode Island</td>\n",
       "      <td>0.21</td>\n",
       "      <td>24.0</td>\n",
       "      <td>0.15</td>\n",
       "      <td>24.2</td>\n",
       "    </tr>\n",
       "    <tr>\n",
       "      <th>38</th>\n",
       "      <td>Pennsylvania</td>\n",
       "      <td>0.23</td>\n",
       "      <td>23.7</td>\n",
       "      <td>0.20</td>\n",
       "      <td>23.5</td>\n",
       "    </tr>\n",
       "  </tbody>\n",
       "</table>\n",
       "</div>"
      ],
      "text/plain": [
       "            state  participation_2017  composite_2017  participation_2018  \\\n",
       "19          Maine                0.08            24.3                0.07   \n",
       "29  New Hampshire                0.18            25.5                0.16   \n",
       "7        Delaware                0.18            24.1                0.17   \n",
       "39   Rhode Island                0.21            24.0                0.15   \n",
       "38   Pennsylvania                0.23            23.7                0.20   \n",
       "\n",
       "    composite_2018  \n",
       "19            24.0  \n",
       "29            25.1  \n",
       "7             23.8  \n",
       "39            24.2  \n",
       "38            23.5  "
      ]
     },
     "execution_count": 54,
     "metadata": {},
     "output_type": "execute_result"
    }
   ],
   "source": [
    "# finding the lowest 5 participation rates for ACT in 2017\n",
    "act_1718.sort_values(by=['participation_2017'], ascending=True).head()"
   ]
  },
  {
   "cell_type": "code",
   "execution_count": 55,
   "metadata": {},
   "outputs": [
    {
     "data": {
      "text/html": [
       "<div>\n",
       "<style scoped>\n",
       "    .dataframe tbody tr th:only-of-type {\n",
       "        vertical-align: middle;\n",
       "    }\n",
       "\n",
       "    .dataframe tbody tr th {\n",
       "        vertical-align: top;\n",
       "    }\n",
       "\n",
       "    .dataframe thead th {\n",
       "        text-align: right;\n",
       "    }\n",
       "</style>\n",
       "<table border=\"1\" class=\"dataframe\">\n",
       "  <thead>\n",
       "    <tr style=\"text-align: right;\">\n",
       "      <th></th>\n",
       "      <th>state</th>\n",
       "      <th>participation_2017</th>\n",
       "      <th>composite_2017</th>\n",
       "      <th>participation_2018</th>\n",
       "      <th>composite_2018</th>\n",
       "    </tr>\n",
       "  </thead>\n",
       "  <tbody>\n",
       "    <tr>\n",
       "      <th>19</th>\n",
       "      <td>Maine</td>\n",
       "      <td>0.08</td>\n",
       "      <td>24.3</td>\n",
       "      <td>0.07</td>\n",
       "      <td>24.0</td>\n",
       "    </tr>\n",
       "    <tr>\n",
       "      <th>39</th>\n",
       "      <td>Rhode Island</td>\n",
       "      <td>0.21</td>\n",
       "      <td>24.0</td>\n",
       "      <td>0.15</td>\n",
       "      <td>24.2</td>\n",
       "    </tr>\n",
       "    <tr>\n",
       "      <th>29</th>\n",
       "      <td>New Hampshire</td>\n",
       "      <td>0.18</td>\n",
       "      <td>25.5</td>\n",
       "      <td>0.16</td>\n",
       "      <td>25.1</td>\n",
       "    </tr>\n",
       "    <tr>\n",
       "      <th>7</th>\n",
       "      <td>Delaware</td>\n",
       "      <td>0.18</td>\n",
       "      <td>24.1</td>\n",
       "      <td>0.17</td>\n",
       "      <td>23.8</td>\n",
       "    </tr>\n",
       "    <tr>\n",
       "      <th>38</th>\n",
       "      <td>Pennsylvania</td>\n",
       "      <td>0.23</td>\n",
       "      <td>23.7</td>\n",
       "      <td>0.20</td>\n",
       "      <td>23.5</td>\n",
       "    </tr>\n",
       "  </tbody>\n",
       "</table>\n",
       "</div>"
      ],
      "text/plain": [
       "            state  participation_2017  composite_2017  participation_2018  \\\n",
       "19          Maine                0.08            24.3                0.07   \n",
       "39   Rhode Island                0.21            24.0                0.15   \n",
       "29  New Hampshire                0.18            25.5                0.16   \n",
       "7        Delaware                0.18            24.1                0.17   \n",
       "38   Pennsylvania                0.23            23.7                0.20   \n",
       "\n",
       "    composite_2018  \n",
       "19            24.0  \n",
       "39            24.2  \n",
       "29            25.1  \n",
       "7             23.8  \n",
       "38            23.5  "
      ]
     },
     "execution_count": 55,
     "metadata": {},
     "output_type": "execute_result"
    }
   ],
   "source": [
    "# finding the lowest 5 participation rates for ACT in 2018\n",
    "act_1718.sort_values(by=['participation_2018'], ascending=True).head()"
   ]
  },
  {
   "cell_type": "markdown",
   "metadata": {},
   "source": [
    "### Which states have the highest and lowest mean total/composite scores for the 2017 and 2018 SAT and ACT?\n",
    "\n",
    "|No.|Top 5 Score for SAT 2017|Top 5 Score for SAT 2018|Lowest 5 Score for SAT for 2017|Lowest 5 Score for SAT for 2018|\n",
    "|---|---|---|---|---|\n",
    "|1|Minnesota|Minnesota|District of Columbia|District of Columbia|\n",
    "|2|Wisconsin|Wisconsin|Delaware|Delaware|\n",
    "|3|Iowa|North Dakota|Idaho|West Virginia|\n",
    "|4|Missouri|Iowa|Michigan|Idaho|\n",
    "|5|Kansas|Kansas|Maine|Utah\n",
    "\n",
    "\n",
    "|No.|Top 5 Score for ACT 2017|Top 5 Score for ACT 2018|Lowest 5 Score for ACT for 2017|Lowest 5 Score for ACT for 2018|\n",
    "|---|---|---|---|---|\n",
    "|1|New Hampshire|Connecticut|Nevada|Nevada|\n",
    "|2|Massachusetts|Massachusetts|Mississippi|South Carolina|\n",
    "|3|Connecticut|New Hampshire|South Carolina|Mississippi|\n",
    "|4|Maine|New York|Hawaii|Hawaii\n",
    "|5|District of Columbia|North Carolina|Maine|Alabama\n",
    "\n",
    "#### Trends:\n",
    "Generally, states with higher participation rates in will have lower mean total/composite scores and vice versa.\n",
    "\n",
    "Both the top and bottom few scoring states had remained relatively similiar from 2017 to 2018.\n",
    "* Minnesota, Wisconsin, Iowa and Kansas had remained in the top 5 SAT scores in the 2 years. These 4 states had a participation rate of less than 5%.\n",
    "* District of Columbia, Delaware and Idaho had remained in the bottom 5 SAT scores in the 2 years. These 3 states had a participation rate of ~100%\n",
    "* New Hampshire, Massachusetts and Connecticut had remained in the top 5 ACT scores in the 2 years.  These 3 states had a participation rate of less than ~30%\n",
    "* Nevada, Mississippi, South Carolina and Hawaii had remained in the bottom 5 SAT scores in the 2 years. These 3 states had a participation rate of ~90% - 100%\n",
    "\n",
    "One possible reason is due to having higher participation rates will inadvertently include students with poorer aptitude taking the test and lowering the average. On the other hand, only students who are confident would take the other non-mandated tests which will result in a higher average for those states."
   ]
  },
  {
   "cell_type": "code",
   "execution_count": 56,
   "metadata": {},
   "outputs": [
    {
     "data": {
      "text/html": [
       "<div>\n",
       "<style scoped>\n",
       "    .dataframe tbody tr th:only-of-type {\n",
       "        vertical-align: middle;\n",
       "    }\n",
       "\n",
       "    .dataframe tbody tr th {\n",
       "        vertical-align: top;\n",
       "    }\n",
       "\n",
       "    .dataframe thead th {\n",
       "        text-align: right;\n",
       "    }\n",
       "</style>\n",
       "<table border=\"1\" class=\"dataframe\">\n",
       "  <thead>\n",
       "    <tr style=\"text-align: right;\">\n",
       "      <th></th>\n",
       "      <th>state</th>\n",
       "      <th>participation_2017</th>\n",
       "      <th>ebrw_2017</th>\n",
       "      <th>math_2017</th>\n",
       "      <th>total_2017</th>\n",
       "      <th>participation_2018</th>\n",
       "      <th>ebrw_2018</th>\n",
       "      <th>math_2018</th>\n",
       "      <th>total_2018</th>\n",
       "    </tr>\n",
       "  </thead>\n",
       "  <tbody>\n",
       "    <tr>\n",
       "      <th>23</th>\n",
       "      <td>Minnesota</td>\n",
       "      <td>0.03</td>\n",
       "      <td>644</td>\n",
       "      <td>651</td>\n",
       "      <td>1295</td>\n",
       "      <td>0.04</td>\n",
       "      <td>643</td>\n",
       "      <td>655</td>\n",
       "      <td>1298</td>\n",
       "    </tr>\n",
       "    <tr>\n",
       "      <th>49</th>\n",
       "      <td>Wisconsin</td>\n",
       "      <td>0.03</td>\n",
       "      <td>642</td>\n",
       "      <td>649</td>\n",
       "      <td>1291</td>\n",
       "      <td>0.03</td>\n",
       "      <td>641</td>\n",
       "      <td>653</td>\n",
       "      <td>1294</td>\n",
       "    </tr>\n",
       "    <tr>\n",
       "      <th>15</th>\n",
       "      <td>Iowa</td>\n",
       "      <td>0.02</td>\n",
       "      <td>641</td>\n",
       "      <td>635</td>\n",
       "      <td>1275</td>\n",
       "      <td>0.03</td>\n",
       "      <td>634</td>\n",
       "      <td>631</td>\n",
       "      <td>1265</td>\n",
       "    </tr>\n",
       "    <tr>\n",
       "      <th>25</th>\n",
       "      <td>Missouri</td>\n",
       "      <td>0.03</td>\n",
       "      <td>640</td>\n",
       "      <td>631</td>\n",
       "      <td>1271</td>\n",
       "      <td>0.04</td>\n",
       "      <td>633</td>\n",
       "      <td>629</td>\n",
       "      <td>1262</td>\n",
       "    </tr>\n",
       "    <tr>\n",
       "      <th>16</th>\n",
       "      <td>Kansas</td>\n",
       "      <td>0.04</td>\n",
       "      <td>632</td>\n",
       "      <td>628</td>\n",
       "      <td>1260</td>\n",
       "      <td>0.04</td>\n",
       "      <td>633</td>\n",
       "      <td>631</td>\n",
       "      <td>1265</td>\n",
       "    </tr>\n",
       "  </tbody>\n",
       "</table>\n",
       "</div>"
      ],
      "text/plain": [
       "        state  participation_2017  ebrw_2017  math_2017  total_2017  \\\n",
       "23  Minnesota                0.03        644        651        1295   \n",
       "49  Wisconsin                0.03        642        649        1291   \n",
       "15       Iowa                0.02        641        635        1275   \n",
       "25   Missouri                0.03        640        631        1271   \n",
       "16     Kansas                0.04        632        628        1260   \n",
       "\n",
       "    participation_2018  ebrw_2018  math_2018  total_2018  \n",
       "23                0.04        643        655        1298  \n",
       "49                0.03        641        653        1294  \n",
       "15                0.03        634        631        1265  \n",
       "25                0.04        633        629        1262  \n",
       "16                0.04        633        631        1265  "
      ]
     },
     "execution_count": 56,
     "metadata": {},
     "output_type": "execute_result"
    }
   ],
   "source": [
    "sat_1718.sort_values(by=['total_2017'], ascending=False).head()"
   ]
  },
  {
   "cell_type": "code",
   "execution_count": 57,
   "metadata": {},
   "outputs": [
    {
     "data": {
      "text/html": [
       "<div>\n",
       "<style scoped>\n",
       "    .dataframe tbody tr th:only-of-type {\n",
       "        vertical-align: middle;\n",
       "    }\n",
       "\n",
       "    .dataframe tbody tr th {\n",
       "        vertical-align: top;\n",
       "    }\n",
       "\n",
       "    .dataframe thead th {\n",
       "        text-align: right;\n",
       "    }\n",
       "</style>\n",
       "<table border=\"1\" class=\"dataframe\">\n",
       "  <thead>\n",
       "    <tr style=\"text-align: right;\">\n",
       "      <th></th>\n",
       "      <th>state</th>\n",
       "      <th>participation_2017</th>\n",
       "      <th>ebrw_2017</th>\n",
       "      <th>math_2017</th>\n",
       "      <th>total_2017</th>\n",
       "      <th>participation_2018</th>\n",
       "      <th>ebrw_2018</th>\n",
       "      <th>math_2018</th>\n",
       "      <th>total_2018</th>\n",
       "    </tr>\n",
       "  </thead>\n",
       "  <tbody>\n",
       "    <tr>\n",
       "      <th>23</th>\n",
       "      <td>Minnesota</td>\n",
       "      <td>0.03</td>\n",
       "      <td>644</td>\n",
       "      <td>651</td>\n",
       "      <td>1295</td>\n",
       "      <td>0.04</td>\n",
       "      <td>643</td>\n",
       "      <td>655</td>\n",
       "      <td>1298</td>\n",
       "    </tr>\n",
       "    <tr>\n",
       "      <th>49</th>\n",
       "      <td>Wisconsin</td>\n",
       "      <td>0.03</td>\n",
       "      <td>642</td>\n",
       "      <td>649</td>\n",
       "      <td>1291</td>\n",
       "      <td>0.03</td>\n",
       "      <td>641</td>\n",
       "      <td>653</td>\n",
       "      <td>1294</td>\n",
       "    </tr>\n",
       "    <tr>\n",
       "      <th>34</th>\n",
       "      <td>North Dakota</td>\n",
       "      <td>0.02</td>\n",
       "      <td>635</td>\n",
       "      <td>621</td>\n",
       "      <td>1256</td>\n",
       "      <td>0.02</td>\n",
       "      <td>640</td>\n",
       "      <td>643</td>\n",
       "      <td>1283</td>\n",
       "    </tr>\n",
       "    <tr>\n",
       "      <th>15</th>\n",
       "      <td>Iowa</td>\n",
       "      <td>0.02</td>\n",
       "      <td>641</td>\n",
       "      <td>635</td>\n",
       "      <td>1275</td>\n",
       "      <td>0.03</td>\n",
       "      <td>634</td>\n",
       "      <td>631</td>\n",
       "      <td>1265</td>\n",
       "    </tr>\n",
       "    <tr>\n",
       "      <th>16</th>\n",
       "      <td>Kansas</td>\n",
       "      <td>0.04</td>\n",
       "      <td>632</td>\n",
       "      <td>628</td>\n",
       "      <td>1260</td>\n",
       "      <td>0.04</td>\n",
       "      <td>633</td>\n",
       "      <td>631</td>\n",
       "      <td>1265</td>\n",
       "    </tr>\n",
       "  </tbody>\n",
       "</table>\n",
       "</div>"
      ],
      "text/plain": [
       "           state  participation_2017  ebrw_2017  math_2017  total_2017  \\\n",
       "23     Minnesota                0.03        644        651        1295   \n",
       "49     Wisconsin                0.03        642        649        1291   \n",
       "34  North Dakota                0.02        635        621        1256   \n",
       "15          Iowa                0.02        641        635        1275   \n",
       "16        Kansas                0.04        632        628        1260   \n",
       "\n",
       "    participation_2018  ebrw_2018  math_2018  total_2018  \n",
       "23                0.04        643        655        1298  \n",
       "49                0.03        641        653        1294  \n",
       "34                0.02        640        643        1283  \n",
       "15                0.03        634        631        1265  \n",
       "16                0.04        633        631        1265  "
      ]
     },
     "execution_count": 57,
     "metadata": {},
     "output_type": "execute_result"
    }
   ],
   "source": [
    "sat_1718.sort_values(by=['total_2018'], ascending=False).head()"
   ]
  },
  {
   "cell_type": "code",
   "execution_count": 58,
   "metadata": {},
   "outputs": [
    {
     "data": {
      "text/html": [
       "<div>\n",
       "<style scoped>\n",
       "    .dataframe tbody tr th:only-of-type {\n",
       "        vertical-align: middle;\n",
       "    }\n",
       "\n",
       "    .dataframe tbody tr th {\n",
       "        vertical-align: top;\n",
       "    }\n",
       "\n",
       "    .dataframe thead th {\n",
       "        text-align: right;\n",
       "    }\n",
       "</style>\n",
       "<table border=\"1\" class=\"dataframe\">\n",
       "  <thead>\n",
       "    <tr style=\"text-align: right;\">\n",
       "      <th></th>\n",
       "      <th>state</th>\n",
       "      <th>participation_2017</th>\n",
       "      <th>ebrw_2017</th>\n",
       "      <th>math_2017</th>\n",
       "      <th>total_2017</th>\n",
       "      <th>participation_2018</th>\n",
       "      <th>ebrw_2018</th>\n",
       "      <th>math_2018</th>\n",
       "      <th>total_2018</th>\n",
       "    </tr>\n",
       "  </thead>\n",
       "  <tbody>\n",
       "    <tr>\n",
       "      <th>8</th>\n",
       "      <td>District of Columbia</td>\n",
       "      <td>1.00</td>\n",
       "      <td>482</td>\n",
       "      <td>468</td>\n",
       "      <td>950</td>\n",
       "      <td>0.92</td>\n",
       "      <td>497</td>\n",
       "      <td>480</td>\n",
       "      <td>977</td>\n",
       "    </tr>\n",
       "    <tr>\n",
       "      <th>7</th>\n",
       "      <td>Delaware</td>\n",
       "      <td>1.00</td>\n",
       "      <td>503</td>\n",
       "      <td>492</td>\n",
       "      <td>996</td>\n",
       "      <td>1.00</td>\n",
       "      <td>505</td>\n",
       "      <td>492</td>\n",
       "      <td>998</td>\n",
       "    </tr>\n",
       "    <tr>\n",
       "      <th>12</th>\n",
       "      <td>Idaho</td>\n",
       "      <td>0.93</td>\n",
       "      <td>513</td>\n",
       "      <td>493</td>\n",
       "      <td>1005</td>\n",
       "      <td>1.00</td>\n",
       "      <td>508</td>\n",
       "      <td>493</td>\n",
       "      <td>1001</td>\n",
       "    </tr>\n",
       "    <tr>\n",
       "      <th>22</th>\n",
       "      <td>Michigan</td>\n",
       "      <td>1.00</td>\n",
       "      <td>509</td>\n",
       "      <td>495</td>\n",
       "      <td>1005</td>\n",
       "      <td>1.00</td>\n",
       "      <td>511</td>\n",
       "      <td>499</td>\n",
       "      <td>1011</td>\n",
       "    </tr>\n",
       "    <tr>\n",
       "      <th>19</th>\n",
       "      <td>Maine</td>\n",
       "      <td>0.95</td>\n",
       "      <td>513</td>\n",
       "      <td>499</td>\n",
       "      <td>1012</td>\n",
       "      <td>0.99</td>\n",
       "      <td>512</td>\n",
       "      <td>501</td>\n",
       "      <td>1013</td>\n",
       "    </tr>\n",
       "  </tbody>\n",
       "</table>\n",
       "</div>"
      ],
      "text/plain": [
       "                   state  participation_2017  ebrw_2017  math_2017  \\\n",
       "8   District of Columbia                1.00        482        468   \n",
       "7               Delaware                1.00        503        492   \n",
       "12                 Idaho                0.93        513        493   \n",
       "22              Michigan                1.00        509        495   \n",
       "19                 Maine                0.95        513        499   \n",
       "\n",
       "    total_2017  participation_2018  ebrw_2018  math_2018  total_2018  \n",
       "8          950                0.92        497        480         977  \n",
       "7          996                1.00        505        492         998  \n",
       "12        1005                1.00        508        493        1001  \n",
       "22        1005                1.00        511        499        1011  \n",
       "19        1012                0.99        512        501        1013  "
      ]
     },
     "execution_count": 58,
     "metadata": {},
     "output_type": "execute_result"
    }
   ],
   "source": [
    "sat_1718.sort_values(by=['total_2017'], ascending=True).head()"
   ]
  },
  {
   "cell_type": "code",
   "execution_count": 59,
   "metadata": {},
   "outputs": [
    {
     "data": {
      "text/html": [
       "<div>\n",
       "<style scoped>\n",
       "    .dataframe tbody tr th:only-of-type {\n",
       "        vertical-align: middle;\n",
       "    }\n",
       "\n",
       "    .dataframe tbody tr th {\n",
       "        vertical-align: top;\n",
       "    }\n",
       "\n",
       "    .dataframe thead th {\n",
       "        text-align: right;\n",
       "    }\n",
       "</style>\n",
       "<table border=\"1\" class=\"dataframe\">\n",
       "  <thead>\n",
       "    <tr style=\"text-align: right;\">\n",
       "      <th></th>\n",
       "      <th>state</th>\n",
       "      <th>participation_2017</th>\n",
       "      <th>ebrw_2017</th>\n",
       "      <th>math_2017</th>\n",
       "      <th>total_2017</th>\n",
       "      <th>participation_2018</th>\n",
       "      <th>ebrw_2018</th>\n",
       "      <th>math_2018</th>\n",
       "      <th>total_2018</th>\n",
       "    </tr>\n",
       "  </thead>\n",
       "  <tbody>\n",
       "    <tr>\n",
       "      <th>8</th>\n",
       "      <td>District of Columbia</td>\n",
       "      <td>1.00</td>\n",
       "      <td>482</td>\n",
       "      <td>468</td>\n",
       "      <td>950</td>\n",
       "      <td>0.92</td>\n",
       "      <td>497</td>\n",
       "      <td>480</td>\n",
       "      <td>977</td>\n",
       "    </tr>\n",
       "    <tr>\n",
       "      <th>7</th>\n",
       "      <td>Delaware</td>\n",
       "      <td>1.00</td>\n",
       "      <td>503</td>\n",
       "      <td>492</td>\n",
       "      <td>996</td>\n",
       "      <td>1.00</td>\n",
       "      <td>505</td>\n",
       "      <td>492</td>\n",
       "      <td>998</td>\n",
       "    </tr>\n",
       "    <tr>\n",
       "      <th>48</th>\n",
       "      <td>West Virginia</td>\n",
       "      <td>0.14</td>\n",
       "      <td>558</td>\n",
       "      <td>528</td>\n",
       "      <td>1086</td>\n",
       "      <td>0.28</td>\n",
       "      <td>513</td>\n",
       "      <td>486</td>\n",
       "      <td>999</td>\n",
       "    </tr>\n",
       "    <tr>\n",
       "      <th>12</th>\n",
       "      <td>Idaho</td>\n",
       "      <td>0.93</td>\n",
       "      <td>513</td>\n",
       "      <td>493</td>\n",
       "      <td>1005</td>\n",
       "      <td>1.00</td>\n",
       "      <td>508</td>\n",
       "      <td>493</td>\n",
       "      <td>1001</td>\n",
       "    </tr>\n",
       "    <tr>\n",
       "      <th>44</th>\n",
       "      <td>Utah</td>\n",
       "      <td>0.03</td>\n",
       "      <td>624</td>\n",
       "      <td>614</td>\n",
       "      <td>1238</td>\n",
       "      <td>0.04</td>\n",
       "      <td>480</td>\n",
       "      <td>530</td>\n",
       "      <td>1010</td>\n",
       "    </tr>\n",
       "  </tbody>\n",
       "</table>\n",
       "</div>"
      ],
      "text/plain": [
       "                   state  participation_2017  ebrw_2017  math_2017  \\\n",
       "8   District of Columbia                1.00        482        468   \n",
       "7               Delaware                1.00        503        492   \n",
       "48         West Virginia                0.14        558        528   \n",
       "12                 Idaho                0.93        513        493   \n",
       "44                  Utah                0.03        624        614   \n",
       "\n",
       "    total_2017  participation_2018  ebrw_2018  math_2018  total_2018  \n",
       "8          950                0.92        497        480         977  \n",
       "7          996                1.00        505        492         998  \n",
       "48        1086                0.28        513        486         999  \n",
       "12        1005                1.00        508        493        1001  \n",
       "44        1238                0.04        480        530        1010  "
      ]
     },
     "execution_count": 59,
     "metadata": {},
     "output_type": "execute_result"
    }
   ],
   "source": [
    "sat_1718.sort_values(by=['total_2018'], ascending=True).head()"
   ]
  },
  {
   "cell_type": "code",
   "execution_count": 60,
   "metadata": {},
   "outputs": [
    {
     "data": {
      "text/html": [
       "<div>\n",
       "<style scoped>\n",
       "    .dataframe tbody tr th:only-of-type {\n",
       "        vertical-align: middle;\n",
       "    }\n",
       "\n",
       "    .dataframe tbody tr th {\n",
       "        vertical-align: top;\n",
       "    }\n",
       "\n",
       "    .dataframe thead th {\n",
       "        text-align: right;\n",
       "    }\n",
       "</style>\n",
       "<table border=\"1\" class=\"dataframe\">\n",
       "  <thead>\n",
       "    <tr style=\"text-align: right;\">\n",
       "      <th></th>\n",
       "      <th>state</th>\n",
       "      <th>participation_2017</th>\n",
       "      <th>composite_2017</th>\n",
       "      <th>participation_2018</th>\n",
       "      <th>composite_2018</th>\n",
       "    </tr>\n",
       "  </thead>\n",
       "  <tbody>\n",
       "    <tr>\n",
       "      <th>29</th>\n",
       "      <td>New Hampshire</td>\n",
       "      <td>0.18</td>\n",
       "      <td>25.5</td>\n",
       "      <td>0.16</td>\n",
       "      <td>25.1</td>\n",
       "    </tr>\n",
       "    <tr>\n",
       "      <th>21</th>\n",
       "      <td>Massachusetts</td>\n",
       "      <td>0.29</td>\n",
       "      <td>25.4</td>\n",
       "      <td>0.25</td>\n",
       "      <td>25.5</td>\n",
       "    </tr>\n",
       "    <tr>\n",
       "      <th>6</th>\n",
       "      <td>Connecticut</td>\n",
       "      <td>0.31</td>\n",
       "      <td>25.2</td>\n",
       "      <td>0.26</td>\n",
       "      <td>25.6</td>\n",
       "    </tr>\n",
       "    <tr>\n",
       "      <th>19</th>\n",
       "      <td>Maine</td>\n",
       "      <td>0.08</td>\n",
       "      <td>24.3</td>\n",
       "      <td>0.07</td>\n",
       "      <td>24.0</td>\n",
       "    </tr>\n",
       "    <tr>\n",
       "      <th>8</th>\n",
       "      <td>District of Columbia</td>\n",
       "      <td>0.32</td>\n",
       "      <td>24.2</td>\n",
       "      <td>0.32</td>\n",
       "      <td>23.6</td>\n",
       "    </tr>\n",
       "  </tbody>\n",
       "</table>\n",
       "</div>"
      ],
      "text/plain": [
       "                   state  participation_2017  composite_2017  \\\n",
       "29         New Hampshire                0.18            25.5   \n",
       "21         Massachusetts                0.29            25.4   \n",
       "6            Connecticut                0.31            25.2   \n",
       "19                 Maine                0.08            24.3   \n",
       "8   District of Columbia                0.32            24.2   \n",
       "\n",
       "    participation_2018  composite_2018  \n",
       "29                0.16            25.1  \n",
       "21                0.25            25.5  \n",
       "6                 0.26            25.6  \n",
       "19                0.07            24.0  \n",
       "8                 0.32            23.6  "
      ]
     },
     "execution_count": 60,
     "metadata": {},
     "output_type": "execute_result"
    }
   ],
   "source": [
    "act_1718.sort_values(by=['composite_2017'], ascending=False).head()"
   ]
  },
  {
   "cell_type": "code",
   "execution_count": 61,
   "metadata": {},
   "outputs": [
    {
     "data": {
      "text/html": [
       "<div>\n",
       "<style scoped>\n",
       "    .dataframe tbody tr th:only-of-type {\n",
       "        vertical-align: middle;\n",
       "    }\n",
       "\n",
       "    .dataframe tbody tr th {\n",
       "        vertical-align: top;\n",
       "    }\n",
       "\n",
       "    .dataframe thead th {\n",
       "        text-align: right;\n",
       "    }\n",
       "</style>\n",
       "<table border=\"1\" class=\"dataframe\">\n",
       "  <thead>\n",
       "    <tr style=\"text-align: right;\">\n",
       "      <th></th>\n",
       "      <th>state</th>\n",
       "      <th>participation_2017</th>\n",
       "      <th>composite_2017</th>\n",
       "      <th>participation_2018</th>\n",
       "      <th>composite_2018</th>\n",
       "    </tr>\n",
       "  </thead>\n",
       "  <tbody>\n",
       "    <tr>\n",
       "      <th>6</th>\n",
       "      <td>Connecticut</td>\n",
       "      <td>0.31</td>\n",
       "      <td>25.2</td>\n",
       "      <td>0.26</td>\n",
       "      <td>25.6</td>\n",
       "    </tr>\n",
       "    <tr>\n",
       "      <th>21</th>\n",
       "      <td>Massachusetts</td>\n",
       "      <td>0.29</td>\n",
       "      <td>25.4</td>\n",
       "      <td>0.25</td>\n",
       "      <td>25.5</td>\n",
       "    </tr>\n",
       "    <tr>\n",
       "      <th>29</th>\n",
       "      <td>New Hampshire</td>\n",
       "      <td>0.18</td>\n",
       "      <td>25.5</td>\n",
       "      <td>0.16</td>\n",
       "      <td>25.1</td>\n",
       "    </tr>\n",
       "    <tr>\n",
       "      <th>32</th>\n",
       "      <td>New York</td>\n",
       "      <td>0.31</td>\n",
       "      <td>24.2</td>\n",
       "      <td>0.27</td>\n",
       "      <td>24.5</td>\n",
       "    </tr>\n",
       "    <tr>\n",
       "      <th>22</th>\n",
       "      <td>Michigan</td>\n",
       "      <td>0.29</td>\n",
       "      <td>24.1</td>\n",
       "      <td>0.22</td>\n",
       "      <td>24.2</td>\n",
       "    </tr>\n",
       "  </tbody>\n",
       "</table>\n",
       "</div>"
      ],
      "text/plain": [
       "            state  participation_2017  composite_2017  participation_2018  \\\n",
       "6     Connecticut                0.31            25.2                0.26   \n",
       "21  Massachusetts                0.29            25.4                0.25   \n",
       "29  New Hampshire                0.18            25.5                0.16   \n",
       "32       New York                0.31            24.2                0.27   \n",
       "22       Michigan                0.29            24.1                0.22   \n",
       "\n",
       "    composite_2018  \n",
       "6             25.6  \n",
       "21            25.5  \n",
       "29            25.1  \n",
       "32            24.5  \n",
       "22            24.2  "
      ]
     },
     "execution_count": 61,
     "metadata": {},
     "output_type": "execute_result"
    }
   ],
   "source": [
    "act_1718.sort_values(by=['composite_2018'], ascending=False).head()"
   ]
  },
  {
   "cell_type": "code",
   "execution_count": 62,
   "metadata": {},
   "outputs": [
    {
     "data": {
      "text/html": [
       "<div>\n",
       "<style scoped>\n",
       "    .dataframe tbody tr th:only-of-type {\n",
       "        vertical-align: middle;\n",
       "    }\n",
       "\n",
       "    .dataframe tbody tr th {\n",
       "        vertical-align: top;\n",
       "    }\n",
       "\n",
       "    .dataframe thead th {\n",
       "        text-align: right;\n",
       "    }\n",
       "</style>\n",
       "<table border=\"1\" class=\"dataframe\">\n",
       "  <thead>\n",
       "    <tr style=\"text-align: right;\">\n",
       "      <th></th>\n",
       "      <th>state</th>\n",
       "      <th>participation_2017</th>\n",
       "      <th>composite_2017</th>\n",
       "      <th>participation_2018</th>\n",
       "      <th>composite_2018</th>\n",
       "    </tr>\n",
       "  </thead>\n",
       "  <tbody>\n",
       "    <tr>\n",
       "      <th>28</th>\n",
       "      <td>Nevada</td>\n",
       "      <td>1.0</td>\n",
       "      <td>17.8</td>\n",
       "      <td>1.00</td>\n",
       "      <td>17.7</td>\n",
       "    </tr>\n",
       "    <tr>\n",
       "      <th>24</th>\n",
       "      <td>Mississippi</td>\n",
       "      <td>1.0</td>\n",
       "      <td>18.6</td>\n",
       "      <td>1.00</td>\n",
       "      <td>18.6</td>\n",
       "    </tr>\n",
       "    <tr>\n",
       "      <th>40</th>\n",
       "      <td>South Carolina</td>\n",
       "      <td>1.0</td>\n",
       "      <td>18.7</td>\n",
       "      <td>1.00</td>\n",
       "      <td>18.3</td>\n",
       "    </tr>\n",
       "    <tr>\n",
       "      <th>11</th>\n",
       "      <td>Hawaii</td>\n",
       "      <td>0.9</td>\n",
       "      <td>19.0</td>\n",
       "      <td>0.89</td>\n",
       "      <td>18.9</td>\n",
       "    </tr>\n",
       "    <tr>\n",
       "      <th>33</th>\n",
       "      <td>North Carolina</td>\n",
       "      <td>1.0</td>\n",
       "      <td>19.1</td>\n",
       "      <td>1.00</td>\n",
       "      <td>19.1</td>\n",
       "    </tr>\n",
       "  </tbody>\n",
       "</table>\n",
       "</div>"
      ],
      "text/plain": [
       "             state  participation_2017  composite_2017  participation_2018  \\\n",
       "28          Nevada                 1.0            17.8                1.00   \n",
       "24     Mississippi                 1.0            18.6                1.00   \n",
       "40  South Carolina                 1.0            18.7                1.00   \n",
       "11          Hawaii                 0.9            19.0                0.89   \n",
       "33  North Carolina                 1.0            19.1                1.00   \n",
       "\n",
       "    composite_2018  \n",
       "28            17.7  \n",
       "24            18.6  \n",
       "40            18.3  \n",
       "11            18.9  \n",
       "33            19.1  "
      ]
     },
     "execution_count": 62,
     "metadata": {},
     "output_type": "execute_result"
    }
   ],
   "source": [
    "act_1718.sort_values(by=['composite_2017'], ascending=True).head()"
   ]
  },
  {
   "cell_type": "code",
   "execution_count": 63,
   "metadata": {},
   "outputs": [
    {
     "data": {
      "text/html": [
       "<div>\n",
       "<style scoped>\n",
       "    .dataframe tbody tr th:only-of-type {\n",
       "        vertical-align: middle;\n",
       "    }\n",
       "\n",
       "    .dataframe tbody tr th {\n",
       "        vertical-align: top;\n",
       "    }\n",
       "\n",
       "    .dataframe thead th {\n",
       "        text-align: right;\n",
       "    }\n",
       "</style>\n",
       "<table border=\"1\" class=\"dataframe\">\n",
       "  <thead>\n",
       "    <tr style=\"text-align: right;\">\n",
       "      <th></th>\n",
       "      <th>state</th>\n",
       "      <th>participation_2017</th>\n",
       "      <th>composite_2017</th>\n",
       "      <th>participation_2018</th>\n",
       "      <th>composite_2018</th>\n",
       "    </tr>\n",
       "  </thead>\n",
       "  <tbody>\n",
       "    <tr>\n",
       "      <th>28</th>\n",
       "      <td>Nevada</td>\n",
       "      <td>1.0</td>\n",
       "      <td>17.8</td>\n",
       "      <td>1.00</td>\n",
       "      <td>17.7</td>\n",
       "    </tr>\n",
       "    <tr>\n",
       "      <th>40</th>\n",
       "      <td>South Carolina</td>\n",
       "      <td>1.0</td>\n",
       "      <td>18.7</td>\n",
       "      <td>1.00</td>\n",
       "      <td>18.3</td>\n",
       "    </tr>\n",
       "    <tr>\n",
       "      <th>24</th>\n",
       "      <td>Mississippi</td>\n",
       "      <td>1.0</td>\n",
       "      <td>18.6</td>\n",
       "      <td>1.00</td>\n",
       "      <td>18.6</td>\n",
       "    </tr>\n",
       "    <tr>\n",
       "      <th>11</th>\n",
       "      <td>Hawaii</td>\n",
       "      <td>0.9</td>\n",
       "      <td>19.0</td>\n",
       "      <td>0.89</td>\n",
       "      <td>18.9</td>\n",
       "    </tr>\n",
       "    <tr>\n",
       "      <th>0</th>\n",
       "      <td>Alabama</td>\n",
       "      <td>1.0</td>\n",
       "      <td>19.2</td>\n",
       "      <td>1.00</td>\n",
       "      <td>19.1</td>\n",
       "    </tr>\n",
       "  </tbody>\n",
       "</table>\n",
       "</div>"
      ],
      "text/plain": [
       "             state  participation_2017  composite_2017  participation_2018  \\\n",
       "28          Nevada                 1.0            17.8                1.00   \n",
       "40  South Carolina                 1.0            18.7                1.00   \n",
       "24     Mississippi                 1.0            18.6                1.00   \n",
       "11          Hawaii                 0.9            19.0                0.89   \n",
       "0          Alabama                 1.0            19.2                1.00   \n",
       "\n",
       "    composite_2018  \n",
       "28            17.7  \n",
       "40            18.3  \n",
       "24            18.6  \n",
       "11            18.9  \n",
       "0             19.1  "
      ]
     },
     "execution_count": 63,
     "metadata": {},
     "output_type": "execute_result"
    }
   ],
   "source": [
    "act_1718.sort_values(by=['composite_2018'], ascending=True).head()"
   ]
  },
  {
   "cell_type": "markdown",
   "metadata": {},
   "source": [
    "### Do any states show have >50% participation on both tests each year?\n",
    "\n",
    "5 states had 50% participation for both test either in 2017 and 2018.\n",
    "1) Florida\n",
    "2) Georgia\n",
    "3) Hawaii\n",
    "4) North Carolina\n",
    "5) South Carolina\n",
    "\n",
    "Of the 5 states, 3 states had 50% for both test in both years.\n",
    "1) Florida\n",
    "2) Georgia\n",
    "3) Hawaii"
   ]
  },
  {
   "cell_type": "code",
   "execution_count": 64,
   "metadata": {},
   "outputs": [],
   "source": [
    "# masking the conditionals\n",
    "above_50_either_year = ((sat_act_1718['participation_2017_sat'] > 0.5) & (sat_act_1718['participation_2017_act'] > .5)) | ((sat_act_1718['participation_2018_sat'] > 0.5) & (sat_act_1718['participation_2018_act'] > .5))\n",
    "# masking the conditionals\n",
    "above_50_both_year = ((sat_act_1718['participation_2017_sat'] > 0.5) & (sat_act_1718['participation_2017_act'] > .5)) & ((sat_act_1718['participation_2018_sat'] > 0.5) & (sat_act_1718['participation_2018_act'] > .5))"
   ]
  },
  {
   "cell_type": "code",
   "execution_count": 65,
   "metadata": {},
   "outputs": [
    {
     "data": {
      "text/plain": [
       "9            Florida\n",
       "10           Georgia\n",
       "11            Hawaii\n",
       "33    North Carolina\n",
       "40    South Carolina\n",
       "Name: state, dtype: object"
      ]
     },
     "execution_count": 65,
     "metadata": {},
     "output_type": "execute_result"
    }
   ],
   "source": [
    "sat_act_1718.loc[above_50_either_year, 'state']"
   ]
  },
  {
   "cell_type": "code",
   "execution_count": 66,
   "metadata": {},
   "outputs": [
    {
     "data": {
      "text/plain": [
       "9     Florida\n",
       "10    Georgia\n",
       "11     Hawaii\n",
       "Name: state, dtype: object"
      ]
     },
     "execution_count": 66,
     "metadata": {},
     "output_type": "execute_result"
    }
   ],
   "source": [
    "sat_act_1718.loc[above_50_both_year, 'state']"
   ]
  },
  {
   "cell_type": "markdown",
   "metadata": {},
   "source": [
    "## Visualize the Data\n",
    "\n",
    "There's not a magic bullet recommendation for the right number of plots to understand a given dataset, but visualizing your data is *always* a good idea. Not only does it allow you to quickly convey your findings (even if you have a non-technical audience), it will often reveal trends in your data that escaped you when you were looking only at numbers. It is important to not only create visualizations, but to **interpret your visualizations** as well.\n",
    "\n",
    "**Every plot should**:\n",
    "- Have a title\n",
    "- Have axis labels\n",
    "- Have appropriate tick labels\n",
    "- Text is legible in a plot\n",
    "- Plots demonstrate meaningful and valid relationships\n",
    "- Have an interpretation to aid understanding\n",
    "\n",
    "Here is an example of what your plots should look like following the above guidelines. Note that while the content of this example is unrelated, the principles of visualization hold:\n",
    "\n",
    "![](https://snag.gy/hCBR1U.jpg)\n",
    "*Interpretation: The above image shows that as we increase our spending on advertising, our sales numbers also tend to increase. There is a positive correlation between advertising spending and sales.*\n",
    "\n",
    "---\n",
    "\n",
    "Here are some prompts to get you started with visualizations. Feel free to add additional visualizations as you see fit:\n",
    "1. Use Seaborn's heatmap with pandas `.corr()` to visualize correlations between all numeric features.\n",
    "    - Heatmaps are generally not appropriate for presentations, and should often be excluded from reports as they can be visually overwhelming. **However**, they can be extremely useful in identify relationships of potential interest (as well as identifying potential collinearity before modeling).\n",
    "    - Please take time to format your output, adding a title. Look through some of the additional arguments and options. (Axis labels aren't really necessary, as long as the title is informative).\n",
    "2. Visualize distributions using histograms. If you have a lot, consider writing a custom function and use subplots.\n",
    "    - *OPTIONAL*: Summarize the underlying distributions of your features (in words & statistics)\n",
    "         - Be thorough in your verbal description of these distributions.\n",
    "         - Be sure to back up these summaries with statistics.\n",
    "         - We generally assume that data we sample from a population will be normally distributed. Do we observe this trend? Explain your answers for each distribution and how you think this will affect estimates made from these data.\n",
    "3. Plot and interpret boxplots. \n",
    "    - Boxplots demonstrate central tendency and spread in variables. In a certain sense, these are somewhat redundant with histograms, but you may be better able to identify clear outliers or differences in IQR, etc.\n",
    "    - Multiple values can be plotted to a single boxplot as long as they are of the same relative scale (meaning they have similar min/max values).\n",
    "    - Each boxplot should:\n",
    "        - Only include variables of a similar scale\n",
    "        - Have clear labels for each variable\n",
    "        - Have appropriate titles and labels\n",
    "4. Plot and interpret scatter plots to view relationships between features. Feel free to write a custom function, and subplot if you'd like. Functions save both time and space.\n",
    "    - Your plots should have:\n",
    "        - Two clearly labeled axes\n",
    "        - A proper title\n",
    "        - Colors and symbols that are clear and unmistakable\n",
    "5. Additional plots of your choosing.\n",
    "    - Are there any additional trends or relationships you haven't explored? Was there something interesting you saw that you'd like to dive further into? It's likely that there are a few more plots you might want to generate to support your narrative and recommendations that you are building toward. **As always, make sure you're interpreting your plots as you go**."
   ]
  },
  {
   "cell_type": "markdown",
   "metadata": {},
   "source": [
    "## Correlation Heatmap"
   ]
  },
  {
   "cell_type": "code",
   "execution_count": 67,
   "metadata": {},
   "outputs": [
    {
     "data": {
      "image/png": "[encoded data removed]",
      "text/plain": [
       "<Figure size 1152x648 with 2 Axes>"
      ]
     },
     "metadata": {
      "needs_background": "light"
     },
     "output_type": "display_data"
    }
   ],
   "source": [
    "plt.figure(figsize = (16,9))\n",
    "\n",
    "# Get correlation of variables.\n",
    "corr = sat_act_1718.corr()\n",
    "\n",
    "# Set up mask to be \"True\" in the upper right triangle.\n",
    "mask = np.zeros_like(corr)\n",
    "mask[np.triu_indices_from(mask)] = True\n",
    "\n",
    "# Plot the correlation heatmap, while masking the upper right triangle to be white.\n",
    "with sns.axes_style(\"white\"):\n",
    "    sns.heatmap(\n",
    "        corr, mask = mask,\n",
    "        square = True,\n",
    "        annot = True,\n",
    "        vmin = -1,\n",
    "        vmax = 1,\n",
    "        linewidths = .5,\n",
    "    )\n",
    "\n",
    "plt.title('Correlation Heatmap');"
   ]
  },
  {
   "cell_type": "markdown",
   "metadata": {},
   "source": [
    "The correlation heat map shows that:\n",
    "1) Participation in SAT is negatively correlated to participation in ACT.\n",
    "\n",
    "2) Participation in each test is negatively correlated to the scores of their own test but positively correlated to the scores of the other test."
   ]
  },
  {
   "cell_type": "markdown",
   "metadata": {},
   "source": [
    "## Histograms"
   ]
  },
  {
   "cell_type": "code",
   "execution_count": 68,
   "metadata": {},
   "outputs": [],
   "source": [
    "# creating a function to plot histograms\n",
    "def create_histplot(df, column_x, color_name, labelname, bins_num):\n",
    "    sns.histplot(\n",
    "    df[column_x],\n",
    "    color=color_name,\n",
    "    label=labelname,\n",
    "    bins=bins_num\n",
    "    )\n"
   ]
  },
  {
   "cell_type": "code",
   "execution_count": 69,
   "metadata": {
    "scrolled": false
   },
   "outputs": [
    {
     "data": {
      "image/png": "[encoded data removed]",
      "text/plain": [
       "<Figure size 864x504 with 4 Axes>"
      ]
     },
     "metadata": {
      "needs_background": "light"
     },
     "output_type": "display_data"
    }
   ],
   "source": [
    "plt.figure(figsize = (12, 7))\n",
    "\n",
    "# creating a histogram of average scores for SAT\n",
    "plt.subplot(2, 2, 1)\n",
    "create_histplot(sat_1718, 'total_2017', 'cyan', '2017', 15)\n",
    "plt.legend(loc='upper right')\n",
    "plt.xlabel('Average Total Scores (SAT)')\n",
    "\n",
    "\n",
    "plt.subplot(2, 2, 3)\n",
    "create_histplot(sat_1718, 'total_2018', 'cyan', '2018', 15)\n",
    "plt.legend(loc='upper right')\n",
    "plt.xlabel('Average Total Scores (SAT)')\n",
    "\n",
    "# creating a histogram of average scores for ACT\n",
    "plt.subplot(2, 2, 2)\n",
    "create_histplot(act_1718, 'composite_2017', 'yellow', '2017', 15)\n",
    "plt.legend(loc='upper right')\n",
    "plt.xlabel('Average Total Scores (ACT)')\n",
    "\n",
    "plt.subplot(2, 2, 4)\n",
    "create_histplot(act_1718, 'composite_2018', 'yellow', '2018', 15)\n",
    "plt.legend(loc='upper right')\n",
    "plt.xlabel('Average Total Scores (ACT)');\n"
   ]
  },
  {
   "cell_type": "markdown",
   "metadata": {},
   "source": [
    "The distribution for scores of SAT and ACT for both 2017 and 2018 are bimodal, the shape of the scores between the 2 years are similar.\n",
    "\n",
    "For SAT scores, the highest peak is around 1050 to 1100 and the second peak is around 1225 - 1275.\n",
    "\n",
    "For ACT scores, the highest peak is around 22 for 2017 and 20 for 2018. The second peak is around 20 for 2017 and 24 for 2018."
   ]
  },
  {
   "cell_type": "code",
   "execution_count": 70,
   "metadata": {
    "scrolled": false
   },
   "outputs": [
    {
     "data": {
      "image/png": "[encoded data removed]",
      "text/plain": [
       "<Figure size 864x504 with 4 Axes>"
      ]
     },
     "metadata": {
      "needs_background": "light"
     },
     "output_type": "display_data"
    }
   ],
   "source": [
    "plt.figure(figsize = (12, 7))\n",
    "\n",
    "# creating a histogram of participation rates for SAT\n",
    "plt.subplot(2, 2, 1)\n",
    "create_histplot(sat_1718, 'participation_2017', 'cyan', '2017', 15)\n",
    "plt.legend(loc='upper right')\n",
    "plt.xlabel('Participation Rate (SAT)')\n",
    "\n",
    "plt.subplot(2, 2, 3)\n",
    "create_histplot(sat_1718, 'participation_2018', 'cyan', '2018', 15)\n",
    "plt.legend(loc='upper right')\n",
    "plt.xlabel('Participation Rate (SAT)')\n",
    "\n",
    "\n",
    "# creating a histogram of participation rates for ACT\n",
    "plt.subplot(2, 2, 2)\n",
    "create_histplot(act_1718, 'participation_2017', 'yellow', '2017', 15)\n",
    "plt.legend(loc='upper right')\n",
    "plt.xlabel('Participation Rate (ACT)')\n",
    "\n",
    "plt.subplot(2, 2, 4)\n",
    "create_histplot(act_1718, 'participation_2018', 'yellow', '2018', 15)\n",
    "plt.legend(loc='upper right')\n",
    "plt.xlabel('Participation Rate (ACT)');"
   ]
  },
  {
   "cell_type": "markdown",
   "metadata": {},
   "source": [
    "The distribution for participation rate of SAT and ACT for both 2017 and 2018 are also bimodal.\n",
    "\n",
    "There are more states with a lower participation rate for SAT compared to ACT for both 2017 and 2018.\n",
    "\n",
    "However, at the lower participation rate for ACT, there are less states clustered around 00 - 10% and more states clustered around 20% - 40%.\n",
    "\n",
    "It seems that ACT is the more popular choice between the two test.\n"
   ]
  },
  {
   "cell_type": "markdown",
   "metadata": {},
   "source": [
    "## Boxplot"
   ]
  },
  {
   "cell_type": "code",
   "execution_count": 71,
   "metadata": {},
   "outputs": [],
   "source": [
    "# creating a subset of SAT scores for 2017\n",
    "sat_subset1 = sat_1718.loc[:, ['total_2017']]\n",
    "sat_subset1['type'] = 'sat score by state 2017'\n",
    "sat_subset1.columns = ['score', 'type']\n",
    "\n",
    "# creating a subset of SAT scores for 2018\n",
    "sat_subset2 = sat_1718.loc[:, ['total_2018']]\n",
    "sat_subset2['type'] = 'sat score by state 2018'\n",
    "sat_subset2.columns = ['score', 'type']\n",
    "\n",
    "# creating a subset of 25th percentile SAT scores for colleges\n",
    "colleges_subset = sat_act_by_college.loc[:, ['sat 25th percentile']]\n",
    "colleges_subset['type'] = 'sat score by college acceptance'\n",
    "colleges_subset.columns = ['score', 'type']\n",
    "\n",
    "# creating the list of subsets dataframes\n",
    "sat_list = [colleges_subset, sat_subset2, sat_subset1]"
   ]
  },
  {
   "cell_type": "code",
   "execution_count": 72,
   "metadata": {},
   "outputs": [],
   "source": [
    "# creating a subset of SAT scores for 2017\n",
    "act_subset1 = act_1718.loc[:, ['composite_2017']]\n",
    "act_subset1['type'] = 'act score by state 2017'\n",
    "act_subset1.columns = ['score', 'type']\n",
    "\n",
    "# creating a subset of SAT scores for 2018\n",
    "act_subset2 = act_1718.loc[:, ['composite_2018']]\n",
    "act_subset2['type'] = 'act score by state 2018'\n",
    "act_subset2.columns = ['score', 'type']\n",
    "\n",
    "# creating a subset of 25th percentile ACT scores for colleges\n",
    "colleges_subset_act = sat_act_by_college.loc[:, ['act 25th percentile']]\n",
    "colleges_subset_act['type'] = 'act score by college acceptance'\n",
    "colleges_subset_act.columns = ['score', 'type']\n",
    "\n",
    "# creating the list of subsets dataframes\n",
    "act_list = [colleges_subset_act, act_subset2, act_subset1]"
   ]
  },
  {
   "cell_type": "code",
   "execution_count": 100,
   "metadata": {},
   "outputs": [
    {
     "data": {
      "image/png": "[encoded data removed]",
      "text/plain": [
       "<Figure size 864x864 with 2 Axes>"
      ]
     },
     "metadata": {
      "needs_background": "light"
     },
     "output_type": "display_data"
    }
   ],
   "source": [
    "plt.figure(figsize = (12, 12))\n",
    "\n",
    "# Plotting of a boxplot of the SAT subsets\n",
    "plt.subplot(2, 1, 1)\n",
    "sns.boxplot(\n",
    "    data=pd.concat(sat_list),\n",
    "    x='score',\n",
    "    y='type'\n",
    ").set(xlabel='SAT scores', ylabel='')\n",
    "plt.vlines(x=1150, ymin = 0.4, ymax= 2.5, color='red')\n",
    "\n",
    "plt.subplot(2, 1, 2)\n",
    "sns.boxplot(\n",
    "    data=pd.concat(act_list),\n",
    "    x='score',\n",
    "    y='type'\n",
    ").set(xlabel='ACT scores', ylabel='')\n",
    "plt.vlines(x=24, ymin = 0.4, ymax= 2.5, color='red');"
   ]
  },
  {
   "cell_type": "markdown",
   "metadata": {},
   "source": [
    "Based on the boxplot:\n",
    "\n",
    "1) The median 25th percentile acceptance for SAT scores lies within the Inter-Quartile Range (IQR) for average SAT scores in both 2017 and 2018.\n",
    "\n",
    "2) The median 25th percentile acceptance for ACT scores lies outside the IQR for average ACT scores in both 2017 and 2018.\n",
    "\n",
    "Hence, it would take above 75th percentile score to be accepted to college with ACT.\n"
   ]
  },
  {
   "cell_type": "markdown",
   "metadata": {},
   "source": [
    "## Scatterplot"
   ]
  },
  {
   "cell_type": "code",
   "execution_count": 74,
   "metadata": {},
   "outputs": [],
   "source": [
    "# creating a function for plotting scatterplots with regression line.\n",
    "def create_scatter(df, column_x, column_y, labelname, title):\n",
    "    sns.regplot(\n",
    "    x=df[column_x],\n",
    "    y=df[column_y],\n",
    "    label = labelname\n",
    "    )\n",
    "    \n",
    "    plt.legend(loc = 'upper right')\n",
    "    plt.title(title)"
   ]
  },
  {
   "cell_type": "code",
   "execution_count": 75,
   "metadata": {},
   "outputs": [
    {
     "data": {
      "image/png": "[encoded data removed]",
      "text/plain": [
       "<Figure size 864x504 with 2 Axes>"
      ]
     },
     "metadata": {
      "needs_background": "light"
     },
     "output_type": "display_data"
    }
   ],
   "source": [
    "plt.figure(figsize = (12, 7))\n",
    "\n",
    "# Creating scatterplot for Participation rate vs Total Score for SAT for both years\n",
    "plt.subplot(1, 2, 1)\n",
    "create_scatter(sat_1718, 'participation_2017','total_2017', '2017', 'Participation Rates versus Average Total Score (SAT)')\n",
    "\n",
    "plt.subplot(1, 2, 1)\n",
    "create_scatter(sat_1718, 'participation_2018','total_2018', '2018', 'Participation Rates versus Average Total Score (SAT)')\n",
    "plt.xlabel('Participation Rate')\n",
    "plt.ylabel('Average Total Score')\n",
    "\n",
    "\n",
    "# Creating scatterplot for Participation rate vs Total Score for ACT for both years\n",
    "plt.subplot(1, 2, 2)\n",
    "create_scatter(act_1718, 'participation_2017','composite_2017', '2017', 'Participation Rates versus Average Total Score (ACT)')\n",
    "\n",
    "plt.subplot(1, 2, 2)\n",
    "create_scatter(act_1718, 'participation_2018','composite_2018', '2018', 'Participation Rates versus Average Total Score (ACT)')\n",
    "plt.xlabel('Participation Rate')\n",
    "plt.ylabel('Average Composite Score');\n"
   ]
  },
  {
   "cell_type": "code",
   "execution_count": 76,
   "metadata": {},
   "outputs": [
    {
     "data": {
      "image/png": "[encoded data removed]",
      "text/plain": [
       "<Figure size 864x504 with 2 Axes>"
      ]
     },
     "metadata": {
      "needs_background": "light"
     },
     "output_type": "display_data"
    }
   ],
   "source": [
    "plt.figure(figsize = (12, 7))\n",
    "\n",
    "# Creating scatterplot for Participation rate of SAT vs ACT for both years\n",
    "plt.subplot(1, 2, 1)\n",
    "create_scatter(sat_act_1718, 'participation_2017_sat','participation_2017_act', '2017', 'SAT versus ACT Participation rate (2017)')\n",
    "\n",
    "plt.subplot(1, 2, 2)\n",
    "create_scatter(sat_act_1718, 'participation_2018_sat','participation_2018_act', '2018', 'SAT versus ACT Participation (2018)')\n",
    "\n"
   ]
  },
  {
   "cell_type": "code",
   "execution_count": 77,
   "metadata": {},
   "outputs": [
    {
     "data": {
      "image/png": "[encoded data removed]",
      "text/plain": [
       "<Figure size 864x504 with 2 Axes>"
      ]
     },
     "metadata": {
      "needs_background": "light"
     },
     "output_type": "display_data"
    }
   ],
   "source": [
    "plt.figure(figsize = (12, 7))\n",
    "\n",
    "# Creating scatterplot for Total Score for SAT vs ACT for both years\n",
    "plt.subplot(1, 2, 1)\n",
    "create_scatter(sat_act_1718, 'total_2017','composite_2017', '2017', 'SAT versus ACT scores (2017)')\n",
    "\n",
    "plt.subplot(1, 2, 2)\n",
    "create_scatter(sat_act_1718, 'total_2018','composite_2018', '2018', 'SAT versus ACT scores (2018)')\n",
    "\n"
   ]
  },
  {
   "cell_type": "markdown",
   "metadata": {},
   "source": [
    "From the scatterplots, the following trends can be seen:\n",
    "1) There is a negative correlation between participation rates and total score for both SAT and ACT. The results between the 2 years are also similiar.\n",
    "2) There is a negative correlation between participation rates between SAT and ACT.\n",
    "3) There is a weak negative correlation between SAT total scores and ACT composite scores."
   ]
  },
  {
   "cell_type": "markdown",
   "metadata": {},
   "source": [
    "## Barchart"
   ]
  },
  {
   "cell_type": "code",
   "execution_count": 78,
   "metadata": {},
   "outputs": [
    {
     "data": {
      "image/png": "[encoded data removed]",
      "text/plain": [
       "<Figure size 720x432 with 1 Axes>"
      ]
     },
     "metadata": {
      "needs_background": "light"
     },
     "output_type": "display_data"
    }
   ],
   "source": [
    "plt.figure(figsize = (10, 6))\n",
    "\n",
    "# Plotting the number of test takers for SAT and ACT in 2017 and 2018\n",
    "sns.barplot(\n",
    "    data=total_overall_participation,\n",
    "    x='type',\n",
    "    y='test takers',\n",
    "    hue='year'\n",
    ").set(xlabel='Type of Test', ylabel='No. of Test Takers (in mil)')\n",
    "plt.title('Number of Test Takers for SAT and ACT')\n",
    "plt.legend(loc='upper right');"
   ]
  },
  {
   "cell_type": "markdown",
   "metadata": {},
   "source": [
    "From this barchart:\n",
    "1) The number of test takers for SAT had increased from below 1.75 mil to more than 2 mil while the number of test takers for ACT did not decrease by the same amount.\n",
    "\n",
    "2) More students took both tests in 2018 compared to 2017.\n",
    "\n",
    "3) Even though we noticed that more states had mandated to take ACTs instead, SAT still remains a popular choice for students as the number of test takers are still approximately the same for both SAT and ACT."
   ]
  },
  {
   "cell_type": "markdown",
   "metadata": {},
   "source": [
    "## Conclusions and Recommendations"
   ]
  },
  {
   "cell_type": "markdown",
   "metadata": {},
   "source": [
    "Based on your exploration of the data, what are you key takeaways and recommendations? Make sure to answer your question of interest or address your problem statement here."
   ]
  },
  {
   "cell_type": "markdown",
   "metadata": {},
   "source": [
    "From all the analysis, based on the 25th percentile of SAT and ACT scores by students who were accepted in the various college, there were more average SAT scores of the different states which will be accepted compared to the average ACT scores of the different states.\n",
    "\n",
    "Students would have to score above the 75th percentile of ACT scores to be accepted by a majority of the colleges. Hence, I will recommend for graduating high school students to take SAT over ACT.\n",
    "\n",
    "However, students should still focus on ACT if the state mandates taking ACT and only attempt to take the SAT if they are confident in splitting their attention\n",
    "\n",
    "It is also recommended for colleges to review their admissions as there is an apparent disparity between the acceptance of SAT scores vs ACT scores.\n",
    "\n",
    "\n",
    "*Future areas of investigations*\n",
    "- The number of students accepted by Colleges with SAT scores or ACT scores or both\n",
    "- Whether the college degrees would also have a disparity in acceptance for SAT and ACT scores.\n"
   ]
  },
  {
   "cell_type": "markdown",
   "metadata": {},
   "source": [
    "Don't forget to create your README!\n",
    "\n",
    "**To-Do:** *If you combine your problem statement, data dictionary, brief summary of your analysis, and conclusions/recommendations, you have an amazing README.md file that quickly aligns your audience to the contents of your project.* Don't forget to cite your data sources!"
   ]
  }
 ],
 "metadata": {
  "anaconda-cloud": {},
  "kernelspec": {
   "display_name": "Python 3 (ipykernel)",
   "language": "python",
   "name": "python3"
  },
  "language_info": {
   "codemirror_mode": {
    "name": "ipython",
    "version": 3
   },
   "file_extension": ".py",
   "mimetype": "text/x-python",
   "name": "python",
   "nbconvert_exporter": "python",
   "pygments_lexer": "ipython3",
   "version": "3.9.7"
  }
 },
 "nbformat": 4,
 "nbformat_minor": 4
}
